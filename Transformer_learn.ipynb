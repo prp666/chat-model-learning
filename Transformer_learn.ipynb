{
 "cells": [
  {
   "cell_type": "markdown",
   "id": "3dc84819-8105-41d8-97b4-b340a4128eee",
   "metadata": {},
   "source": [
    "## 这是我的transformer的学习笔记，我将要实现三个任务，情感分类，命名个体识别，还有就是我的decoder—only模型来进行文本的生成"
   ]
  },
  {
   "cell_type": "markdown",
   "id": "5d624355-977e-42d1-b02d-659e5dac1e07",
   "metadata": {},
   "source": [
    "## Text classification"
   ]
  },
  {
   "cell_type": "markdown",
   "id": "bc27c2ea-1012-4c08-b666-b34b4dbc9cb3",
   "metadata": {},
   "source": [
    "### 使用IMdb影音评论数据"
   ]
  },
  {
   "cell_type": "code",
   "execution_count": null,
   "id": "31e1a85d-5762-4f6a-a4e5-38ec47d601c6",
   "metadata": {},
   "outputs": [],
   "source": [
    "!pip install datasets"
   ]
  },
  {
   "cell_type": "code",
   "execution_count": 40,
   "id": "19a6cb4e-0b59-47d2-9330-a51be70a145d",
   "metadata": {},
   "outputs": [],
   "source": [
    "from datasets import load_dataset"
   ]
  },
  {
   "cell_type": "code",
   "execution_count": 41,
   "id": "fe9255cb-bd5a-4ce9-b6cc-55d51bd4ec04",
   "metadata": {},
   "outputs": [],
   "source": [
    "dataset = load_dataset(\"imdb\")"
   ]
  },
  {
   "cell_type": "code",
   "execution_count": 42,
   "id": "5d95f91e-7753-4b0a-b877-ce88413392a2",
   "metadata": {},
   "outputs": [
    {
     "name": "stdout",
     "output_type": "stream",
     "text": [
      "DatasetDict({\n",
      "    train: Dataset({\n",
      "        features: ['text', 'label'],\n",
      "        num_rows: 25000\n",
      "    })\n",
      "    test: Dataset({\n",
      "        features: ['text', 'label'],\n",
      "        num_rows: 25000\n",
      "    })\n",
      "    unsupervised: Dataset({\n",
      "        features: ['text', 'label'],\n",
      "        num_rows: 50000\n",
      "    })\n",
      "})\n"
     ]
    }
   ],
   "source": [
    "print(dataset)"
   ]
  },
  {
   "cell_type": "code",
   "execution_count": null,
   "id": "bb811993-4b8f-4cbe-a35e-65ebb7539d97",
   "metadata": {},
   "outputs": [],
   "source": [
    "print(dataset[\"train\"][0])"
   ]
  },
  {
   "cell_type": "code",
   "execution_count": 44,
   "id": "346dc04d-1c6b-4849-b52f-e871bd6e8625",
   "metadata": {},
   "outputs": [],
   "source": [
    "from transformers import AutoTokenizer, AutoModel"
   ]
  },
  {
   "cell_type": "code",
   "execution_count": 45,
   "id": "a2e096a9-b06c-4ade-802e-540a51774ca2",
   "metadata": {},
   "outputs": [],
   "source": [
    "train_data = dataset[\"train\"]\n",
    "test_data = dataset[\"test\"]\n",
    "unsupervised_data = dataset[\"unsupervised\"]"
   ]
  },
  {
   "cell_type": "code",
   "execution_count": 46,
   "id": "32c75e37-e189-46cc-94e2-dc026161374b",
   "metadata": {},
   "outputs": [
    {
     "name": "stdout",
     "output_type": "stream",
     "text": [
      "Dataset({\n",
      "    features: ['text', 'label'],\n",
      "    num_rows: 25000\n",
      "})\n",
      "Dataset({\n",
      "    features: ['text', 'label'],\n",
      "    num_rows: 25000\n",
      "})\n",
      "Dataset({\n",
      "    features: ['text', 'label'],\n",
      "    num_rows: 50000\n",
      "})\n"
     ]
    }
   ],
   "source": [
    "print(train_data)\n",
    "print(test_data)\n",
    "print(unsupervised_data)"
   ]
  },
  {
   "cell_type": "code",
   "execution_count": null,
   "id": "d88ff3c2-95e5-4fcc-bb90-623f653ba0b9",
   "metadata": {},
   "outputs": [],
   "source": [
    "print(train_data[\"text\"][0])"
   ]
  },
  {
   "cell_type": "code",
   "execution_count": 48,
   "id": "2da94799-ed75-4a2d-814a-cf66775c1006",
   "metadata": {},
   "outputs": [
    {
     "name": "stdout",
     "output_type": "stream",
     "text": [
      "0\n"
     ]
    }
   ],
   "source": [
    "print(train_data[\"label\"][0])"
   ]
  },
  {
   "cell_type": "code",
   "execution_count": null,
   "id": "40a5dc33-9196-4410-a6fe-aef16605aa74",
   "metadata": {},
   "outputs": [],
   "source": [
    "print(unsupervised_data[\"text\"][0])"
   ]
  },
  {
   "cell_type": "code",
   "execution_count": 50,
   "id": "209b645c-1c45-4036-8e7e-07ec8c57fd04",
   "metadata": {},
   "outputs": [
    {
     "name": "stdout",
     "output_type": "stream",
     "text": [
      "-1\n"
     ]
    }
   ],
   "source": [
    "print(unsupervised_data[\"label\"][0])"
   ]
  },
  {
   "cell_type": "code",
   "execution_count": 53,
   "id": "7950d2be-93e9-4dcb-9c3d-2f40d2b5889c",
   "metadata": {},
   "outputs": [
    {
     "data": {
      "application/vnd.jupyter.widget-view+json": {
       "model_id": "f9b7beef16d74786aeedfe9a2b6f81e7",
       "version_major": 2,
       "version_minor": 0
      },
      "text/plain": [
       "Map:   0%|          | 0/25000 [00:00<?, ? examples/s]"
      ]
     },
     "metadata": {},
     "output_type": "display_data"
    },
    {
     "data": {
      "application/vnd.jupyter.widget-view+json": {
       "model_id": "798497fec4fb43038b633eea9d03a56e",
       "version_major": 2,
       "version_minor": 0
      },
      "text/plain": [
       "Map:   0%|          | 0/25000 [00:00<?, ? examples/s]"
      ]
     },
     "metadata": {},
     "output_type": "display_data"
    },
    {
     "data": {
      "application/vnd.jupyter.widget-view+json": {
       "model_id": "9331b78a2918494eb904cb0d5e93c304",
       "version_major": 2,
       "version_minor": 0
      },
      "text/plain": [
       "Map:   0%|          | 0/50000 [00:00<?, ? examples/s]"
      ]
     },
     "metadata": {},
     "output_type": "display_data"
    }
   ],
   "source": [
    "tokenizer = AutoTokenizer.from_pretrained(\"bert-base-uncased\")\n",
    "\n",
    "def tokenized(example):\n",
    "    return tokenizer(example[\"text\"], padding=\"max_length\", truncation=True, max_length=128)\n",
    "\n",
    "train_data = train_data.map(tokenized, batched=True)\n",
    "test_data = test_data.map(tokenized, batched=True)\n",
    "unsupervised_data = unsupervised_data.map(tokenized, batched=True)"
   ]
  },
  {
   "cell_type": "code",
   "execution_count": 54,
   "id": "2aa78d54-9390-4aec-ac8f-3e3075b32a31",
   "metadata": {},
   "outputs": [
    {
     "name": "stdout",
     "output_type": "stream",
     "text": [
      "Dataset({\n",
      "    features: ['text', 'label', 'input_ids', 'token_type_ids', 'attention_mask'],\n",
      "    num_rows: 25000\n",
      "})\n"
     ]
    }
   ],
   "source": [
    "print(train_data)"
   ]
  },
  {
   "cell_type": "code",
   "execution_count": 55,
   "id": "0870047a-3bb0-49e7-a3a1-3991d7ab129f",
   "metadata": {},
   "outputs": [
    {
     "name": "stdout",
     "output_type": "stream",
     "text": [
      "Dataset({\n",
      "    features: ['text', 'label', 'input_ids', 'token_type_ids', 'attention_mask'],\n",
      "    num_rows: 25000\n",
      "})\n"
     ]
    }
   ],
   "source": [
    "print(test_data)"
   ]
  },
  {
   "cell_type": "code",
   "execution_count": 56,
   "id": "1034c57e-e1e9-437d-8b52-bf11abcf1ccf",
   "metadata": {},
   "outputs": [
    {
     "name": "stdout",
     "output_type": "stream",
     "text": [
      "Dataset({\n",
      "    features: ['text', 'label', 'input_ids', 'token_type_ids', 'attention_mask'],\n",
      "    num_rows: 50000\n",
      "})\n"
     ]
    }
   ],
   "source": [
    "print(unsupervised_data)"
   ]
  },
  {
   "cell_type": "code",
   "execution_count": null,
   "id": "0a5bc421-cd6e-485e-ba93-06cf8ba77ba5",
   "metadata": {},
   "outputs": [],
   "source": [
    "# CUDA 12.1（推荐）\n",
    "!pip install torch torchvision torchaudio --index-url https://download.pytorch.org/whl/cu121"
   ]
  },
  {
   "cell_type": "code",
   "execution_count": 58,
   "id": "4cd1a35e-3353-4273-a5f5-e21218dd2528",
   "metadata": {},
   "outputs": [
    {
     "name": "stdout",
     "output_type": "stream",
     "text": [
      "2.5.1+cu121\n",
      "True\n"
     ]
    }
   ],
   "source": [
    "import torch\n",
    "\n",
    "print(torch.__version__)\n",
    "print(torch.cuda.is_available())\n",
    "train_data.set_format(type=\"torch\", columns=[\"label\", \"input_ids\", \"attention_mask\"])\n",
    "test_data.set_format(type=\"torch\", columns=[\"label\", \"input_ids\", \"attention_mask\"])\n",
    "unsupervised_data.set_format(type=\"torch\", columns=[\"label\", \"input_ids\", \"attention_mask\"])"
   ]
  },
  {
   "cell_type": "code",
   "execution_count": 59,
   "id": "d2fc3667-f60d-4f4d-9dd9-32928b7f3ceb",
   "metadata": {},
   "outputs": [],
   "source": [
    "from torch.utils.data import DataLoader"
   ]
  },
  {
   "cell_type": "code",
   "execution_count": 60,
   "id": "40517ac4-70d9-4b11-a756-fffbb716c630",
   "metadata": {},
   "outputs": [],
   "source": [
    "train_data_loader = DataLoader(train_data, batch_size=24, shuffle=True)\n",
    "test_data_loader = DataLoader(test_data, batch_size=24, shuffle=False)\n",
    "unsupervised_data_loader = DataLoader(unsupervised_data, batch_size=24, shuffle=True)"
   ]
  },
  {
   "cell_type": "code",
   "execution_count": 61,
   "id": "11eab76c-6cfb-4915-9974-071516d5fc07",
   "metadata": {},
   "outputs": [],
   "source": [
    "import torch.nn as nn"
   ]
  },
  {
   "cell_type": "code",
   "execution_count": 74,
   "id": "435c6763-c157-4706-9400-f154a2e2baf3",
   "metadata": {},
   "outputs": [],
   "source": [
    "class MyBert(nn.Module):\n",
    "    def __init__(self, model_name=\"bert-base-uncased\", num_labels=2):\n",
    "        super().__init__()\n",
    "        self.bert = AutoModel.from_pretrained(\"bert-base-uncased\")\n",
    "        self.last_layer = nn.Linear(in_features=self.bert.config.hidden_size, out_features=num_labels)\n",
    "\n",
    "    def forward(self, input_ids, attention_mask):\n",
    "        outputs = self.bert(input_ids=input_ids, attention_mask= attention_mask)\n",
    "        cls_output = outputs.pooler_output\n",
    "        return self.last_layer(cls_output)"
   ]
  },
  {
   "cell_type": "code",
   "execution_count": 75,
   "id": "8a512c9a-7568-4f74-9016-24f6f2227576",
   "metadata": {},
   "outputs": [
    {
     "name": "stdout",
     "output_type": "stream",
     "text": [
      "cuda\n"
     ]
    }
   ],
   "source": [
    "device =\"cuda\" if torch.cuda.is_available() else \"cpu\"\n",
    "print(device)"
   ]
  },
  {
   "cell_type": "code",
   "execution_count": 76,
   "id": "f3f44805-496f-4ab4-b92e-dcd6175a5c4d",
   "metadata": {},
   "outputs": [],
   "source": [
    "from tqdm import tqdm"
   ]
  },
  {
   "cell_type": "code",
   "execution_count": 77,
   "id": "4d1e6816-f1f5-44ca-85c0-19d967561936",
   "metadata": {},
   "outputs": [
    {
     "name": "stderr",
     "output_type": "stream",
     "text": [
      "epoch1: 100%|██████████████████████████████████████████████████████████████████████████████████████████████████████████████████████████████████| 1042/1042 [05:04<00:00,  3.42it/s]\n",
      "epoch2: 100%|██████████████████████████████████████████████████████████████████████████████████████████████████████████████████████████████████| 1042/1042 [05:06<00:00,  3.40it/s]\n",
      "epoch3: 100%|██████████████████████████████████████████████████████████████████████████████████████████████████████████████████████████████████| 1042/1042 [05:06<00:00,  3.40it/s]\n"
     ]
    }
   ],
   "source": [
    "model = MyBert()\n",
    "optimizer = torch.optim.Adam(model.parameters(), lr=1e-5)\n",
    "loss_fn = nn.CrossEntropyLoss()\n",
    "\n",
    "\n",
    "model.to(device)\n",
    "model.train()\n",
    "for epoch in range(3):\n",
    "    for batch in tqdm(train_data_loader, desc=f\"epoch{epoch+1}\"):\n",
    "        optimizer.zero_grad()\n",
    "        input_ids = batch[\"input_ids\"].to(device)\n",
    "        attention_mask = batch[\"attention_mask\"].to(device)\n",
    "        label = batch[\"label\"].to(device)\n",
    "        \n",
    "        output = model(input_ids, attention_mask)\n",
    "        loss = loss_fn(output, label)\n",
    "        loss.backward()\n",
    "        optimizer.step()"
   ]
  },
  {
   "cell_type": "code",
   "execution_count": 78,
   "id": "1f7ad399-41ed-40b6-8fc3-7516da408ad9",
   "metadata": {},
   "outputs": [
    {
     "name": "stdout",
     "output_type": "stream",
     "text": [
      "Requirement already satisfied: scikit-learn in c:\\users\\prp\\.virtualenvs\\ra-bkpwpxui\\lib\\site-packages (1.7.0)\n",
      "Requirement already satisfied: numpy>=1.22.0 in c:\\users\\prp\\.virtualenvs\\ra-bkpwpxui\\lib\\site-packages (from scikit-learn) (2.3.0)\n",
      "Requirement already satisfied: scipy>=1.8.0 in c:\\users\\prp\\.virtualenvs\\ra-bkpwpxui\\lib\\site-packages (from scikit-learn) (1.15.3)\n",
      "Requirement already satisfied: joblib>=1.2.0 in c:\\users\\prp\\.virtualenvs\\ra-bkpwpxui\\lib\\site-packages (from scikit-learn) (1.5.1)\n",
      "Requirement already satisfied: threadpoolctl>=3.1.0 in c:\\users\\prp\\.virtualenvs\\ra-bkpwpxui\\lib\\site-packages (from scikit-learn) (3.6.0)\n"
     ]
    },
    {
     "name": "stderr",
     "output_type": "stream",
     "text": [
      "\n",
      "[notice] A new release of pip is available: 25.0.1 -> 25.1.1\n",
      "[notice] To update, run: python.exe -m pip install --upgrade pip\n"
     ]
    }
   ],
   "source": [
    "!pip install scikit-learn"
   ]
  },
  {
   "cell_type": "code",
   "execution_count": 79,
   "id": "9c18d7aa-7b6c-421c-8d5b-7c0942843400",
   "metadata": {},
   "outputs": [],
   "source": [
    "from sklearn.metrics import f1_score, classification_report"
   ]
  },
  {
   "cell_type": "code",
   "execution_count": 80,
   "id": "cc36167e-b371-4782-89a3-288697b7b731",
   "metadata": {},
   "outputs": [],
   "source": [
    "model.eval()\n",
    "all_preds = []\n",
    "all_labels = []\n",
    "\n",
    "with torch.no_grad():\n",
    "    for batch in test_data_loader:\n",
    "        input_ids = batch[\"input_ids\"].to(device)\n",
    "        attention_mask = batch[\"attention_mask\"].to(device)\n",
    "        labels = batch[\"label\"].to(device)\n",
    "\n",
    "        outputs = model(input_ids, attention_mask)\n",
    "        preds = torch.argmax(outputs, dim=1)\n",
    "\n",
    "        #extend是把一个对象拆开，每一项放入列表中\n",
    "        #append是把一个对象直接放入列表中\n",
    "        all_preds.extend(preds.cpu().numpy())\n",
    "        all_labels.extend(labels.cpu().numpy())\n",
    "\n",
    "f1score = f1_score(all_labels, all_preds, average=\"macro\")\n",
    "classification_repo = classification_report(all_labels, all_preds)"
   ]
  },
  {
   "cell_type": "code",
   "execution_count": 83,
   "id": "2f2eb9e5-97ad-4bf4-bfd5-81b54560b361",
   "metadata": {},
   "outputs": [
    {
     "name": "stdout",
     "output_type": "stream",
     "text": [
      "f1_score 0.8881850577667356\n",
      "              precision    recall  f1-score   support\n",
      "\n",
      "           0       0.90      0.88      0.89     12500\n",
      "           1       0.88      0.90      0.89     12500\n",
      "\n",
      "    accuracy                           0.89     25000\n",
      "   macro avg       0.89      0.89      0.89     25000\n",
      "weighted avg       0.89      0.89      0.89     25000\n",
      "\n"
     ]
    }
   ],
   "source": [
    "print(f\"f1_score {f1score}\")\n",
    "print(classification_repo)"
   ]
  },
  {
   "cell_type": "code",
   "execution_count": 84,
   "id": "f01a1f22-1f4a-4117-aa65-57add8e0121e",
   "metadata": {},
   "outputs": [
    {
     "data": {
      "text/plain": [
       "('mybert_tokenizer/tokenizer_config.json',\n",
       " 'mybert_tokenizer/special_tokens_map.json',\n",
       " 'mybert_tokenizer/vocab.txt',\n",
       " 'mybert_tokenizer/added_tokens.json',\n",
       " 'mybert_tokenizer/tokenizer.json')"
      ]
     },
     "execution_count": 84,
     "metadata": {},
     "output_type": "execute_result"
    }
   ],
   "source": [
    "torch.save(model.state_dict(), \"my_custom_model.pt\")\n",
    "tokenizer.save_pretrained(\"mybert_tokenizer/\")"
   ]
  },
  {
   "cell_type": "code",
   "execution_count": null,
   "id": "5b4f49e8-8834-454b-8400-f7b24721f7c1",
   "metadata": {},
   "outputs": [],
   "source": [
    "!pip install gradio"
   ]
  },
  {
   "cell_type": "code",
   "execution_count": 5,
   "id": "81ab8566-8136-4500-89c2-d4c0447c2df3",
   "metadata": {},
   "outputs": [],
   "source": [
    "import torch \n",
    "from torch import nn as nn\n",
    "import gradio as gr\n",
    "from transformers import AutoTokenizer, AutoModel"
   ]
  },
  {
   "cell_type": "code",
   "execution_count": null,
   "id": "2f913988-04f4-4240-a428-3da701d253a0",
   "metadata": {},
   "outputs": [],
   "source": [
    "class MyBert(nn.Module):\n",
    "    def __init__(self, model_name=\"bert-base-uncased\", num_labels=2):\n",
    "        super().__init__()\n",
    "        self.bert = AutoModel.from_pretrained(\"bert-base-uncased\")\n",
    "        self.last_layer = nn.Linear(in_features=self.bert.config.hidden_size, out_features=num_labels)\n",
    "\n",
    "    def forward(self, input_ids, attention_mask):\n",
    "        outputs = self.bert(input_ids=input_ids, attention_mask= attention_mask)\n",
    "        cls_output = outputs.pooler_output\n",
    "        return self.last_layer(cls_output)\n",
    "\n",
    "\n",
    "device = \"cuda\" if torch.cuda.is_available() else \"cpu\"\n",
    "\n",
    "tokenizer = AutoTokenizer.from_pretrained(\"mybert_tokenizer\")\n",
    "model = MyBert()\n",
    "model.load_state_dict(torch.load(\"my_custom_model.pt\", map_location=device))\n",
    "model.to(device)\n",
    "model.eval()"
   ]
  },
  {
   "cell_type": "code",
   "execution_count": 7,
   "id": "d97dd118-b234-4954-b4f7-55f581e15b2a",
   "metadata": {},
   "outputs": [],
   "source": [
    "def predict(text):\n",
    "    inputs = tokenizer(text, return_tensors=\"pt\", max_length=128, padding=\"max_length\",truncation=True)\n",
    "    input_ids = inputs[\"input_ids\"].to(device)\n",
    "    attention_mask = inputs[\"attention_mask\"].to(device)\n",
    "\n",
    "    with torch.no_grad():\n",
    "        logistics = model(input_ids, attention_mask)\n",
    "        result = torch.argmax(logistics, dim=1).item()\n",
    "\n",
    "    return \"positive\" if result == 1 else \"negative\""
   ]
  },
  {
   "cell_type": "code",
   "execution_count": null,
   "id": "23bdd4f1-e1a7-495c-82c0-d854a120cafa",
   "metadata": {},
   "outputs": [],
   "source": [
    "gr.Interface(\n",
    "    fn = predict,\n",
    "    inputs = gr.Textbox(label=\"please gives your text\"),\n",
    "    outputs = gr.Textbox(label=\"motion classification\"),\n",
    "    title = \"Movie comment classification\",\n",
    "    description =\"base on gradio, and from base-bert\" \n",
    ").launch(inline=True, share=True)"
   ]
  },
  {
   "cell_type": "markdown",
   "id": "86665036-e269-4786-987e-5ff9d13868ca",
   "metadata": {},
   "source": [
    "### This is the end of Text classification(binary)"
   ]
  },
  {
   "cell_type": "markdown",
   "id": "57e4c0f9-7284-4021-98c4-06a3d23e37c0",
   "metadata": {},
   "source": [
    "### 现在我们进行文本的多分类任务，使用AGnews这个数据集"
   ]
  },
  {
   "cell_type": "code",
   "execution_count": 1,
   "id": "61365d9f-1d46-4df8-82ce-abafd103b116",
   "metadata": {},
   "outputs": [],
   "source": [
    "from datasets import load_dataset"
   ]
  },
  {
   "cell_type": "code",
   "execution_count": 2,
   "id": "806072a9-6186-40a7-a28b-b09a3bc99b06",
   "metadata": {},
   "outputs": [
    {
     "name": "stdout",
     "output_type": "stream",
     "text": [
      "DatasetDict({\n",
      "    train: Dataset({\n",
      "        features: ['text', 'label'],\n",
      "        num_rows: 120000\n",
      "    })\n",
      "    test: Dataset({\n",
      "        features: ['text', 'label'],\n",
      "        num_rows: 7600\n",
      "    })\n",
      "})\n"
     ]
    }
   ],
   "source": [
    "dataset = load_dataset(\"ag_news\")\n",
    "print(dataset)"
   ]
  },
  {
   "cell_type": "code",
   "execution_count": 8,
   "id": "69ed9659-634f-427f-ac3b-415d7a206049",
   "metadata": {},
   "outputs": [
    {
     "name": "stdout",
     "output_type": "stream",
     "text": [
      "{'text': Value(dtype='string', id=None), 'label': ClassLabel(names=['World', 'Sports', 'Business', 'Sci/Tech'], id=None)}\n"
     ]
    }
   ],
   "source": [
    "print(dataset[\"train\"].features)"
   ]
  },
  {
   "cell_type": "code",
   "execution_count": 3,
   "id": "f4e12799-f112-4484-b75c-a5cd7eb0f092",
   "metadata": {},
   "outputs": [],
   "source": [
    "train_data = dataset[\"train\"]\n",
    "test_data = dataset[\"test\"]"
   ]
  },
  {
   "cell_type": "code",
   "execution_count": 6,
   "id": "ab6f8197-fffa-4d4f-8cc0-831651c230fc",
   "metadata": {},
   "outputs": [
    {
     "name": "stdout",
     "output_type": "stream",
     "text": [
      "[2, 2, 2, 2, 2, 2, 2, 2, 2, 2, 2, 2, 2, 2, 2, 2, 2, 2, 2, 2]\n"
     ]
    }
   ],
   "source": [
    "print(dataset[\"train\"][\"label\"][:20])"
   ]
  },
  {
   "cell_type": "code",
   "execution_count": 4,
   "id": "50710fe6-fa84-4fba-a670-07740c7610d5",
   "metadata": {},
   "outputs": [
    {
     "name": "stdout",
     "output_type": "stream",
     "text": [
      "ClassLabel(names=['World', 'Sports', 'Business', 'Sci/Tech'], id=None)\n"
     ]
    }
   ],
   "source": [
    "print(dataset[\"train\"].features[\"label\"])"
   ]
  },
  {
   "cell_type": "code",
   "execution_count": 5,
   "id": "67d55a8b-f0a0-43f9-bad9-b6cbb951338e",
   "metadata": {},
   "outputs": [
    {
     "name": "stdout",
     "output_type": "stream",
     "text": [
      "Dataset({\n",
      "    features: ['text', 'label'],\n",
      "    num_rows: 120000\n",
      "})\n"
     ]
    }
   ],
   "source": [
    "print(train_data)"
   ]
  },
  {
   "cell_type": "code",
   "execution_count": 6,
   "id": "e0584da4-c641-4180-8fa3-0ed21e820a4e",
   "metadata": {},
   "outputs": [
    {
     "name": "stdout",
     "output_type": "stream",
     "text": [
      "ClassLabel(names=['World', 'Sports', 'Business', 'Sci/Tech'], id=None)\n"
     ]
    }
   ],
   "source": [
    "print(train_data.features[\"label\"])"
   ]
  },
  {
   "cell_type": "markdown",
   "id": "24ac19c4-8f9d-49dc-9deb-025fd1e2ef05",
   "metadata": {},
   "source": [
    "### 得到了我们需要做的四个分类任务"
   ]
  },
  {
   "cell_type": "code",
   "execution_count": 7,
   "id": "22d57242-0f00-4eb5-8d01-0153dc9e8693",
   "metadata": {},
   "outputs": [],
   "source": [
    "from transformers import AutoTokenizer, AutoModelForSequenceClassification"
   ]
  },
  {
   "cell_type": "code",
   "execution_count": 8,
   "id": "66853081-c03d-44de-b410-7194a5047364",
   "metadata": {},
   "outputs": [
    {
     "name": "stderr",
     "output_type": "stream",
     "text": [
      "Some weights of BertForSequenceClassification were not initialized from the model checkpoint at bert-base-uncased and are newly initialized: ['classifier.bias', 'classifier.weight']\n",
      "You should probably TRAIN this model on a down-stream task to be able to use it for predictions and inference.\n"
     ]
    }
   ],
   "source": [
    "tokenizer = AutoTokenizer.from_pretrained(\"bert-base-uncased\")\n",
    "model = AutoModelForSequenceClassification.from_pretrained(\"bert-base-uncased\", num_labels=4)"
   ]
  },
  {
   "cell_type": "code",
   "execution_count": 9,
   "id": "8844bd22-83c8-48a0-b132-cf12aff03bca",
   "metadata": {},
   "outputs": [],
   "source": [
    "def tokenize(example):\n",
    "    return tokenizer(example[\"text\"], padding=\"max_length\", truncation=True, max_length=128)\n",
    "\n",
    "\n",
    "train_data = train_data.map(tokenize, batched=True)\n",
    "test_data = test_data.map(tokenize, batched=True)"
   ]
  },
  {
   "cell_type": "code",
   "execution_count": 10,
   "id": "70343f38-4f13-4af9-a8c6-17ff8b09506f",
   "metadata": {},
   "outputs": [],
   "source": [
    "train_data.set_format(type=\"torch\", columns=[\"input_ids\", \"attention_mask\", \"label\"])\n",
    "test_data.set_format(type=\"torch\", columns=[\"input_ids\", \"attention_mask\", \"label\"])"
   ]
  },
  {
   "cell_type": "code",
   "execution_count": 11,
   "id": "3acbb632-a897-4000-b9e5-e51a4f2730d6",
   "metadata": {},
   "outputs": [],
   "source": [
    "from torch.utils.data import DataLoader\n",
    "import torch\n",
    "\n",
    "train_data_loader = DataLoader(train_data, batch_size=64, shuffle=True)\n",
    "test_data_loader = DataLoader(test_data, batch_size=64, shuffle=True)"
   ]
  },
  {
   "cell_type": "code",
   "execution_count": 12,
   "id": "d5124cee-d5a1-476d-a812-5a9b009324d7",
   "metadata": {},
   "outputs": [],
   "source": [
    "from torch import nn as nn\n",
    "import numpy as np\n",
    "from tqdm import tqdm\n",
    "import os"
   ]
  },
  {
   "cell_type": "code",
   "execution_count": 13,
   "id": "e0a33fcc-69ff-43b3-8d7a-ebfe8321d0d6",
   "metadata": {},
   "outputs": [
    {
     "name": "stdout",
     "output_type": "stream",
     "text": [
      "标签计数: Counter({2: 30000, 3: 30000, 1: 30000, 0: 30000})\n",
      "最大值: 3\n"
     ]
    }
   ],
   "source": [
    "from collections import Counter\n",
    "\n",
    "all_labels = [int(x[\"label\"]) for x in dataset[\"train\"]]\n",
    "print(\"标签计数:\", Counter(all_labels))\n",
    "print(\"最大值:\", max(all_labels))\n"
   ]
  },
  {
   "cell_type": "code",
   "execution_count": null,
   "id": "60269fc8-f938-4675-93b0-65d50ba4c269",
   "metadata": {},
   "outputs": [],
   "source": [
    "print(device)"
   ]
  },
  {
   "cell_type": "code",
   "execution_count": 15,
   "id": "771fbe9b-f9bd-4c8e-ba01-adc82921965f",
   "metadata": {},
   "outputs": [
    {
     "name": "stderr",
     "output_type": "stream",
     "text": [
      "epoch1: 100%|██████████████████████████████████████████████████████████████████████████████████████████████████████████████████████████████████| 1875/1875 [21:41<00:00,  1.44it/s]\n"
     ]
    },
    {
     "name": "stdout",
     "output_type": "stream",
     "text": [
      "meanloss:0.24492207316160203\n"
     ]
    },
    {
     "name": "stderr",
     "output_type": "stream",
     "text": [
      "epoch2: 100%|██████████████████████████████████████████████████████████████████████████████████████████████████████████████████████████████████| 1875/1875 [21:36<00:00,  1.45it/s]\n"
     ]
    },
    {
     "name": "stdout",
     "output_type": "stream",
     "text": [
      "meanloss:0.1477492218752702\n"
     ]
    },
    {
     "name": "stderr",
     "output_type": "stream",
     "text": [
      "epoch3: 100%|██████████████████████████████████████████████████████████████████████████████████████████████████████████████████████████████████| 1875/1875 [21:35<00:00,  1.45it/s]"
     ]
    },
    {
     "name": "stdout",
     "output_type": "stream",
     "text": [
      "meanloss:0.11162248419821262\n"
     ]
    },
    {
     "name": "stderr",
     "output_type": "stream",
     "text": [
      "\n"
     ]
    }
   ],
   "source": [
    "device = \"cuda\" if torch.cuda.is_available() else \"cpu\"\n",
    "optimizer = torch.optim.Adam(model.parameters(), lr=1e-5)\n",
    "model.to(device)\n",
    "\n",
    "model.train()\n",
    "\n",
    "for epoch in range(3):\n",
    "    mean_loss = []\n",
    "    for batch in tqdm(train_data_loader, desc=f\"epoch{epoch + 1}\"):\n",
    "        optimizer.zero_grad()\n",
    "        \n",
    "        input_ids = batch[\"input_ids\"].to(device)\n",
    "        attention_mask = batch[\"attention_mask\"].to(device)\n",
    "        os.environ[\"CUDA_LAUNCH_BLOCKING\"] = \"1\"\n",
    "        label = batch[\"label\"].to(device)\n",
    "        \n",
    "        outputs = model(input_ids=input_ids, attention_mask=attention_mask, labels=label)\n",
    "        \n",
    "        loss = outputs.loss\n",
    "        loss.backward()\n",
    "        optimizer.step()\n",
    "        mean_loss.append(loss.item())\n",
    "    meanloss = np.mean(mean_loss)\n",
    "    print(f\"meanloss:{meanloss}\")"
   ]
  },
  {
   "cell_type": "code",
   "execution_count": null,
   "id": "3f3adf3f-db0a-4140-a1be-712674224de0",
   "metadata": {},
   "outputs": [],
   "source": [
    "model.save_pretrained(\"bert_multi_classification\")"
   ]
  },
  {
   "cell_type": "code",
   "execution_count": 28,
   "id": "33904b11-a780-40cd-80e2-d95fb46243de",
   "metadata": {},
   "outputs": [
    {
     "data": {
      "text/plain": [
       "('bert_multi_classification\\\\tokenizer_config.json',\n",
       " 'bert_multi_classification\\\\special_tokens_map.json',\n",
       " 'bert_multi_classification\\\\vocab.txt',\n",
       " 'bert_multi_classification\\\\added_tokens.json',\n",
       " 'bert_multi_classification\\\\tokenizer.json')"
      ]
     },
     "execution_count": 28,
     "metadata": {},
     "output_type": "execute_result"
    }
   ],
   "source": [
    "tokenizer.save_pretrained(\"bert_multi_classification\")"
   ]
  },
  {
   "cell_type": "code",
   "execution_count": 17,
   "id": "b118e77b-2784-4d9f-a279-a5224a8988e9",
   "metadata": {},
   "outputs": [],
   "source": [
    "from transformers import AutoTokenizer, AutoModelForSequenceClassification"
   ]
  },
  {
   "cell_type": "code",
   "execution_count": 48,
   "id": "a46dbabd-7121-4709-8d01-4df80ff59efd",
   "metadata": {},
   "outputs": [
    {
     "name": "stdout",
     "output_type": "stream",
     "text": [
      "cuda\n"
     ]
    }
   ],
   "source": [
    "device = \"cuda\" if torch.cuda.is_available() else \"cpu\"\n",
    "print(device)"
   ]
  },
  {
   "cell_type": "code",
   "execution_count": 20,
   "id": "eae5f067-eda5-42c5-a603-99267ae77d85",
   "metadata": {},
   "outputs": [
    {
     "name": "stdout",
     "output_type": "stream",
     "text": [
      "Collecting protobuf\n",
      "  Downloading protobuf-6.31.1-cp310-abi3-win_amd64.whl.metadata (593 bytes)\n",
      "Downloading protobuf-6.31.1-cp310-abi3-win_amd64.whl (435 kB)\n",
      "Installing collected packages: protobuf\n",
      "Successfully installed protobuf-6.31.1\n"
     ]
    },
    {
     "name": "stderr",
     "output_type": "stream",
     "text": [
      "\n",
      "[notice] A new release of pip is available: 25.0.1 -> 25.1.1\n",
      "[notice] To update, run: python.exe -m pip install --upgrade pip\n"
     ]
    }
   ],
   "source": [
    "!pip install protobuf --upgrade"
   ]
  },
  {
   "cell_type": "code",
   "execution_count": null,
   "id": "b54cee67-bf5b-4032-a541-f6e984beffac",
   "metadata": {},
   "outputs": [],
   "source": [
    "model = AutoModelForSequenceClassification.from_pretrained(\"bert_multi_classification\")\n",
    "tokenizer = AutoTokenizer.from_pretrained(\"bert_multi_classification\")\n",
    "model.to(device)\n",
    "model.eval()"
   ]
  },
  {
   "cell_type": "code",
   "execution_count": 50,
   "id": "946316a1-1380-4f98-ba32-9331e68f905e",
   "metadata": {},
   "outputs": [],
   "source": [
    "import torch"
   ]
  },
  {
   "cell_type": "code",
   "execution_count": 51,
   "id": "f9310171-bf4b-4782-b500-f35d63706e43",
   "metadata": {},
   "outputs": [],
   "source": [
    "classification = {0:'World', 1:'Sports', 2:'Business', 3:'Sci/Tech'}"
   ]
  },
  {
   "cell_type": "code",
   "execution_count": 59,
   "id": "26769f71-4aa4-4707-b6ff-33654a94fdb0",
   "metadata": {},
   "outputs": [],
   "source": [
    "def predict_bert_muti(text):\n",
    "    input = tokenizer(text, padding=\"max_length\", max_length=128, truncation=True, return_tensors=\"pt\").to(device)\n",
    "    with torch.no_grad():\n",
    "        outputs = model(**input)\n",
    "        logits = outputs.logits\n",
    "        predict = torch.argmax(logits, dim=1).item()\n",
    "        return classification[predict]"
   ]
  },
  {
   "cell_type": "code",
   "execution_count": 60,
   "id": "6e93ca22-b5d4-4361-abd4-75afd6ceb8fb",
   "metadata": {},
   "outputs": [],
   "source": [
    "import gradio as gr"
   ]
  },
  {
   "cell_type": "code",
   "execution_count": null,
   "id": "78b8c2a5-7f78-4e73-bfb4-7ffa4439cc21",
   "metadata": {},
   "outputs": [],
   "source": [
    "gr.Interface(\n",
    "    fn = predict_bert_muti,\n",
    "    inputs = gr.Textbox(label=\"input the news\"),\n",
    "    outputs = gr.Textbox(label=\"type\"),\n",
    "    title = \"news classification\"\n",
    ").launch(inline=True)"
   ]
  },
  {
   "cell_type": "markdown",
   "id": "677e9c53-05de-4d80-b974-66eb4b3b8c56",
   "metadata": {},
   "source": [
    "### This is the end of Text classification(mutilpul)"
   ]
  },
  {
   "cell_type": "markdown",
   "id": "3ebf878c-8018-41e0-b42a-5fcea764ff34",
   "metadata": {},
   "source": [
    "### 现在我们来进行命名实体识别任务，使用CoNLL-2003数据集进行练习"
   ]
  },
  {
   "cell_type": "code",
   "execution_count": 7,
   "id": "1054ec5d-2a04-489f-a5e0-7ce60402163a",
   "metadata": {},
   "outputs": [],
   "source": [
    "from datasets import load_dataset"
   ]
  },
  {
   "cell_type": "code",
   "execution_count": 8,
   "id": "f053aa1a-5dd7-4b5b-9bf5-c113f22c8103",
   "metadata": {},
   "outputs": [],
   "source": [
    "dataset = load_dataset(\"conll2003\")"
   ]
  },
  {
   "cell_type": "code",
   "execution_count": 9,
   "id": "7e1d1e22-5296-44a5-859a-710c7f7bb0f4",
   "metadata": {},
   "outputs": [
    {
     "name": "stdout",
     "output_type": "stream",
     "text": [
      "DatasetDict({\n",
      "    train: Dataset({\n",
      "        features: ['id', 'tokens', 'pos_tags', 'chunk_tags', 'ner_tags'],\n",
      "        num_rows: 14041\n",
      "    })\n",
      "    validation: Dataset({\n",
      "        features: ['id', 'tokens', 'pos_tags', 'chunk_tags', 'ner_tags'],\n",
      "        num_rows: 3250\n",
      "    })\n",
      "    test: Dataset({\n",
      "        features: ['id', 'tokens', 'pos_tags', 'chunk_tags', 'ner_tags'],\n",
      "        num_rows: 3453\n",
      "    })\n",
      "})\n"
     ]
    }
   ],
   "source": [
    "print(dataset)"
   ]
  },
  {
   "cell_type": "code",
   "execution_count": 10,
   "id": "f2def4fd-5af2-4c65-a795-cac6696be2b5",
   "metadata": {},
   "outputs": [
    {
     "name": "stdout",
     "output_type": "stream",
     "text": [
      "Sequence(feature=ClassLabel(names=['O', 'B-PER', 'I-PER', 'B-ORG', 'I-ORG', 'B-LOC', 'I-LOC', 'B-MISC', 'I-MISC'], id=None), length=-1, id=None)\n"
     ]
    }
   ],
   "source": [
    "print(dataset[\"train\"].features[\"ner_tags\"])"
   ]
  },
  {
   "cell_type": "code",
   "execution_count": 11,
   "id": "7aa9b2a8-c8b6-472c-bf33-8214ea7e4a9b",
   "metadata": {},
   "outputs": [
    {
     "name": "stdout",
     "output_type": "stream",
     "text": [
      "['EU', 'rejects', 'German', 'call', 'to', 'boycott', 'British', 'lamb', '.']\n"
     ]
    }
   ],
   "source": [
    "print(dataset[\"train\"][\"tokens\"][0])"
   ]
  },
  {
   "cell_type": "code",
   "execution_count": 12,
   "id": "580964cb-b6d9-4c34-85a9-bda784e8a857",
   "metadata": {},
   "outputs": [
    {
     "name": "stdout",
     "output_type": "stream",
     "text": [
      "[3, 0, 7, 0, 0, 0, 7, 0, 0]\n"
     ]
    }
   ],
   "source": [
    "print(dataset[\"train\"][\"ner_tags\"][0])"
   ]
  },
  {
   "cell_type": "code",
   "execution_count": 13,
   "id": "8142a3f7-f6f2-4c75-b648-b0e06db7dcdc",
   "metadata": {},
   "outputs": [],
   "source": [
    "from transformers import AutoTokenizer"
   ]
  },
  {
   "cell_type": "code",
   "execution_count": 14,
   "id": "f3b87f93-14d4-429a-a915-c876fab5576f",
   "metadata": {},
   "outputs": [],
   "source": [
    "tokenizer = AutoTokenizer.from_pretrained(\"bert-base-cased\")"
   ]
  },
  {
   "cell_type": "code",
   "execution_count": 15,
   "id": "c570be3d-9b10-436b-9820-108a98adde02",
   "metadata": {},
   "outputs": [
    {
     "name": "stdout",
     "output_type": "stream",
     "text": [
      "{'input_ids': [101, 7270, 22961, 1528, 1840, 1106, 21423, 1418, 2495, 12913, 119, 102], 'token_type_ids': [0, 0, 0, 0, 0, 0, 0, 0, 0, 0, 0, 0], 'attention_mask': [1, 1, 1, 1, 1, 1, 1, 1, 1, 1, 1, 1]}\n"
     ]
    }
   ],
   "source": [
    "# lets have a look of tokenized\n",
    "tokenized_data = tokenizer(dataset[\"train\"][\"tokens\"][0], truncation=True, is_split_into_words=True)\n",
    "print(tokenized_data)\n",
    "# looks like the output likes before"
   ]
  },
  {
   "cell_type": "code",
   "execution_count": 70,
   "id": "679de240-15d4-42e4-b70c-8326b32f78bb",
   "metadata": {},
   "outputs": [
    {
     "name": "stdout",
     "output_type": "stream",
     "text": [
      "{'input_ids': tensor([[  101,  7270, 22961,  1528,  1840,  1106, 21423,  1418,  2495, 12913,\n",
      "           119,   102]], device='cuda:0'), 'token_type_ids': tensor([[0, 0, 0, 0, 0, 0, 0, 0, 0, 0, 0, 0]], device='cuda:0'), 'attention_mask': tensor([[1, 1, 1, 1, 1, 1, 1, 1, 1, 1, 1, 1]], device='cuda:0')}\n"
     ]
    }
   ],
   "source": [
    "tokenized_data = tokenizer(dataset[\"train\"][\"tokens\"][0], truncation=True, is_split_into_words=True, return_tensors=\"pt\").to(\"cuda\")\n",
    "print(tokenized_data)"
   ]
  },
  {
   "cell_type": "code",
   "execution_count": 43,
   "id": "c21f9f6f-13ca-4b39-9c03-5b527763f834",
   "metadata": {},
   "outputs": [
    {
     "name": "stdout",
     "output_type": "stream",
     "text": [
      "[None, 0, 1, 2, 3, 4, 5, 6, 7, 7, 8, None]\n"
     ]
    }
   ],
   "source": [
    "# Also take a look at word_ids\n",
    "print(tokenized_data.word_ids())"
   ]
  },
  {
   "cell_type": "code",
   "execution_count": 44,
   "id": "20639112-87f7-42e9-8852-719febbd71d3",
   "metadata": {},
   "outputs": [],
   "source": [
    "def tokenize_and_align_labels(examples):\n",
    "    tokenized_inputs = tokenizer(examples[\"tokens\"], truncation=True, is_split_into_words=True)\n",
    "\n",
    "    all_labels = []\n",
    "\n",
    "    for i, labels in enumerate(examples[\"ner_tags\"]):\n",
    "        word_ids = tokenized_inputs.word_ids(batch_index=i)\n",
    "        previous_word_idx = None\n",
    "        label_ids = []\n",
    "\n",
    "        for word_idx in word_ids:\n",
    "            if word_idx is None:\n",
    "                label_ids.append(-100)\n",
    "            elif word_idx != previous_word_idx:\n",
    "                label_ids.append(labels[word_idx])\n",
    "            else:\n",
    "                label_ids.append(-100)\n",
    "            previous_word_idx = word_idx\n",
    "\n",
    "        all_labels.append(label_ids)\n",
    "        \n",
    "    tokenized_inputs[\"labels\"] = all_labels\n",
    "    return tokenized_inputs"
   ]
  },
  {
   "cell_type": "code",
   "execution_count": 46,
   "id": "525b7cdf-561c-48dc-947a-bc923cb4cf88",
   "metadata": {},
   "outputs": [],
   "source": [
    "tokenized_dataset = dataset.map(tokenize_and_align_labels, batched=True)"
   ]
  },
  {
   "cell_type": "code",
   "execution_count": 67,
   "id": "5195b06a-e999-4ff2-91c8-677488d25b8e",
   "metadata": {},
   "outputs": [],
   "source": [
    "tokenized_dataset.set_format(type=\"torch\", columns=[\"input_ids\", \"attention_mask\", \"labels\"])"
   ]
  },
  {
   "cell_type": "code",
   "execution_count": null,
   "id": "b52d50b3-5c5d-44f3-97a6-d6d84b2d79ce",
   "metadata": {},
   "outputs": [],
   "source": [
    "print(tokenized_dataset)"
   ]
  },
  {
   "cell_type": "code",
   "execution_count": 69,
   "id": "b819b266-7029-46c4-b3fa-da04463ca4cf",
   "metadata": {},
   "outputs": [
    {
     "name": "stdout",
     "output_type": "stream",
     "text": [
      "Sequence(feature=ClassLabel(names=['O', 'B-PER', 'I-PER', 'B-ORG', 'I-ORG', 'B-LOC', 'I-LOC', 'B-MISC', 'I-MISC'], id=None), length=-1, id=None)\n"
     ]
    }
   ],
   "source": [
    "print(tokenized_dataset[\"train\"].features[\"ner_tags\"])"
   ]
  },
  {
   "cell_type": "code",
   "execution_count": 70,
   "id": "7308f41c-bd90-438d-bf0c-9e8ddef467b8",
   "metadata": {},
   "outputs": [
    {
     "name": "stdout",
     "output_type": "stream",
     "text": [
      "ClassLabel(names=['O', 'B-PER', 'I-PER', 'B-ORG', 'I-ORG', 'B-LOC', 'I-LOC', 'B-MISC', 'I-MISC'], id=None)\n"
     ]
    }
   ],
   "source": [
    "print(tokenized_dataset[\"train\"].features[\"ner_tags\"].feature)"
   ]
  },
  {
   "cell_type": "code",
   "execution_count": 71,
   "id": "59256bed-2282-4c91-ae0b-22fb83e73b97",
   "metadata": {},
   "outputs": [
    {
     "name": "stdout",
     "output_type": "stream",
     "text": [
      "['O', 'B-PER', 'I-PER', 'B-ORG', 'I-ORG', 'B-LOC', 'I-LOC', 'B-MISC', 'I-MISC']\n"
     ]
    }
   ],
   "source": [
    "# use feature`s name parameter\n",
    "print(tokenized_dataset[\"train\"].features[\"ner_tags\"].feature.names)"
   ]
  },
  {
   "cell_type": "code",
   "execution_count": 72,
   "id": "5b0a943a-641d-4dd7-8dc6-90810010ef9f",
   "metadata": {},
   "outputs": [],
   "source": [
    "labels = tokenized_dataset[\"train\"].features[\"ner_tags\"].feature.names"
   ]
  },
  {
   "cell_type": "code",
   "execution_count": 2,
   "id": "c1bbe056-a998-4ec9-a78e-bb8d01a382f9",
   "metadata": {},
   "outputs": [],
   "source": [
    "from transformers import AutoModelForTokenClassification"
   ]
  },
  {
   "cell_type": "code",
   "execution_count": 74,
   "id": "4d766163-d2d5-4dd8-96cd-1ab4f369d493",
   "metadata": {},
   "outputs": [
    {
     "name": "stderr",
     "output_type": "stream",
     "text": [
      "Some weights of BertForTokenClassification were not initialized from the model checkpoint at bert-base-cased and are newly initialized: ['classifier.bias', 'classifier.weight']\n",
      "You should probably TRAIN this model on a down-stream task to be able to use it for predictions and inference.\n"
     ]
    }
   ],
   "source": [
    "model = AutoModelForTokenClassification.from_pretrained(\"bert-base-cased\", num_labels = len(labels))"
   ]
  },
  {
   "cell_type": "code",
   "execution_count": 3,
   "id": "9bbf9383-b3b7-4fd5-a313-056ddd7d3bdf",
   "metadata": {},
   "outputs": [],
   "source": [
    "import torch\n",
    "from torch.utils.data import DataLoader\n",
    "from tqdm import tqdm\n",
    "import numpy as np"
   ]
  },
  {
   "cell_type": "code",
   "execution_count": null,
   "id": "a7f57ce0-fc9a-48bb-bd65-bc1c9dcfefdf",
   "metadata": {},
   "outputs": [],
   "source": [
    "from transformers import DataCollatorForTokenClassification\n",
    "\n",
    "\n",
    "data_collator = DataCollatorForTokenClassification(tokenizer)"
   ]
  },
  {
   "cell_type": "code",
   "execution_count": 77,
   "id": "16941c70-6f9a-4cc2-ac67-5e8a07a3f267",
   "metadata": {},
   "outputs": [
    {
     "name": "stderr",
     "output_type": "stream",
     "text": [
      "epoch 1: 100%|███████████████████████████████████████████████████████████████████████████████████████████████████████████████████████████████████| 439/439 [01:18<00:00,  5.56it/s]\n"
     ]
    },
    {
     "name": "stdout",
     "output_type": "stream",
     "text": [
      "epoch 1mean_loss 0.11630485803822314\n"
     ]
    },
    {
     "name": "stderr",
     "output_type": "stream",
     "text": [
      "epoch 2: 100%|███████████████████████████████████████████████████████████████████████████████████████████████████████████████████████████████████| 439/439 [01:18<00:00,  5.59it/s]\n"
     ]
    },
    {
     "name": "stdout",
     "output_type": "stream",
     "text": [
      "epoch 2mean_loss 0.02696118588375823\n"
     ]
    },
    {
     "name": "stderr",
     "output_type": "stream",
     "text": [
      "epoch 3: 100%|███████████████████████████████████████████████████████████████████████████████████████████████████████████████████████████████████| 439/439 [01:18<00:00,  5.57it/s]"
     ]
    },
    {
     "name": "stdout",
     "output_type": "stream",
     "text": [
      "epoch 3mean_loss 0.014750645528038314\n"
     ]
    },
    {
     "name": "stderr",
     "output_type": "stream",
     "text": [
      "\n"
     ]
    }
   ],
   "source": [
    "train_dataloader = DataLoader(tokenized_dataset[\"train\"], batch_size=32, shuffle=True, collate_fn=data_collator)\n",
    "device = \"cuda\" if torch.cuda.is_available() else \"cpu\"\n",
    "model.to(device)\n",
    "\n",
    "optimizer = torch.optim.AdamW(model.parameters(), lr=5e-5)\n",
    "\n",
    "for epoch in range(3):\n",
    "    model.train()\n",
    "    mean_loss = []\n",
    "    for batch in tqdm(train_dataloader, desc=f\"epoch {epoch + 1}\"):\n",
    "        optimizer.zero_grad()\n",
    "        input_ids = batch[\"input_ids\"].to(device)\n",
    "        attention_mask = batch[\"attention_mask\"].to(device)\n",
    "        labels = batch[\"labels\"].to(device)\n",
    "\n",
    "        \n",
    "        outputs = model(input_ids= input_ids, attention_mask = attention_mask, labels = labels)\n",
    "        loss = outputs.loss\n",
    "        loss.backward()\n",
    "        optimizer.step()\n",
    "\n",
    "        mean_loss.append(loss.item())\n",
    "    mean_loss = np.mean(mean_loss)\n",
    "    print(f\"epoch {epoch + 1}mean_loss {mean_loss}\")"
   ]
  },
  {
   "cell_type": "code",
   "execution_count": null,
   "id": "131e2d61-8563-4f05-a032-364542c2230e",
   "metadata": {},
   "outputs": [],
   "source": [
    "model.save_pretrained(\"my_bert_ner\")\n",
    "tokenizer.save_pretrained(\"my_bert_ner\")"
   ]
  },
  {
   "cell_type": "code",
   "execution_count": 61,
   "id": "3cbcb01f-1f21-43db-bdc2-af0ebc43107c",
   "metadata": {},
   "outputs": [],
   "source": [
    "from transformers import AutoTokenizer, AutoModelForTokenClassification\n",
    "import torch\n",
    "from datasets import load_dataset"
   ]
  },
  {
   "cell_type": "code",
   "execution_count": 62,
   "id": "e4fcb233-0b34-4856-b785-f63d49bd563f",
   "metadata": {},
   "outputs": [
    {
     "name": "stdout",
     "output_type": "stream",
     "text": [
      "['O', 'B-PER', 'I-PER', 'B-ORG', 'I-ORG', 'B-LOC', 'I-LOC', 'B-MISC', 'I-MISC']\n"
     ]
    }
   ],
   "source": [
    "dataset = load_dataset(\"conll2003\")\n",
    "labels = dataset[\"train\"].features[\"ner_tags\"].feature.names\n",
    "print(labels)"
   ]
  },
  {
   "cell_type": "code",
   "execution_count": null,
   "id": "4cb75479-08e1-447e-9946-9d6cb8a5d0ca",
   "metadata": {},
   "outputs": [],
   "source": [
    "tokenizer = AutoTokenizer.from_pretrained(\"my_bert_ner\")\n",
    "model = AutoModelForTokenClassification.from_pretrained(\"my_bert_ner\")\n",
    "\n",
    "\n",
    "device = \"cuda\" if torch.cuda.is_available() else \"cpu\"\n",
    "model.to(device)"
   ]
  },
  {
   "cell_type": "code",
   "execution_count": null,
   "id": "5e5032c7-7983-466d-a050-4227cad5eecc",
   "metadata": {},
   "outputs": [],
   "source": [
    "# load the model for visulize model output\n",
    "with torch.no_grad():\n",
    "    output = model(**tokenized_data)\n",
    "\n",
    "print(output.logits)\n",
    "print(output.logits.shape)\n",
    "# it means 1 sentence, 12 tokens, 9 NERs"
   ]
  },
  {
   "cell_type": "code",
   "execution_count": 66,
   "id": "2c2b043a-f229-4516-98e1-9cc5495ddca9",
   "metadata": {},
   "outputs": [],
   "source": [
    "def prediction(text):\n",
    "    tokenizerd_data = tokenizer(text, return_tensors=\"pt\", padding=True, truncation=True).to(device)\n",
    "\n",
    "    with torch.no_grad():\n",
    "        outputs = model(**tokenizerd_data)\n",
    "\n",
    "    logits = outputs.logits\n",
    "    predictions = torch.argmax(logits, dim=2)\n",
    "\n",
    "    #为什么用第0个？\n",
    "    #convert_ids_to_tokens只支持1维输入\n",
    "    #输入一个句子，然后batchsize=1，所以直接取第一个就行\n",
    "    #如果batchsize不为1，那么tokenizerd_data[\"input_ids\"][i]\n",
    "    token_decoded = tokenizer.convert_ids_to_tokens(tokenizerd_data[\"input_ids\"][0])\n",
    "\n",
    "    entities = []\n",
    "    current_entity = {\"word\": \"\", \"entity\": \"\"}\n",
    "\n",
    "    for token, label_idx in zip(token_decoded, predictions[0]):\n",
    "        label = labels[label_idx.item()]\n",
    "\n",
    "        if label == \"O\":\n",
    "            if current_entity[\"word\"]:\n",
    "                entities.append((current_entity[\"word\"], current_entity[\"entity\"]))\n",
    "                current_entity = {\"word\": \"\", \"entity\": \"\"}\n",
    "            continue\n",
    "\n",
    "        if label.startswith(\"B-\"):\n",
    "            if current_entity[\"word\"]:\n",
    "                entities.append((current_entity[\"word\"], current_entity[\"entity\"]))\n",
    "            current_entity = {\"word\": token.replace(\"##\", \"\"), \"entity\": label[2:]}\n",
    "\n",
    "        elif label.startswith(\"I-\") and current_entity[\"word\"]:\n",
    "            current_entity[\"word\"] += token.replace(\"##\", \"\")\n",
    "\n",
    "    # 最后一个实体记得加进去\n",
    "    if current_entity[\"word\"]:\n",
    "        entities.append((current_entity[\"word\"], current_entity[\"entity\"]))\n",
    "\n",
    "    return {\"text\": text, \"entities\": [{\"entity\": ent[1], \"word\": ent[0]} for ent in entities]}\n"
   ]
  },
  {
   "cell_type": "code",
   "execution_count": 67,
   "id": "6f66b672-7b37-4495-84a9-4c6add18b5ce",
   "metadata": {},
   "outputs": [],
   "source": [
    "import gradio as gr"
   ]
  },
  {
   "cell_type": "code",
   "execution_count": null,
   "id": "224f0727-c24c-4b0c-ae55-2d1887c16f02",
   "metadata": {},
   "outputs": [],
   "source": [
    "gr.Interface(\n",
    "    fn = prediction,\n",
    "    inputs= gr.Textbox(lines=4, placeholder=\"please gives text\"),\n",
    "    outputs= gr.JSON()\n",
    ").launch(inline=True)"
   ]
  },
  {
   "cell_type": "markdown",
   "id": "465ca6f4-1acd-4ee4-afab-df86b6cddf1b",
   "metadata": {},
   "source": [
    "### This is the end of NER task, The importance of NER is how to embedding the label, and how to deal with prediction functions"
   ]
  },
  {
   "cell_type": "markdown",
   "id": "5bf06861-ea4d-4f8e-a211-331ec0ad848a",
   "metadata": {},
   "source": [
    "### 接下来进行我们的decoder-only模型的学习："
   ]
  },
  {
   "cell_type": "markdown",
   "id": "fc403133-b310-4ea7-9053-5183a2cc0b72",
   "metadata": {},
   "source": [
    "### 在这里面的学习中，我们首先使用我们的TinyLlama模型直接进行部署，不进行任何的微调，然后使用模型进行微调之后再次部署，最主要是要掌握decoder_only模型针对不同的任务的情况下应该使用什么样的预测函数，然后是如何使用这个预训练模型进行微调"
   ]
  },
  {
   "cell_type": "markdown",
   "id": "7db6943a-544b-4290-b85f-a761985bba94",
   "metadata": {},
   "source": [
    "### 首先是聊天机器人"
   ]
  },
  {
   "cell_type": "code",
   "execution_count": 29,
   "id": "3ee65909-b030-4367-ac2b-e5dc07879918",
   "metadata": {},
   "outputs": [],
   "source": [
    "from transformers import AutoTokenizer, AutoModelForCausalLM"
   ]
  },
  {
   "cell_type": "code",
   "execution_count": 30,
   "id": "f84403ff-72bb-4e95-8f0f-f60562cd6640",
   "metadata": {},
   "outputs": [],
   "source": [
    "model_name = \"TinyLlama/TinyLlama-1.1B-Chat-v1.0\"\n",
    "tokenizer = AutoTokenizer.from_pretrained(model_name)\n",
    "model = AutoModelForCausalLM.from_pretrained(model_name)"
   ]
  },
  {
   "cell_type": "code",
   "execution_count": 31,
   "id": "f0c39f2c-8e24-43fd-a3e7-dd3fe253e115",
   "metadata": {},
   "outputs": [],
   "source": [
    "import torch\n",
    "import gradio as gr"
   ]
  },
  {
   "cell_type": "code",
   "execution_count": null,
   "id": "46bb1f6e-f2f9-4f86-a96a-a8d1a5d6d6a2",
   "metadata": {
    "scrolled": true
   },
   "outputs": [],
   "source": [
    "device = \"cuda\" if torch.cuda.is_available() else \"cpu\"\n",
    "\n",
    "model.to(device)"
   ]
  },
  {
   "cell_type": "code",
   "execution_count": 43,
   "id": "a6ff436f-41ef-47ac-a47f-f4b62533ee32",
   "metadata": {},
   "outputs": [],
   "source": [
    "chat_history = []\n",
    "\n",
    "def predict_chat_box(user_input):\n",
    "    chat_history.append(f\"User: {user_input}\")\n",
    "    prompt = \"\\n\".join(chat_history) + \"\\nAssistant:\"\n",
    "\n",
    "    inputs = tokenizer(prompt, return_tensors=\"pt\").to(device)\n",
    "    input_ids = inputs[\"input_ids\"].to(device)\n",
    "\n",
    "    with torch.no_grad():\n",
    "        outputs = model.generate(\n",
    "            input_ids,\n",
    "            max_new_tokens=150,\n",
    "            do_sample=True,\n",
    "            top_p=0.85,\n",
    "            temperature=0.5\n",
    "        )\n",
    "\n",
    "    response = tokenizer.decode(outputs[0], skip_special_tokens=True)\n",
    "    response = response[len(prompt):].strip()\n",
    "\n",
    "    chat_history.append(f\"Assistant: {response}\")\n",
    "    return response\n"
   ]
  },
  {
   "cell_type": "code",
   "execution_count": null,
   "id": "61a76442-c213-4583-a4f0-a6e7533a74b5",
   "metadata": {},
   "outputs": [],
   "source": [
    "gr.Interface(\n",
    "    fn=predict_chat_box,\n",
    "    inputs=gr.Textbox(label=\"Chat here\"),\n",
    "    outputs=gr.Textbox(label=\"reply here\")\n",
    ").launch(inline=True)"
   ]
  },
  {
   "cell_type": "markdown",
   "id": "cbd0625b-a352-452f-a2b2-45426d9cc1e7",
   "metadata": {},
   "source": [
    "### 可以看到，效果非常差，回复非常混乱"
   ]
  },
  {
   "cell_type": "markdown",
   "id": "9a959de6-34e0-413f-a260-5d1b41e4fcaf",
   "metadata": {},
   "source": [
    "### 使用LORA微调"
   ]
  },
  {
   "cell_type": "code",
   "execution_count": null,
   "id": "038f4253-2b68-4cb2-bd8a-10c674490ef2",
   "metadata": {},
   "outputs": [],
   "source": [
    "!pip install peft "
   ]
  },
  {
   "cell_type": "code",
   "execution_count": 2,
   "id": "ab3c0238-a2aa-425f-890b-27353d643349",
   "metadata": {},
   "outputs": [],
   "source": [
    "from datasets import load_dataset"
   ]
  },
  {
   "cell_type": "code",
   "execution_count": null,
   "id": "ba5c5bbb-eaa9-4da4-afd0-0fdbf026872e",
   "metadata": {
    "scrolled": true
   },
   "outputs": [],
   "source": [
    "dataset = load_dataset(\"json\", data_files=r\"tinyllama_finetune_data_diverse.jsonl\")"
   ]
  },
  {
   "cell_type": "code",
   "execution_count": 4,
   "id": "b3ca4539-77b1-4bfa-ac14-1927484b3ff3",
   "metadata": {},
   "outputs": [
    {
     "name": "stdout",
     "output_type": "stream",
     "text": [
      "DatasetDict({\n",
      "    train: Dataset({\n",
      "        features: ['instruction', 'input', 'output'],\n",
      "        num_rows: 100\n",
      "    })\n",
      "})\n"
     ]
    }
   ],
   "source": [
    "print(dataset)"
   ]
  },
  {
   "cell_type": "code",
   "execution_count": 5,
   "id": "ff53f3af-40ee-45f5-9c45-f480b17d6ba6",
   "metadata": {},
   "outputs": [],
   "source": [
    "from transformers import AutoTokenizer, AutoModelForCausalLM\n",
    "from peft import LoraConfig, TaskType, get_peft_model"
   ]
  },
  {
   "cell_type": "code",
   "execution_count": 14,
   "id": "f32d1606-25dc-4732-9325-c07f277331cc",
   "metadata": {},
   "outputs": [],
   "source": [
    "def format_transform(dataset):\n",
    "    \n",
    "    prompt = f\"### instruction:\\n{dataset[\"instruction\"]}\\n\\n### Response:\\n{dataset[\"output\"]}\"\n",
    "\n",
    "    return {\"text\": prompt}"
   ]
  },
  {
   "cell_type": "code",
   "execution_count": null,
   "id": "5c171a3e-fd77-471d-89c7-3d254b536ec6",
   "metadata": {},
   "outputs": [],
   "source": [
    "datasets_for_tokenizer = dataset.map(format_transform)"
   ]
  },
  {
   "cell_type": "code",
   "execution_count": 16,
   "id": "676fd0b0-8b3a-4427-bbbc-329ca23d29cf",
   "metadata": {},
   "outputs": [
    {
     "name": "stdout",
     "output_type": "stream",
     "text": [
      "DatasetDict({\n",
      "    train: Dataset({\n",
      "        features: ['instruction', 'input', 'output', 'text'],\n",
      "        num_rows: 100\n",
      "    })\n",
      "})\n"
     ]
    }
   ],
   "source": [
    "print(datasets_for_tokenizer)"
   ]
  },
  {
   "cell_type": "code",
   "execution_count": 33,
   "id": "7f563535-64e7-44a6-85e4-d205a7b3400e",
   "metadata": {},
   "outputs": [],
   "source": [
    "def tokenize(dataset):\n",
    "    \n",
    "    return tokenizer(dataset[\"text\"], padding=\"max_length\", truncation=True, max_length=128)"
   ]
  },
  {
   "cell_type": "code",
   "execution_count": 39,
   "id": "2e67ae63-7b62-4ca9-8846-b1033b9b198e",
   "metadata": {},
   "outputs": [],
   "source": [
    "tokenizer = AutoTokenizer.from_pretrained(\"TinyLlama/TinyLlama-1.1B-Chat-v1.0\")"
   ]
  },
  {
   "cell_type": "code",
   "execution_count": 35,
   "id": "e0b3c5b6-61b0-47a0-86e8-cc90ea687029",
   "metadata": {},
   "outputs": [
    {
     "data": {
      "application/vnd.jupyter.widget-view+json": {
       "model_id": "d42f59bee2ee4833be295b1efc9a486e",
       "version_major": 2,
       "version_minor": 0
      },
      "text/plain": [
       "Map:   0%|          | 0/100 [00:00<?, ? examples/s]"
      ]
     },
     "metadata": {},
     "output_type": "display_data"
    }
   ],
   "source": [
    "inputs = datasets_for_tokenizer.map(tokenize, batched=True)"
   ]
  },
  {
   "cell_type": "code",
   "execution_count": 36,
   "id": "e9ddab3e-8ea8-49de-b39d-06c7939d61e7",
   "metadata": {},
   "outputs": [
    {
     "name": "stdout",
     "output_type": "stream",
     "text": [
      "DatasetDict({\n",
      "    train: Dataset({\n",
      "        features: ['instruction', 'input', 'output', 'text', 'input_ids', 'attention_mask'],\n",
      "        num_rows: 100\n",
      "    })\n",
      "})\n"
     ]
    }
   ],
   "source": [
    "print(inputs)"
   ]
  },
  {
   "cell_type": "code",
   "execution_count": 37,
   "id": "6f2d475f-ec52-48d3-a70b-5f16daeacb84",
   "metadata": {},
   "outputs": [],
   "source": [
    "import torch"
   ]
  },
  {
   "cell_type": "code",
   "execution_count": 38,
   "id": "bc20e781-aa03-49ee-84d5-cc30a3666053",
   "metadata": {},
   "outputs": [],
   "source": [
    "device = \"cuda\" if torch.cuda.is_available() else \"cpu\""
   ]
  },
  {
   "cell_type": "markdown",
   "id": "88e348c1",
   "metadata": {},
   "source": [
    "### 注意，因为我的这个大语言模型是decoder-only模型，所以说模型其实是根据左边的结果来预测右边，所以说我们要显式设置我们的模型的tokenizer从左边填充我们的模型，也就是在左边加[PAD],不然模型的任务就变成根据左边的真实的内容预测我们右边的[PAD]这个token了"
   ]
  },
  {
   "cell_type": "code",
   "execution_count": null,
   "id": "4bd67f82",
   "metadata": {},
   "outputs": [],
   "source": [
    "tokenizer.padding_side = \"left\""
   ]
  },
  {
   "cell_type": "code",
   "execution_count": 40,
   "id": "a04899bc-7e55-4f01-8815-17d138808f72",
   "metadata": {},
   "outputs": [],
   "source": [
    "model_id = \"TinyLlama/TinyLlama-1.1B-Chat-v1.0\"\n",
    "model = AutoModelForCausalLM.from_pretrained(\"TinyLlama/TinyLlama-1.1B-Chat-v1.0\", device_map=device)"
   ]
  },
  {
   "cell_type": "code",
   "execution_count": 42,
   "id": "f34a70c1-06d5-4bfd-8398-4ee7ed40c8f0",
   "metadata": {},
   "outputs": [],
   "source": [
    "lora_config = LoraConfig(\n",
    "    r = 8,\n",
    "    lora_alpha=16,\n",
    "    task_type=TaskType.CAUSAL_LM\n",
    ")\n",
    "\n",
    "model = get_peft_model(model, lora_config)"
   ]
  },
  {
   "cell_type": "markdown",
   "id": "e720e2f8-7540-4ada-a1c4-b8c9fe53785f",
   "metadata": {},
   "source": [
    "### 可以看到使用lora我们只需要训练很少的数据数量，仅仅为0.1%"
   ]
  },
  {
   "cell_type": "code",
   "execution_count": 43,
   "id": "7bb546ac-df87-49c4-bb8d-1f6b703210ae",
   "metadata": {},
   "outputs": [
    {
     "name": "stdout",
     "output_type": "stream",
     "text": [
      "trainable params: 1,126,400 || all params: 1,101,174,784 || trainable%: 0.1023\n"
     ]
    }
   ],
   "source": [
    "model.print_trainable_parameters()"
   ]
  },
  {
   "cell_type": "code",
   "execution_count": 47,
   "id": "f63d30af-fa5a-4fd0-84e3-0178f3a7f0fc",
   "metadata": {},
   "outputs": [],
   "source": [
    "from torch.optim import AdamW"
   ]
  },
  {
   "attachments": {
    "image.png": {
     "image/png": "[encoded data removed]"
    }
   },
   "cell_type": "markdown",
   "id": "02580cac",
   "metadata": {},
   "source": [
    "### 现在有一个非常重要的问题：![image.png](attachment:image.png)"
   ]
  },
  {
   "cell_type": "markdown",
   "id": "063bbf1d",
   "metadata": {},
   "source": [
    "### 我们的模型经过了tokenize之后，得到了：`input_ids` `attention_mask`这两个东西，其中input_ids是我的输入的数据经过tokenizer分词并转换成tensor类型的结果，然后我的attention_mask决定我的模型训练的时候关注哪些东西，所以就算没有设置-100，但是我的attention_mask的作用下，我的模型并不会学习到错误的知识\n",
    "\n",
    "## 但是！由于模型的优化器是根据模型的结果[labels] 来作为标准的答案，然后使用模型运行输入数据后得到的结果和这个标准结果进行比较然后计算loss优化我们的模型的，所以如果说没有设置为-100，在计算loss的时候会自动计算[PAD]的loss，这样会让我们的模型学习无用的信息，泛化能力也会下降"
   ]
  },
  {
   "attachments": {
    "image.png": {
     "image/png": "[encoded data removed]"
    }
   },
   "cell_type": "markdown",
   "id": "bad78c14",
   "metadata": {},
   "source": [
    "![image.png](attachment:image.png)"
   ]
  },
  {
   "cell_type": "code",
   "execution_count": null,
   "id": "bd2393ff",
   "metadata": {},
   "outputs": [],
   "source": [
    "def set_labels(example):\n",
    "    input_ids = example[\"input_ids\"].copy()\n",
    "    pad_id = tokenizer.pad_token_id\n",
    "    \n",
    "    labels = [-100 if token_id == pad_id else token_id for token_id in input_ids]\n",
    "    example[\"labels\"] = labels\n",
    "    \n",
    "    return example\n",
    "    "
   ]
  },
  {
   "cell_type": "code",
   "execution_count": null,
   "id": "cf9a41cb-d0f1-4d7f-8a75-79767742612d",
   "metadata": {},
   "outputs": [
    {
     "data": {
      "application/vnd.jupyter.widget-view+json": {
       "model_id": "3df92b1c6f49406c85bf9371abaa0d36",
       "version_major": 2,
       "version_minor": 0
      },
      "text/plain": [
       "Map:   0%|          | 0/100 [00:00<?, ? examples/s]"
      ]
     },
     "metadata": {},
     "output_type": "display_data"
    }
   ],
   "source": [
    "inputs = inputs.map(set_labels)\n"
   ]
  },
  {
   "cell_type": "code",
   "execution_count": null,
   "id": "5389c367",
   "metadata": {},
   "outputs": [],
   "source": [
    "inputs.set_format(\"torch\")"
   ]
  },
  {
   "cell_type": "code",
   "execution_count": 51,
   "id": "29a1e79b-f8e0-468a-89df-e93d31731e06",
   "metadata": {},
   "outputs": [
    {
     "name": "stdout",
     "output_type": "stream",
     "text": [
      "DatasetDict({\n",
      "    train: Dataset({\n",
      "        features: ['instruction', 'input', 'output', 'text', 'input_ids', 'attention_mask', 'labels'],\n",
      "        num_rows: 100\n",
      "    })\n",
      "})\n"
     ]
    }
   ],
   "source": [
    "print(inputs)"
   ]
  },
  {
   "cell_type": "code",
   "execution_count": 52,
   "id": "365f0bbc-9d09-48ca-8e21-9b4072c6881c",
   "metadata": {},
   "outputs": [
    {
     "name": "stderr",
     "output_type": "stream",
     "text": [
      "epoch 1: 100%|███████████████████████████████████████████████████████████████████████████████████████████████████████████████████████████████████████| 7/7 [00:10<00:00,  1.44s/it]\n"
     ]
    },
    {
     "name": "stdout",
     "output_type": "stream",
     "text": [
      "loss for epoch 1 is 10.629281112125941\n"
     ]
    },
    {
     "name": "stderr",
     "output_type": "stream",
     "text": [
      "epoch 2: 100%|███████████████████████████████████████████████████████████████████████████████████████████████████████████████████████████████████████| 7/7 [00:09<00:00,  1.34s/it]\n"
     ]
    },
    {
     "name": "stdout",
     "output_type": "stream",
     "text": [
      "loss for epoch 2 is 3.896667378289359\n"
     ]
    },
    {
     "name": "stderr",
     "output_type": "stream",
     "text": [
      "epoch 3: 100%|███████████████████████████████████████████████████████████████████████████████████████████████████████████████████████████████████████| 7/7 [00:09<00:00,  1.38s/it]"
     ]
    },
    {
     "name": "stdout",
     "output_type": "stream",
     "text": [
      "loss for epoch 3 is 1.2305080550057548\n"
     ]
    },
    {
     "name": "stderr",
     "output_type": "stream",
     "text": [
      "\n"
     ]
    }
   ],
   "source": [
    "from torch.utils.data import DataLoader\n",
    "from tqdm import tqdm\n",
    "import numpy as np\n",
    "\n",
    "\n",
    "data_loader = DataLoader(inputs[\"train\"], batch_size=16, shuffle=True)\n",
    "optimizer = AdamW(model.parameters(), lr=2e-4)\n",
    "\n",
    "epochs = 3\n",
    "model.to(device)\n",
    "model.train()\n",
    "\n",
    "for epoch in range(epochs):\n",
    "    loss_avr = []\n",
    "    progress = tqdm(data_loader, desc=f\"epoch {epoch + 1}\")\n",
    "    for batch in progress:\n",
    "        optimizer.zero_grad()\n",
    "\n",
    "        \n",
    "        input_ids = batch[\"input_ids\"].to(device)\n",
    "        attention_mask = batch[\"attention_mask\"].to(device)\n",
    "        labels = batch[\"labels\"].to(device)\n",
    "\n",
    "        outputs = model(input_ids=input_ids, attention_mask=attention_mask, labels=labels)\n",
    "        loss = outputs.loss\n",
    "        loss_avr.append(loss.item())\n",
    "\n",
    "        loss.backward()\n",
    "        optimizer.step()\n",
    "\n",
    "    \n",
    "    \n",
    "    print(f\"loss for epoch {epoch+1} is {np.mean(loss_avr)}\")"
   ]
  },
  {
   "cell_type": "code",
   "execution_count": 53,
   "id": "4b43d3a0-68b5-4d5e-a479-605c88667898",
   "metadata": {},
   "outputs": [
    {
     "data": {
      "text/plain": [
       "('TinyLlama_lora_finetune\\\\tokenizer_config.json',\n",
       " 'TinyLlama_lora_finetune\\\\special_tokens_map.json',\n",
       " 'TinyLlama_lora_finetune\\\\chat_template.jinja',\n",
       " 'TinyLlama_lora_finetune\\\\tokenizer.json')"
      ]
     },
     "execution_count": 53,
     "metadata": {},
     "output_type": "execute_result"
    }
   ],
   "source": [
    "model.save_pretrained(\"TinyLlama_lora_finetune\")\n",
    "tokenizer.save_pretrained(\"TinyLlama_lora_finetune\")"
   ]
  },
  {
   "cell_type": "code",
   "execution_count": 69,
   "id": "febe4cfd-173c-410e-ac77-f47645a77b6a",
   "metadata": {},
   "outputs": [],
   "source": [
    "# clean the using of GPU memory\n",
    "torch.cuda.empty_cache()"
   ]
  },
  {
   "cell_type": "code",
   "execution_count": 79,
   "id": "7083169d-f20b-486e-be7a-ebab304c4cc9",
   "metadata": {},
   "outputs": [],
   "source": [
    "import torch\n",
    "from transformers import AutoTokenizer, AutoModelForCausalLM\n",
    "from peft import PeftModel"
   ]
  },
  {
   "cell_type": "code",
   "execution_count": 80,
   "id": "3054749e-030a-4389-8618-d7f37d641aa6",
   "metadata": {},
   "outputs": [],
   "source": [
    "model_id = \"TinyLlama_lora_finetune/\""
   ]
  },
  {
   "cell_type": "code",
   "execution_count": 81,
   "id": "353a471a-1ade-4a98-8ae4-71ac53dcfb43",
   "metadata": {},
   "outputs": [],
   "source": [
    "device = \"cuda\" if torch.cuda.is_available() else \"cpu\"\n",
    "\n",
    "# the tokenizer has no changed\n",
    "tokenizer = AutoTokenizer.from_pretrained(model_id)\n",
    "# need to use the original model to conbian with LoRA\n",
    "model = AutoModelForCausalLM.from_pretrained(\"TinyLlama/TinyLlama-1.1B-Chat-v1.0\", device_map=device)\n",
    "peft_model = PeftModel.from_pretrained(model, model_id)"
   ]
  },
  {
   "cell_type": "code",
   "execution_count": null,
   "id": "245b404a-a22d-44fd-a1ef-75b958892fbd",
   "metadata": {},
   "outputs": [],
   "source": [
    "model.eval()"
   ]
  },
  {
   "cell_type": "code",
   "execution_count": 83,
   "id": "60c0f9a4-5cac-442f-8748-b0bbbedf4e71",
   "metadata": {},
   "outputs": [],
   "source": [
    "def chat_with_model(user_input, chat_history):\n",
    "    prompt = \"\"\n",
    "\n",
    "    for user, bot in chat_history:\n",
    "        prompt += f\"User :{user}\\nAssistant: {bot}\\n\"\n",
    "    prompt += f\"User: {user_input}\"\n",
    "    prompt += f\"Assistant: \"\n",
    "\n",
    "    inputs = tokenizer(prompt, return_tensors=\"pt\").to(device)\n",
    "\n",
    "    with torch.no_grad():\n",
    "        outputs = model.generate(\n",
    "            **inputs,\n",
    "            max_new_tokens=128,\n",
    "            do_sample=True,\n",
    "            temperature=0.7,\n",
    "            top_p=0.9\n",
    "        )\n",
    "\n",
    "    response = tokenizer.decode(outputs[0], skip_special_tokens=True)\n",
    "    latest_response = response.split(\"Assistant:\")[-1].strip()\n",
    "\n",
    "    chat_history.append((user_input, latest_response))\n",
    "\n",
    "    return chat_history"
   ]
  },
  {
   "cell_type": "code",
   "execution_count": 89,
   "id": "00793b0d-f069-4883-b591-452ab1f4a465",
   "metadata": {},
   "outputs": [],
   "source": [
    "def reset_history_of_gradio():\n",
    "    return [], []"
   ]
  },
  {
   "cell_type": "code",
   "execution_count": 85,
   "id": "5ec58c33-2f56-42c7-b951-f2ee640cc807",
   "metadata": {},
   "outputs": [],
   "source": [
    "import gradio as gr"
   ]
  },
  {
   "cell_type": "code",
   "execution_count": 86,
   "id": "3bb77986-e84c-419e-8f29-2daf273242a1",
   "metadata": {},
   "outputs": [],
   "source": [
    "chat_history = []"
   ]
  },
  {
   "cell_type": "code",
   "execution_count": null,
   "id": "249b2f58-3f5a-4641-b315-599882aeeade",
   "metadata": {},
   "outputs": [],
   "source": [
    "with gr.Blocks() as demo:\n",
    "    gr.Markdown(\"## This a demo of LoRa fine-tuning TinyLlama\")\n",
    "    \n",
    "    chat_bot = gr.Chatbot()\n",
    "    user_input = gr.Textbox(placeholder=\"please sign your inputs here\")\n",
    "    submit_button = gr.Button(\"send request\")\n",
    "    reset_history = gr.Button(\"reset history\")\n",
    "\n",
    "    state = gr.State([])\n",
    "    \n",
    "    submit_button.click(\n",
    "        fn=chat_with_model,\n",
    "        inputs=[user_input, state],\n",
    "        outputs=chat_bot\n",
    "    ).then(fn=lambda:\"\", inputs=[], outputs=user_input)\n",
    "\n",
    "    reset_history.click(\n",
    "        fn=reset_history_of_gradio,\n",
    "        outputs=[chat_bot, state]\n",
    "    )\n",
    "\n",
    "demo.launch()"
   ]
  },
  {
   "cell_type": "markdown",
   "id": "da6b9e54-1ce2-4c29-8b43-ba2e5e081793",
   "metadata": {},
   "source": [
    "## 以上是传统的部署方法，看的出效果很烂，可以尝试使用ollama获取微调后的safetensor然后本地部署，方便又简单，只需调用api/chat，然后发送的数据是messages，接收的是message就行了"
   ]
  },
  {
   "cell_type": "markdown",
   "id": "955050ab-f3aa-4b92-bb15-3a262705cc3a",
   "metadata": {},
   "source": [
    "### 目前ollama不支持直接使用微调后的基础模型和LoRa进行加载，所以要先进行转换然后才能使用ollama加载模型，目前（2025-0705）我记得官方文档上说支持使用safetensors以及GGUF"
   ]
  },
  {
   "cell_type": "markdown",
   "id": "0ff099f8-e4a7-489f-8b0c-c0b340af28bc",
   "metadata": {},
   "source": [
    "### GGUF支持在小模型上部署并且进行量化，但是使用非常复杂，所以现在首先进行safetensors格式的学习"
   ]
  },
  {
   "cell_type": "markdown",
   "id": "77cd4e91-a4d4-42bb-9da7-fc65c6100faf",
   "metadata": {},
   "source": [
    "### 上面保存了我的模型以及LoRa的参数，格式是safetensors，查看Ollama的imports得知，加载safetensors模型在我的imorts中"
   ]
  },
  {
   "attachments": {
    "cd1849b1-3542-4a45-9fd0-3becd0df816f.png": {
     "image/png": "[encoded data removed]"
    }
   },
   "cell_type": "markdown",
   "id": "7285ac1b-3fe6-4cc8-aa7a-c819f83c8588",
   "metadata": {},
   "source": [
    "![Screenshot 2025-07-05 130459.png](attachment:cd1849b1-3542-4a45-9fd0-3becd0df816f.png)"
   ]
  },
  {
   "cell_type": "markdown",
   "id": "fb5560f0-2e88-445a-bd53-b5c8aad2c350",
   "metadata": {},
   "source": [
    "### 从上面可以看到，在创建的safetensors文件类型的文件夹中创建一个名字叫：ModelFile的文件，没有后缀名，然后From命令后面的是在Ollama中pull的原始的模型（微调前），然后ADAPTER . 表示我的Lora的微调的结果在同一文件夹"
   ]
  },
  {
   "cell_type": "markdown",
   "id": "fe6cb04b-ec5f-42ec-bf46-23485b859548",
   "metadata": {},
   "source": [
    "### 现在进行gradio的编写"
   ]
  },
  {
   "cell_type": "code",
   "execution_count": 15,
   "id": "cfd0d43d-f70f-476d-9cb2-2ee17d6a1de4",
   "metadata": {},
   "outputs": [],
   "source": [
    "import gradio as gr\n",
    "import requests\n",
    "import json"
   ]
  },
  {
   "cell_type": "code",
   "execution_count": 16,
   "id": "c44ad813-ecdd-448b-9e22-fbac93da3c69",
   "metadata": {},
   "outputs": [],
   "source": [
    "model_name = \"my_tiny_llama:latest\"\n",
    "ollama_url = \"http://localhost:11434/api/chat\""
   ]
  },
  {
   "cell_type": "code",
   "execution_count": 21,
   "id": "b2055b80-31b0-4c92-b135-35d739b0b0dc",
   "metadata": {},
   "outputs": [],
   "source": [
    "def chat_with_self_tiny_llama(user_input, chat_history):\n",
    "    messages = []\n",
    "\n",
    "    for user, bot in chat_history:\n",
    "        messages.append({\"role\": \"user\", \"content\": user})\n",
    "        messages.append({\"role\": \"assistant\", \"content\": bot})\n",
    "\n",
    "    messages.append({\"role\": \"user\", \"content\": user_input})\n",
    "\n",
    "    response = requests.post(ollama_url, json={\n",
    "        \"model\":model_name,\n",
    "        \"messages\":messages\n",
    "    }, stream=True)\n",
    "\n",
    "    reply_message = \"\"\n",
    "\n",
    "    for line in response.iter_lines():\n",
    "        if line:\n",
    "            chunks = json.loads(line.decode(\"utf-8\"))\n",
    "            content = chunks.get(\"message\", {}).get(\"content\", \"\")\n",
    "            reply_message += content\n",
    "            \n",
    "            yield chat_history + [(user_input, reply_message)] "
   ]
  },
  {
   "cell_type": "code",
   "execution_count": 22,
   "id": "160ae544-b6d4-467e-955d-cf0f7cfadf44",
   "metadata": {},
   "outputs": [],
   "source": [
    "def reset_chat_history():\n",
    "    return []"
   ]
  },
  {
   "cell_type": "code",
   "execution_count": null,
   "id": "37653eb7-481a-43a3-be06-2d53acf4f7ce",
   "metadata": {},
   "outputs": [],
   "source": [
    "with gr.Blocks() as demo:\n",
    "    gr.Markdown(\"## This the model after fine-tune\")\n",
    "\n",
    "    chat_bot = gr.Chatbot()\n",
    "    user_input = gr.Textbox(placeholder=\"Please input text here\")\n",
    "    submit_button = gr.Button(value=\"Send Request\")\n",
    "    reset_button = gr.Button(value=\"Reset Chat History\")\n",
    "    submit_button.click(\n",
    "        fn=chat_with_self_tiny_llama,\n",
    "        inputs=[user_input, chat_bot],\n",
    "        outputs=chat_bot\n",
    "    ).then(fn=lambda:\"\", inputs=[], outputs=user_input)\n",
    "\n",
    "    reset_button.click(\n",
    "        fn=reset_chat_history,\n",
    "        outputs=chat_bot\n",
    "    )\n",
    "\n",
    "demo.launch()"
   ]
  }
 ],
 "metadata": {
  "kernelspec": {
   "display_name": "RA-BKpWPXUI",
   "language": "python",
   "name": "python3"
  },
  "language_info": {
   "codemirror_mode": {
    "name": "ipython",
    "version": 3
   },
   "file_extension": ".py",
   "mimetype": "text/x-python",
   "name": "python",
   "nbconvert_exporter": "python",
   "pygments_lexer": "ipython3",
   "version": "3.12.3"
  }
 },
 "nbformat": 4,
 "nbformat_minor": 5
}
