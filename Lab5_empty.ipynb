{
 "cells": [
  {
   "cell_type": "markdown",
   "id": "pyJ9dt44oUNa",
   "metadata": {
    "id": "pyJ9dt44oUNa"
   },
   "source": [
    "# Lab 5. Transformers"
   ]
  },
  {
   "cell_type": "markdown",
   "id": "vUZk6CaMoUAx",
   "metadata": {
    "id": "vUZk6CaMoUAx"
   },
   "source": [
    "---\n",
    "\n",
    "How to Use This Notebook\n",
    "---\n",
    "\n",
    "**Recommended Setup**\n",
    "- For the best experience, **run this notebook on [Google Colab](https://colab.research.google.com/)**—especially if your local machine is slow.  \n",
    "- In Colab, **enable GPU support** by going to:  \n",
    "  `Runtime > Change runtime type > Hardware accelerator > GPU`\n",
    "\n",
    "\n",
    "**Homework Tasks**\n",
    "\n",
    " - Homework tasks are clearly marked throughout the notebook in the following format:\n",
    "\n",
    "   > ---\n",
    "\n",
    "   > <span style=\"color:red\"><b>TASK X</b> - [<i>some text</i>]:</span>\n",
    "\n",
    "   > ---\n",
    "\n",
    "   > ```Your code ....```\n",
    "\n",
    "   > ---\n",
    "\n",
    "   > *End of Task X.* [*Instructions for passing*]\n",
    "\n",
    " - For each task:\n",
    "   - **Complete the code** where indicated.\n",
    "   - **Upload the required results** from each task to **Homework 5 – Code** on [NextIlearn](https://nextilearn.dsv.su.se).\n",
    "\n",
    " - Once you've finished all the tasks:\n",
    "   Submit your **entire completed notebook (including your code!)** to **Homework 5 – Notebook** on [NextIlearn](https://nextilearn.dsv.su.se).\n",
    "\n",
    "**Important:**  \n",
    "Your submission will **only be graded if both files** (code + notebook) are uploaded **before the deadline**. Late submissions are **not accepted**, regardless of technical issues like bad internet connection.\n",
    "\n",
    "---"
   ]
  },
  {
   "cell_type": "markdown",
   "id": "b6e28aa0",
   "metadata": {
    "id": "b6e28aa0"
   },
   "source": [
    "This lab introduces students to working with pre-trained BERT embeddings, fine-tuning BERT for classification, and extending BERT with a simple autoregressive head.\n",
    "\n",
    "## Objectives\n",
    "- Extract contextual embeddings using a pre-trained BERT model.\n",
    "- Fine-tune BERT on a downstream classification task.\n",
    "- Build a simple autoregressive extension of BERT.\n"
   ]
  },
  {
   "cell_type": "code",
   "execution_count": 1,
   "id": "d84c506e",
   "metadata": {
    "id": "d84c506e"
   },
   "outputs": [],
   "source": [
    "%%capture\n",
    "# Install necessary libraries\n",
    "!pip install transformers torch scikit-learn datasets matplotlib\n",
    "\n",
    "# Unzip data\n",
    "#!unzip data.zip"
   ]
  },
  {
   "cell_type": "code",
   "execution_count": 7,
   "id": "a4887e59",
   "metadata": {
    "id": "a4887e59"
   },
   "outputs": [],
   "source": [
    "# Import required libraries\n",
    "import torch\n",
    "import numpy as np\n",
    "import pandas as pd\n",
    "from tqdm import tqdm\n",
    "from datasets import load_dataset\n",
    "from torch.utils.data import DataLoader\n",
    "import torch.nn.functional as F"
   ]
  },
  {
   "cell_type": "markdown",
   "id": "790f2cbc",
   "metadata": {
    "id": "790f2cbc"
   },
   "source": [
    "## 1. Using Pre-trained BERT Embeddings\n",
    "\n",
    "Let's load a pre-trained BERT model and extract token-level and sentence-level embeddings. [Huggingface's `transformers` library](https://huggingface.co/transformers]) provides easy access to most open source transformer models. The most convenient way is using their `Auto`-classes, which work with most models:\n",
    "\n",
    "* `transformers.AutoTokenizer` provides access to the pretrained tokenizer (i.e. including the vocabulary used for training the model)\n",
    "* `transformers.AutoModel` provides access to the pretrained model in its base configuration (i.e. including the trained parameters)\n",
    "\n",
    "Both provide the `.from_pretrained()` method, which automatically instantiates the correct class and downloads the pretrained data based on a model identifier:\n",
    "\n",
    "*   `'bert-base-uncased'`: normal sized BERT ([Devlin et al, 2019](https://doi.org/10.48550/arXiv.1810.04805))\n",
    "*   `'bert-small-uncased'`: a smaller version of BERT ([Devlin et al, 2019](https://doi.org/10.48550/arXiv.1810.04805))\n",
    "*   `'FacebookAI/xlm-roberta-base'`: a BERT-sized multilingual model ([Conneau et al, 2019](https://doi.org/10.48550/arXiv.1911.02116))\n",
    "*   `'gpt2'`: a predecessor of today's GPT-4o, the backbone of ChatGPT ([Radford et al, 2019](https://cdn.openai.com/better-language-models/language_models_are_unsupervised_multitask_learners.pdf))\n",
    "\n",
    "An extensive list of models can be found at [https://huggingface.co/models](https://huggingface.co/models)."
   ]
  },
  {
   "cell_type": "code",
   "execution_count": 8,
   "id": "0B0vQkfjsADL",
   "metadata": {
    "id": "0B0vQkfjsADL"
   },
   "outputs": [],
   "source": [
    "from transformers import AutoTokenizer, AutoModel"
   ]
  },
  {
   "cell_type": "markdown",
   "id": "wrfrfEyRsDwP",
   "metadata": {
    "id": "wrfrfEyRsDwP"
   },
   "source": [
    "### **1. Step:** Load the pretrained tokenizer"
   ]
  },
  {
   "cell_type": "code",
   "execution_count": 9,
   "id": "WToDkmjCqXW5",
   "metadata": {
    "colab": {
     "base_uri": "https://localhost:8080/",
     "height": 485
    },
    "id": "WToDkmjCqXW5",
    "outputId": "4e3cac6c-d700-4a92-eb6e-9ce05eea8306"
   },
   "outputs": [
    {
     "data": {
      "text/plain": [
       "transformers.models.bert.tokenization_bert_fast.BertTokenizerFast"
      ]
     },
     "execution_count": 9,
     "metadata": {},
     "output_type": "execute_result"
    }
   ],
   "source": [
    "tokenizer = AutoTokenizer.from_pretrained('bert-base-uncased')\n",
    "type(tokenizer)"
   ]
  },
  {
   "cell_type": "markdown",
   "id": "Q758NTgLtF0-",
   "metadata": {
    "id": "Q758NTgLtF0-"
   },
   "source": [
    "Let's encode some sample sentences to see how it works:"
   ]
  },
  {
   "cell_type": "code",
   "execution_count": 10,
   "id": "2re-HJ80s750",
   "metadata": {
    "colab": {
     "base_uri": "https://localhost:8080/"
    },
    "id": "2re-HJ80s750",
    "outputId": "af30d5d1-418a-44a2-f61a-60a8588637a3"
   },
   "outputs": [
    {
     "data": {
      "text/plain": [
       "{'input_ids': tensor([[  101,  1996,  4248,  ...,     0,     0,     0],\n",
       "        [  101,  1037, 26035,  ...,     0,     0,     0]]), 'token_type_ids': tensor([[0, 0, 0,  ..., 0, 0, 0],\n",
       "        [0, 0, 0,  ..., 0, 0, 0]]), 'attention_mask': tensor([[1, 1, 1,  ..., 0, 0, 0],\n",
       "        [1, 1, 1,  ..., 0, 0, 0]])}"
      ]
     },
     "execution_count": 10,
     "metadata": {},
     "output_type": "execute_result"
    }
   ],
   "source": [
    "sentences = [\"The quick brown fox jumps over the lazy dog.\", \"A stitch in time saves nine.\"]\n",
    "\n",
    "# tokenize the sentences:\n",
    "inputs = tokenizer(sentences,\n",
    "  return_tensors='pt',    # return the output of this function as pytorch tensors.\n",
    "                          # Other options: 'np' -> numpy\n",
    "                          #                'tf' -> tensorflow\n",
    "\n",
    "  padding='max_length',   # pad the sentences to context length of the model.\n",
    "                          # Other options: 'longest' / True     -> pad to longest length in batch\n",
    "                          #                'do_not_pad' / False -> no padding\n",
    "\n",
    "  truncation=True         # Options: 'longest_first' / True    -> Truncate to a maximum length specified with the argument max_length or to the maximum acceptable input length for the model if that argument is not provided.\n",
    "                          #          'do_not_truncate' / False -> No truncation (i.e., can output batch with sequence lengths greater than the model maximum admissible input size)\n",
    ")\n",
    "\n",
    "inputs"
   ]
  },
  {
   "cell_type": "markdown",
   "id": "D5iAAznbx0Aa",
   "metadata": {
    "id": "D5iAAznbx0Aa"
   },
   "source": [
    "`inputs` is a dictionary-like object including all the information needed for the transformer:"
   ]
  },
  {
   "cell_type": "markdown",
   "id": "wnco6J7RysHZ",
   "metadata": {
    "id": "wnco6J7RysHZ"
   },
   "source": [
    "#### **Member `'input_ids'`**: the actual tokens!"
   ]
  },
  {
   "cell_type": "code",
   "execution_count": 11,
   "id": "BRhplnXczPiA",
   "metadata": {
    "colab": {
     "base_uri": "https://localhost:8080/"
    },
    "id": "BRhplnXczPiA",
    "outputId": "41536ffc-a173-4287-ac69-78a441f8dbe1"
   },
   "outputs": [
    {
     "data": {
      "text/plain": [
       "tensor([[  101,  1996,  4248,  ...,     0,     0,     0],\n",
       "        [  101,  1037, 26035,  ...,     0,     0,     0]])"
      ]
     },
     "execution_count": 11,
     "metadata": {},
     "output_type": "execute_result"
    }
   ],
   "source": [
    "# in encoded form:\n",
    "inputs['input_ids']"
   ]
  },
  {
   "cell_type": "code",
   "execution_count": 12,
   "id": "jWpxUahOyCPZ",
   "metadata": {
    "colab": {
     "base_uri": "https://localhost:8080/"
    },
    "id": "jWpxUahOyCPZ",
    "outputId": "e71059a9-2931-4693-e123-115ea17bc580"
   },
   "outputs": [
    {
     "data": {
      "text/plain": [
       "torch.Size([2, 512])"
      ]
     },
     "execution_count": 12,
     "metadata": {},
     "output_type": "execute_result"
    }
   ],
   "source": [
    "# the shape is number of input texts x sequnece length:\n",
    "inputs['input_ids'].shape"
   ]
  },
  {
   "cell_type": "code",
   "execution_count": 13,
   "id": "d8xeWqkmzUHP",
   "metadata": {
    "colab": {
     "base_uri": "https://localhost:8080/"
    },
    "id": "d8xeWqkmzUHP",
    "outputId": "8fd91b70-adc7-4fb4-dc65-c6bed19dfbb9"
   },
   "outputs": [
    {
     "data": {
      "text/plain": [
       "['[CLS] the quick brown fox jumps over the lazy dog. [SEP] [PAD] [PAD] [PAD] [PAD] [PAD] [PAD] [PAD] [PAD] [PAD] [PAD] [PAD] [PAD] [PAD] [PAD] [PAD] [PAD] [PAD] [PAD] [PAD] [PAD] [PAD] [PAD] [PAD] [PAD] [PAD] [PAD] [PAD] [PAD] [PAD] [PAD] [PAD] [PAD] [PAD] [PAD] [PAD] [PAD] [PAD] [PAD] [PAD] [PAD] [PAD] [PAD] [PAD] [PAD] [PAD] [PAD] [PAD] [PAD] [PAD] [PAD] [PAD] [PAD] [PAD] [PAD] [PAD] [PAD] [PAD] [PAD] [PAD] [PAD] [PAD] [PAD] [PAD] [PAD] [PAD] [PAD] [PAD] [PAD] [PAD] [PAD] [PAD] [PAD] [PAD] [PAD] [PAD] [PAD] [PAD] [PAD] [PAD] [PAD] [PAD] [PAD] [PAD] [PAD] [PAD] [PAD] [PAD] [PAD] [PAD] [PAD] [PAD] [PAD] [PAD] [PAD] [PAD] [PAD] [PAD] [PAD] [PAD] [PAD] [PAD] [PAD] [PAD] [PAD] [PAD] [PAD] [PAD] [PAD] [PAD] [PAD] [PAD] [PAD] [PAD] [PAD] [PAD] [PAD] [PAD] [PAD] [PAD] [PAD] [PAD] [PAD] [PAD] [PAD] [PAD] [PAD] [PAD] [PAD] [PAD] [PAD] [PAD] [PAD] [PAD] [PAD] [PAD] [PAD] [PAD] [PAD] [PAD] [PAD] [PAD] [PAD] [PAD] [PAD] [PAD] [PAD] [PAD] [PAD] [PAD] [PAD] [PAD] [PAD] [PAD] [PAD] [PAD] [PAD] [PAD] [PAD] [PAD] [PAD] [PAD] [PAD] [PAD] [PAD] [PAD] [PAD] [PAD] [PAD] [PAD] [PAD] [PAD] [PAD] [PAD] [PAD] [PAD] [PAD] [PAD] [PAD] [PAD] [PAD] [PAD] [PAD] [PAD] [PAD] [PAD] [PAD] [PAD] [PAD] [PAD] [PAD] [PAD] [PAD] [PAD] [PAD] [PAD] [PAD] [PAD] [PAD] [PAD] [PAD] [PAD] [PAD] [PAD] [PAD] [PAD] [PAD] [PAD] [PAD] [PAD] [PAD] [PAD] [PAD] [PAD] [PAD] [PAD] [PAD] [PAD] [PAD] [PAD] [PAD] [PAD] [PAD] [PAD] [PAD] [PAD] [PAD] [PAD] [PAD] [PAD] [PAD] [PAD] [PAD] [PAD] [PAD] [PAD] [PAD] [PAD] [PAD] [PAD] [PAD] [PAD] [PAD] [PAD] [PAD] [PAD] [PAD] [PAD] [PAD] [PAD] [PAD] [PAD] [PAD] [PAD] [PAD] [PAD] [PAD] [PAD] [PAD] [PAD] [PAD] [PAD] [PAD] [PAD] [PAD] [PAD] [PAD] [PAD] [PAD] [PAD] [PAD] [PAD] [PAD] [PAD] [PAD] [PAD] [PAD] [PAD] [PAD] [PAD] [PAD] [PAD] [PAD] [PAD] [PAD] [PAD] [PAD] [PAD] [PAD] [PAD] [PAD] [PAD] [PAD] [PAD] [PAD] [PAD] [PAD] [PAD] [PAD] [PAD] [PAD] [PAD] [PAD] [PAD] [PAD] [PAD] [PAD] [PAD] [PAD] [PAD] [PAD] [PAD] [PAD] [PAD] [PAD] [PAD] [PAD] [PAD] [PAD] [PAD] [PAD] [PAD] [PAD] [PAD] [PAD] [PAD] [PAD] [PAD] [PAD] [PAD] [PAD] [PAD] [PAD] [PAD] [PAD] [PAD] [PAD] [PAD] [PAD] [PAD] [PAD] [PAD] [PAD] [PAD] [PAD] [PAD] [PAD] [PAD] [PAD] [PAD] [PAD] [PAD] [PAD] [PAD] [PAD] [PAD] [PAD] [PAD] [PAD] [PAD] [PAD] [PAD] [PAD] [PAD] [PAD] [PAD] [PAD] [PAD] [PAD] [PAD] [PAD] [PAD] [PAD] [PAD] [PAD] [PAD] [PAD] [PAD] [PAD] [PAD] [PAD] [PAD] [PAD] [PAD] [PAD] [PAD] [PAD] [PAD] [PAD] [PAD] [PAD] [PAD] [PAD] [PAD] [PAD] [PAD] [PAD] [PAD] [PAD] [PAD] [PAD] [PAD] [PAD] [PAD] [PAD] [PAD] [PAD] [PAD] [PAD] [PAD] [PAD] [PAD] [PAD] [PAD] [PAD] [PAD] [PAD] [PAD] [PAD] [PAD] [PAD] [PAD] [PAD] [PAD] [PAD] [PAD] [PAD] [PAD] [PAD] [PAD] [PAD] [PAD] [PAD] [PAD] [PAD] [PAD] [PAD] [PAD] [PAD] [PAD] [PAD] [PAD] [PAD] [PAD] [PAD] [PAD] [PAD] [PAD] [PAD] [PAD] [PAD] [PAD] [PAD] [PAD] [PAD] [PAD] [PAD] [PAD] [PAD] [PAD] [PAD] [PAD] [PAD] [PAD] [PAD] [PAD] [PAD] [PAD] [PAD] [PAD] [PAD] [PAD] [PAD] [PAD] [PAD] [PAD] [PAD] [PAD] [PAD] [PAD] [PAD] [PAD] [PAD] [PAD] [PAD] [PAD] [PAD] [PAD] [PAD] [PAD] [PAD] [PAD] [PAD] [PAD] [PAD] [PAD] [PAD] [PAD] [PAD] [PAD] [PAD]',\n",
       " '[CLS] a stitch in time saves nine. [SEP] [PAD] [PAD] [PAD] [PAD] [PAD] [PAD] [PAD] [PAD] [PAD] [PAD] [PAD] [PAD] [PAD] [PAD] [PAD] [PAD] [PAD] [PAD] [PAD] [PAD] [PAD] [PAD] [PAD] [PAD] [PAD] [PAD] [PAD] [PAD] [PAD] [PAD] [PAD] [PAD] [PAD] [PAD] [PAD] [PAD] [PAD] [PAD] [PAD] [PAD] [PAD] [PAD] [PAD] [PAD] [PAD] [PAD] [PAD] [PAD] [PAD] [PAD] [PAD] [PAD] [PAD] [PAD] [PAD] [PAD] [PAD] [PAD] [PAD] [PAD] [PAD] [PAD] [PAD] [PAD] [PAD] [PAD] [PAD] [PAD] [PAD] [PAD] [PAD] [PAD] [PAD] [PAD] [PAD] [PAD] [PAD] [PAD] [PAD] [PAD] [PAD] [PAD] [PAD] [PAD] [PAD] [PAD] [PAD] [PAD] [PAD] [PAD] [PAD] [PAD] [PAD] [PAD] [PAD] [PAD] [PAD] [PAD] [PAD] [PAD] [PAD] [PAD] [PAD] [PAD] [PAD] [PAD] [PAD] [PAD] [PAD] [PAD] [PAD] [PAD] [PAD] [PAD] [PAD] [PAD] [PAD] [PAD] [PAD] [PAD] [PAD] [PAD] [PAD] [PAD] [PAD] [PAD] [PAD] [PAD] [PAD] [PAD] [PAD] [PAD] [PAD] [PAD] [PAD] [PAD] [PAD] [PAD] [PAD] [PAD] [PAD] [PAD] [PAD] [PAD] [PAD] [PAD] [PAD] [PAD] [PAD] [PAD] [PAD] [PAD] [PAD] [PAD] [PAD] [PAD] [PAD] [PAD] [PAD] [PAD] [PAD] [PAD] [PAD] [PAD] [PAD] [PAD] [PAD] [PAD] [PAD] [PAD] [PAD] [PAD] [PAD] [PAD] [PAD] [PAD] [PAD] [PAD] [PAD] [PAD] [PAD] [PAD] [PAD] [PAD] [PAD] [PAD] [PAD] [PAD] [PAD] [PAD] [PAD] [PAD] [PAD] [PAD] [PAD] [PAD] [PAD] [PAD] [PAD] [PAD] [PAD] [PAD] [PAD] [PAD] [PAD] [PAD] [PAD] [PAD] [PAD] [PAD] [PAD] [PAD] [PAD] [PAD] [PAD] [PAD] [PAD] [PAD] [PAD] [PAD] [PAD] [PAD] [PAD] [PAD] [PAD] [PAD] [PAD] [PAD] [PAD] [PAD] [PAD] [PAD] [PAD] [PAD] [PAD] [PAD] [PAD] [PAD] [PAD] [PAD] [PAD] [PAD] [PAD] [PAD] [PAD] [PAD] [PAD] [PAD] [PAD] [PAD] [PAD] [PAD] [PAD] [PAD] [PAD] [PAD] [PAD] [PAD] [PAD] [PAD] [PAD] [PAD] [PAD] [PAD] [PAD] [PAD] [PAD] [PAD] [PAD] [PAD] [PAD] [PAD] [PAD] [PAD] [PAD] [PAD] [PAD] [PAD] [PAD] [PAD] [PAD] [PAD] [PAD] [PAD] [PAD] [PAD] [PAD] [PAD] [PAD] [PAD] [PAD] [PAD] [PAD] [PAD] [PAD] [PAD] [PAD] [PAD] [PAD] [PAD] [PAD] [PAD] [PAD] [PAD] [PAD] [PAD] [PAD] [PAD] [PAD] [PAD] [PAD] [PAD] [PAD] [PAD] [PAD] [PAD] [PAD] [PAD] [PAD] [PAD] [PAD] [PAD] [PAD] [PAD] [PAD] [PAD] [PAD] [PAD] [PAD] [PAD] [PAD] [PAD] [PAD] [PAD] [PAD] [PAD] [PAD] [PAD] [PAD] [PAD] [PAD] [PAD] [PAD] [PAD] [PAD] [PAD] [PAD] [PAD] [PAD] [PAD] [PAD] [PAD] [PAD] [PAD] [PAD] [PAD] [PAD] [PAD] [PAD] [PAD] [PAD] [PAD] [PAD] [PAD] [PAD] [PAD] [PAD] [PAD] [PAD] [PAD] [PAD] [PAD] [PAD] [PAD] [PAD] [PAD] [PAD] [PAD] [PAD] [PAD] [PAD] [PAD] [PAD] [PAD] [PAD] [PAD] [PAD] [PAD] [PAD] [PAD] [PAD] [PAD] [PAD] [PAD] [PAD] [PAD] [PAD] [PAD] [PAD] [PAD] [PAD] [PAD] [PAD] [PAD] [PAD] [PAD] [PAD] [PAD] [PAD] [PAD] [PAD] [PAD] [PAD] [PAD] [PAD] [PAD] [PAD] [PAD] [PAD] [PAD] [PAD] [PAD] [PAD] [PAD] [PAD] [PAD] [PAD] [PAD] [PAD] [PAD] [PAD] [PAD] [PAD] [PAD] [PAD] [PAD] [PAD] [PAD] [PAD] [PAD] [PAD] [PAD] [PAD] [PAD] [PAD] [PAD] [PAD] [PAD] [PAD] [PAD] [PAD] [PAD] [PAD] [PAD] [PAD] [PAD] [PAD] [PAD] [PAD] [PAD] [PAD] [PAD] [PAD] [PAD] [PAD] [PAD] [PAD] [PAD] [PAD] [PAD] [PAD] [PAD] [PAD] [PAD] [PAD] [PAD] [PAD] [PAD] [PAD] [PAD] [PAD] [PAD] [PAD] [PAD] [PAD] [PAD] [PAD] [PAD] [PAD] [PAD] [PAD] [PAD] [PAD] [PAD] [PAD] [PAD] [PAD] [PAD] [PAD] [PAD] [PAD] [PAD] [PAD]']"
      ]
     },
     "execution_count": 13,
     "metadata": {},
     "output_type": "execute_result"
    }
   ],
   "source": [
    "# can be converted back to text:\n",
    "[tokenizer.decode(ids) for ids in inputs['input_ids']]"
   ]
  },
  {
   "cell_type": "markdown",
   "id": "ycIHkiWE-njZ",
   "metadata": {
    "id": "ycIHkiWE-njZ"
   },
   "source": [
    "[huggingface tokenizer objects](https://huggingface.co/docs/transformers/main_classes/tokenizer) contain information on the model specific special tokens:"
   ]
  },
  {
   "cell_type": "code",
   "execution_count": 14,
   "id": "Wj1BbY94-__h",
   "metadata": {
    "colab": {
     "base_uri": "https://localhost:8080/"
    },
    "id": "Wj1BbY94-__h",
    "outputId": "f2233351-409d-4a3e-d4f3-3927e9f48788"
   },
   "outputs": [
    {
     "data": {
      "text/plain": [
       "{'unk_token': '[UNK]',\n",
       " 'sep_token': '[SEP]',\n",
       " 'pad_token': '[PAD]',\n",
       " 'cls_token': '[CLS]',\n",
       " 'mask_token': '[MASK]'}"
      ]
     },
     "execution_count": 14,
     "metadata": {},
     "output_type": "execute_result"
    }
   ],
   "source": [
    "tokenizer.special_tokens_map"
   ]
  },
  {
   "cell_type": "code",
   "execution_count": 15,
   "id": "0fi7z9m6_D97",
   "metadata": {
    "colab": {
     "base_uri": "https://localhost:8080/"
    },
    "id": "0fi7z9m6_D97",
    "outputId": "fe98ad86-0c10-4bd4-8746-4bfe5f31b1cf"
   },
   "outputs": [
    {
     "data": {
      "text/plain": [
       "('[UNK]', 100)"
      ]
     },
     "execution_count": 15,
     "metadata": {},
     "output_type": "execute_result"
    }
   ],
   "source": [
    "# Unknown token -> Encodes tokens that have not occured in the training data\n",
    "tokenizer.unk_token, tokenizer.unk_token_id"
   ]
  },
  {
   "cell_type": "code",
   "execution_count": 16,
   "id": "Ro5XF9EXAy8P",
   "metadata": {
    "colab": {
     "base_uri": "https://localhost:8080/"
    },
    "id": "Ro5XF9EXAy8P",
    "outputId": "5634849f-bc3c-4cad-cffb-08ade212714f"
   },
   "outputs": [
    {
     "data": {
      "text/plain": [
       "('[CLS]', 101)"
      ]
     },
     "execution_count": 16,
     "metadata": {},
     "output_type": "execute_result"
    }
   ],
   "source": [
    "# classification token -> Starts a sequence. Because of this, other transformers\n",
    "# usually use \"beginning of sequence\" ([bos]) instead. For BERT-like models\n",
    "# it corresponds to the position of the classification output.\n",
    "tokenizer.cls_token, tokenizer.cls_token_id"
   ]
  },
  {
   "cell_type": "code",
   "execution_count": 17,
   "id": "68yN11or_Mcm",
   "metadata": {
    "colab": {
     "base_uri": "https://localhost:8080/"
    },
    "id": "68yN11or_Mcm",
    "outputId": "6755ad64-cc6c-4063-ff19-6abf2b7db2bc"
   },
   "outputs": [
    {
     "data": {
      "text/plain": [
       "('[SEP]', 102)"
      ]
     },
     "execution_count": 17,
     "metadata": {},
     "output_type": "execute_result"
    }
   ],
   "source": [
    "# Separator token -> Separates two sentences for the next sentence prediction task\n",
    "# after pretraining usually used to end the input sequence. Because of this,\n",
    "# other transformers usually use \"end of sequence\" ([eos]) instead.\n",
    "tokenizer.sep_token, tokenizer.sep_token_id"
   ]
  },
  {
   "cell_type": "code",
   "execution_count": 18,
   "id": "f3z_zd9w_HrQ",
   "metadata": {
    "colab": {
     "base_uri": "https://localhost:8080/"
    },
    "id": "f3z_zd9w_HrQ",
    "outputId": "e8f79898-d162-4e88-a52d-470169fe4706"
   },
   "outputs": [
    {
     "data": {
      "text/plain": [
       "('[PAD]', 0)"
      ]
     },
     "execution_count": 18,
     "metadata": {},
     "output_type": "execute_result"
    }
   ],
   "source": [
    "# Padding token -> Pads sequences to the full input length of the transformer.\n",
    "tokenizer.pad_token, tokenizer.pad_token_id"
   ]
  },
  {
   "cell_type": "code",
   "execution_count": 19,
   "id": "dvNMA36T_aET",
   "metadata": {
    "colab": {
     "base_uri": "https://localhost:8080/"
    },
    "id": "dvNMA36T_aET",
    "outputId": "db6f0cfd-9e59-44d6-bae6-c9c97f4b704f"
   },
   "outputs": [
    {
     "data": {
      "text/plain": [
       "('[MASK]', 103)"
      ]
     },
     "execution_count": 19,
     "metadata": {},
     "output_type": "execute_result"
    }
   ],
   "source": [
    "# Mask token -> For the masked language modelling pretraining task. Rarelly used\n",
    "# after pretraining.\n",
    "tokenizer.mask_token, tokenizer.mask_token_id"
   ]
  },
  {
   "cell_type": "markdown",
   "id": "xWJBU4UBy6dv",
   "metadata": {
    "id": "xWJBU4UBy6dv"
   },
   "source": [
    "#### **Member `'attention_mask'`**: a mask specifing the position of  non-padded input tokens in `'input_ids'`!"
   ]
  },
  {
   "cell_type": "code",
   "execution_count": 20,
   "id": "Owr1ehR1yNRq",
   "metadata": {
    "colab": {
     "base_uri": "https://localhost:8080/"
    },
    "id": "Owr1ehR1yNRq",
    "outputId": "4f04ef1e-00a3-4f4a-d0fe-6f6f682e2b46"
   },
   "outputs": [
    {
     "data": {
      "text/plain": [
       "tensor([[1, 1, 1,  ..., 0, 0, 0],\n",
       "        [1, 1, 1,  ..., 0, 0, 0]])"
      ]
     },
     "execution_count": 20,
     "metadata": {},
     "output_type": "execute_result"
    }
   ],
   "source": [
    "inputs['attention_mask']"
   ]
  },
  {
   "cell_type": "code",
   "execution_count": 21,
   "id": "wSaGZmAd2t7s",
   "metadata": {
    "colab": {
     "base_uri": "https://localhost:8080/"
    },
    "id": "wSaGZmAd2t7s",
    "outputId": "fbf81831-dbd3-4d15-c6ac-37e8ac78cb78"
   },
   "outputs": [
    {
     "data": {
      "text/plain": [
       "torch.Size([2, 512])"
      ]
     },
     "execution_count": 21,
     "metadata": {},
     "output_type": "execute_result"
    }
   ],
   "source": [
    "inputs['attention_mask'].shape"
   ]
  },
  {
   "cell_type": "code",
   "execution_count": 22,
   "id": "_pRNQjAU1CLB",
   "metadata": {
    "colab": {
     "base_uri": "https://localhost:8080/"
    },
    "id": "_pRNQjAU1CLB",
    "outputId": "bc03fd3b-5512-4256-939f-b6a006e0d2e6"
   },
   "outputs": [
    {
     "data": {
      "text/plain": [
       "['[CLS] the quick brown fox jumps over the lazy dog. [SEP]',\n",
       " '[CLS] a stitch in time saves nine. [SEP]']"
      ]
     },
     "execution_count": 22,
     "metadata": {},
     "output_type": "execute_result"
    }
   ],
   "source": [
    "[tokenizer.decode(ids[mask == 1]) for ids, mask in zip(inputs['input_ids'], inputs['attention_mask'])]"
   ]
  },
  {
   "cell_type": "code",
   "execution_count": 23,
   "id": "yAksP39o0aUj",
   "metadata": {
    "colab": {
     "base_uri": "https://localhost:8080/"
    },
    "id": "yAksP39o0aUj",
    "outputId": "298eadbd-8231-45e5-cb04-baddbf7e84a1"
   },
   "outputs": [
    {
     "data": {
      "text/plain": [
       "['[PAD] [PAD] [PAD] [PAD] [PAD] [PAD] [PAD] [PAD] [PAD] [PAD] [PAD] [PAD] [PAD] [PAD] [PAD] [PAD] [PAD] [PAD] [PAD] [PAD] [PAD] [PAD] [PAD] [PAD] [PAD] [PAD] [PAD] [PAD] [PAD] [PAD] [PAD] [PAD] [PAD] [PAD] [PAD] [PAD] [PAD] [PAD] [PAD] [PAD] [PAD] [PAD] [PAD] [PAD] [PAD] [PAD] [PAD] [PAD] [PAD] [PAD] [PAD] [PAD] [PAD] [PAD] [PAD] [PAD] [PAD] [PAD] [PAD] [PAD] [PAD] [PAD] [PAD] [PAD] [PAD] [PAD] [PAD] [PAD] [PAD] [PAD] [PAD] [PAD] [PAD] [PAD] [PAD] [PAD] [PAD] [PAD] [PAD] [PAD] [PAD] [PAD] [PAD] [PAD] [PAD] [PAD] [PAD] [PAD] [PAD] [PAD] [PAD] [PAD] [PAD] [PAD] [PAD] [PAD] [PAD] [PAD] [PAD] [PAD] [PAD] [PAD] [PAD] [PAD] [PAD] [PAD] [PAD] [PAD] [PAD] [PAD] [PAD] [PAD] [PAD] [PAD] [PAD] [PAD] [PAD] [PAD] [PAD] [PAD] [PAD] [PAD] [PAD] [PAD] [PAD] [PAD] [PAD] [PAD] [PAD] [PAD] [PAD] [PAD] [PAD] [PAD] [PAD] [PAD] [PAD] [PAD] [PAD] [PAD] [PAD] [PAD] [PAD] [PAD] [PAD] [PAD] [PAD] [PAD] [PAD] [PAD] [PAD] [PAD] [PAD] [PAD] [PAD] [PAD] [PAD] [PAD] [PAD] [PAD] [PAD] [PAD] [PAD] [PAD] [PAD] [PAD] [PAD] [PAD] [PAD] [PAD] [PAD] [PAD] [PAD] [PAD] [PAD] [PAD] [PAD] [PAD] [PAD] [PAD] [PAD] [PAD] [PAD] [PAD] [PAD] [PAD] [PAD] [PAD] [PAD] [PAD] [PAD] [PAD] [PAD] [PAD] [PAD] [PAD] [PAD] [PAD] [PAD] [PAD] [PAD] [PAD] [PAD] [PAD] [PAD] [PAD] [PAD] [PAD] [PAD] [PAD] [PAD] [PAD] [PAD] [PAD] [PAD] [PAD] [PAD] [PAD] [PAD] [PAD] [PAD] [PAD] [PAD] [PAD] [PAD] [PAD] [PAD] [PAD] [PAD] [PAD] [PAD] [PAD] [PAD] [PAD] [PAD] [PAD] [PAD] [PAD] [PAD] [PAD] [PAD] [PAD] [PAD] [PAD] [PAD] [PAD] [PAD] [PAD] [PAD] [PAD] [PAD] [PAD] [PAD] [PAD] [PAD] [PAD] [PAD] [PAD] [PAD] [PAD] [PAD] [PAD] [PAD] [PAD] [PAD] [PAD] [PAD] [PAD] [PAD] [PAD] [PAD] [PAD] [PAD] [PAD] [PAD] [PAD] [PAD] [PAD] [PAD] [PAD] [PAD] [PAD] [PAD] [PAD] [PAD] [PAD] [PAD] [PAD] [PAD] [PAD] [PAD] [PAD] [PAD] [PAD] [PAD] [PAD] [PAD] [PAD] [PAD] [PAD] [PAD] [PAD] [PAD] [PAD] [PAD] [PAD] [PAD] [PAD] [PAD] [PAD] [PAD] [PAD] [PAD] [PAD] [PAD] [PAD] [PAD] [PAD] [PAD] [PAD] [PAD] [PAD] [PAD] [PAD] [PAD] [PAD] [PAD] [PAD] [PAD] [PAD] [PAD] [PAD] [PAD] [PAD] [PAD] [PAD] [PAD] [PAD] [PAD] [PAD] [PAD] [PAD] [PAD] [PAD] [PAD] [PAD] [PAD] [PAD] [PAD] [PAD] [PAD] [PAD] [PAD] [PAD] [PAD] [PAD] [PAD] [PAD] [PAD] [PAD] [PAD] [PAD] [PAD] [PAD] [PAD] [PAD] [PAD] [PAD] [PAD] [PAD] [PAD] [PAD] [PAD] [PAD] [PAD] [PAD] [PAD] [PAD] [PAD] [PAD] [PAD] [PAD] [PAD] [PAD] [PAD] [PAD] [PAD] [PAD] [PAD] [PAD] [PAD] [PAD] [PAD] [PAD] [PAD] [PAD] [PAD] [PAD] [PAD] [PAD] [PAD] [PAD] [PAD] [PAD] [PAD] [PAD] [PAD] [PAD] [PAD] [PAD] [PAD] [PAD] [PAD] [PAD] [PAD] [PAD] [PAD] [PAD] [PAD] [PAD] [PAD] [PAD] [PAD] [PAD] [PAD] [PAD] [PAD] [PAD] [PAD] [PAD] [PAD] [PAD] [PAD] [PAD] [PAD] [PAD] [PAD] [PAD] [PAD] [PAD] [PAD] [PAD] [PAD] [PAD] [PAD] [PAD] [PAD] [PAD] [PAD] [PAD] [PAD] [PAD] [PAD] [PAD] [PAD] [PAD] [PAD] [PAD] [PAD] [PAD] [PAD] [PAD] [PAD] [PAD] [PAD] [PAD] [PAD] [PAD] [PAD] [PAD] [PAD] [PAD] [PAD] [PAD] [PAD] [PAD] [PAD] [PAD] [PAD] [PAD] [PAD] [PAD] [PAD] [PAD] [PAD] [PAD] [PAD] [PAD] [PAD] [PAD] [PAD] [PAD] [PAD] [PAD] [PAD] [PAD] [PAD] [PAD] [PAD] [PAD]',\n",
       " '[PAD] [PAD] [PAD] [PAD] [PAD] [PAD] [PAD] [PAD] [PAD] [PAD] [PAD] [PAD] [PAD] [PAD] [PAD] [PAD] [PAD] [PAD] [PAD] [PAD] [PAD] [PAD] [PAD] [PAD] [PAD] [PAD] [PAD] [PAD] [PAD] [PAD] [PAD] [PAD] [PAD] [PAD] [PAD] [PAD] [PAD] [PAD] [PAD] [PAD] [PAD] [PAD] [PAD] [PAD] [PAD] [PAD] [PAD] [PAD] [PAD] [PAD] [PAD] [PAD] [PAD] [PAD] [PAD] [PAD] [PAD] [PAD] [PAD] [PAD] [PAD] [PAD] [PAD] [PAD] [PAD] [PAD] [PAD] [PAD] [PAD] [PAD] [PAD] [PAD] [PAD] [PAD] [PAD] [PAD] [PAD] [PAD] [PAD] [PAD] [PAD] [PAD] [PAD] [PAD] [PAD] [PAD] [PAD] [PAD] [PAD] [PAD] [PAD] [PAD] [PAD] [PAD] [PAD] [PAD] [PAD] [PAD] [PAD] [PAD] [PAD] [PAD] [PAD] [PAD] [PAD] [PAD] [PAD] [PAD] [PAD] [PAD] [PAD] [PAD] [PAD] [PAD] [PAD] [PAD] [PAD] [PAD] [PAD] [PAD] [PAD] [PAD] [PAD] [PAD] [PAD] [PAD] [PAD] [PAD] [PAD] [PAD] [PAD] [PAD] [PAD] [PAD] [PAD] [PAD] [PAD] [PAD] [PAD] [PAD] [PAD] [PAD] [PAD] [PAD] [PAD] [PAD] [PAD] [PAD] [PAD] [PAD] [PAD] [PAD] [PAD] [PAD] [PAD] [PAD] [PAD] [PAD] [PAD] [PAD] [PAD] [PAD] [PAD] [PAD] [PAD] [PAD] [PAD] [PAD] [PAD] [PAD] [PAD] [PAD] [PAD] [PAD] [PAD] [PAD] [PAD] [PAD] [PAD] [PAD] [PAD] [PAD] [PAD] [PAD] [PAD] [PAD] [PAD] [PAD] [PAD] [PAD] [PAD] [PAD] [PAD] [PAD] [PAD] [PAD] [PAD] [PAD] [PAD] [PAD] [PAD] [PAD] [PAD] [PAD] [PAD] [PAD] [PAD] [PAD] [PAD] [PAD] [PAD] [PAD] [PAD] [PAD] [PAD] [PAD] [PAD] [PAD] [PAD] [PAD] [PAD] [PAD] [PAD] [PAD] [PAD] [PAD] [PAD] [PAD] [PAD] [PAD] [PAD] [PAD] [PAD] [PAD] [PAD] [PAD] [PAD] [PAD] [PAD] [PAD] [PAD] [PAD] [PAD] [PAD] [PAD] [PAD] [PAD] [PAD] [PAD] [PAD] [PAD] [PAD] [PAD] [PAD] [PAD] [PAD] [PAD] [PAD] [PAD] [PAD] [PAD] [PAD] [PAD] [PAD] [PAD] [PAD] [PAD] [PAD] [PAD] [PAD] [PAD] [PAD] [PAD] [PAD] [PAD] [PAD] [PAD] [PAD] [PAD] [PAD] [PAD] [PAD] [PAD] [PAD] [PAD] [PAD] [PAD] [PAD] [PAD] [PAD] [PAD] [PAD] [PAD] [PAD] [PAD] [PAD] [PAD] [PAD] [PAD] [PAD] [PAD] [PAD] [PAD] [PAD] [PAD] [PAD] [PAD] [PAD] [PAD] [PAD] [PAD] [PAD] [PAD] [PAD] [PAD] [PAD] [PAD] [PAD] [PAD] [PAD] [PAD] [PAD] [PAD] [PAD] [PAD] [PAD] [PAD] [PAD] [PAD] [PAD] [PAD] [PAD] [PAD] [PAD] [PAD] [PAD] [PAD] [PAD] [PAD] [PAD] [PAD] [PAD] [PAD] [PAD] [PAD] [PAD] [PAD] [PAD] [PAD] [PAD] [PAD] [PAD] [PAD] [PAD] [PAD] [PAD] [PAD] [PAD] [PAD] [PAD] [PAD] [PAD] [PAD] [PAD] [PAD] [PAD] [PAD] [PAD] [PAD] [PAD] [PAD] [PAD] [PAD] [PAD] [PAD] [PAD] [PAD] [PAD] [PAD] [PAD] [PAD] [PAD] [PAD] [PAD] [PAD] [PAD] [PAD] [PAD] [PAD] [PAD] [PAD] [PAD] [PAD] [PAD] [PAD] [PAD] [PAD] [PAD] [PAD] [PAD] [PAD] [PAD] [PAD] [PAD] [PAD] [PAD] [PAD] [PAD] [PAD] [PAD] [PAD] [PAD] [PAD] [PAD] [PAD] [PAD] [PAD] [PAD] [PAD] [PAD] [PAD] [PAD] [PAD] [PAD] [PAD] [PAD] [PAD] [PAD] [PAD] [PAD] [PAD] [PAD] [PAD] [PAD] [PAD] [PAD] [PAD] [PAD] [PAD] [PAD] [PAD] [PAD] [PAD] [PAD] [PAD] [PAD] [PAD] [PAD] [PAD] [PAD] [PAD] [PAD] [PAD] [PAD] [PAD] [PAD] [PAD] [PAD] [PAD] [PAD] [PAD] [PAD] [PAD] [PAD] [PAD] [PAD] [PAD] [PAD] [PAD] [PAD] [PAD] [PAD] [PAD] [PAD] [PAD] [PAD] [PAD] [PAD] [PAD] [PAD] [PAD] [PAD] [PAD] [PAD] [PAD] [PAD] [PAD] [PAD] [PAD] [PAD] [PAD] [PAD] [PAD] [PAD] [PAD] [PAD] [PAD] [PAD] [PAD] [PAD] [PAD] [PAD] [PAD]']"
      ]
     },
     "execution_count": 23,
     "metadata": {},
     "output_type": "execute_result"
    }
   ],
   "source": [
    "[tokenizer.decode(ids[mask == 0]) for ids, mask in zip(inputs['input_ids'], inputs['attention_mask'])]"
   ]
  },
  {
   "cell_type": "markdown",
   "id": "0K5ZzZ4p2zPY",
   "metadata": {
    "id": "0K5ZzZ4p2zPY"
   },
   "source": [
    "#### **Member `'token_type_ids'`**: a mask specifing the position of the two sentences in `'input_ids'` for the next sentence prediction pretraining task!\n",
    "\n",
    "*Usually not needed after pretraining!*\n"
   ]
  },
  {
   "cell_type": "code",
   "execution_count": 24,
   "id": "_TAL7otD3SXy",
   "metadata": {
    "colab": {
     "base_uri": "https://localhost:8080/"
    },
    "id": "_TAL7otD3SXy",
    "outputId": "7c261e83-74d3-4e3e-f1ca-9fb31888c295"
   },
   "outputs": [
    {
     "data": {
      "text/plain": [
       "tensor([[0, 0, 0,  ..., 0, 0, 0],\n",
       "        [0, 0, 0,  ..., 0, 0, 0]])"
      ]
     },
     "execution_count": 24,
     "metadata": {},
     "output_type": "execute_result"
    }
   ],
   "source": [
    "inputs['token_type_ids']"
   ]
  },
  {
   "cell_type": "code",
   "execution_count": 25,
   "id": "X9MBsB_e3Y_y",
   "metadata": {
    "colab": {
     "base_uri": "https://localhost:8080/"
    },
    "id": "X9MBsB_e3Y_y",
    "outputId": "1cad6f6c-65d7-4f3e-d4ce-1e88c8e6ae63"
   },
   "outputs": [
    {
     "data": {
      "text/plain": [
       "torch.Size([2, 512])"
      ]
     },
     "execution_count": 25,
     "metadata": {},
     "output_type": "execute_result"
    }
   ],
   "source": [
    "inputs['token_type_ids'].shape"
   ]
  },
  {
   "cell_type": "markdown",
   "id": "7ajg7hHhyTTZ",
   "metadata": {
    "id": "7ajg7hHhyTTZ"
   },
   "source": [
    "### **2. Step:** Load the pretrained model"
   ]
  },
  {
   "cell_type": "code",
   "execution_count": 26,
   "id": "VcYwC-iA3rdF",
   "metadata": {
    "colab": {
     "base_uri": "https://localhost:8080/"
    },
    "id": "VcYwC-iA3rdF",
    "outputId": "bd769c7e-2898-441e-89e0-6e1441bf771c"
   },
   "outputs": [
    {
     "data": {
      "text/plain": [
       "device(type='cuda')"
      ]
     },
     "execution_count": 26,
     "metadata": {},
     "output_type": "execute_result"
    }
   ],
   "source": [
    "device = torch.device('cuda' if torch.cuda.is_available() else 'cpu')\n",
    "device"
   ]
  },
  {
   "cell_type": "code",
   "execution_count": 27,
   "id": "UgZKrPq-rOhJ",
   "metadata": {
    "colab": {
     "base_uri": "https://localhost:8080/"
    },
    "id": "UgZKrPq-rOhJ",
    "outputId": "756a8e92-eebc-4aa8-a7f7-d9018b026624"
   },
   "outputs": [
    {
     "data": {
      "text/plain": [
       "BertModel(\n",
       "  (embeddings): BertEmbeddings(\n",
       "    (word_embeddings): Embedding(30522, 768, padding_idx=0)\n",
       "    (position_embeddings): Embedding(512, 768)\n",
       "    (token_type_embeddings): Embedding(2, 768)\n",
       "    (LayerNorm): LayerNorm((768,), eps=1e-12, elementwise_affine=True)\n",
       "    (dropout): Dropout(p=0.1, inplace=False)\n",
       "  )\n",
       "  (encoder): BertEncoder(\n",
       "    (layer): ModuleList(\n",
       "      (0-11): 12 x BertLayer(\n",
       "        (attention): BertAttention(\n",
       "          (self): BertSdpaSelfAttention(\n",
       "            (query): Linear(in_features=768, out_features=768, bias=True)\n",
       "            (key): Linear(in_features=768, out_features=768, bias=True)\n",
       "            (value): Linear(in_features=768, out_features=768, bias=True)\n",
       "            (dropout): Dropout(p=0.1, inplace=False)\n",
       "          )\n",
       "          (output): BertSelfOutput(\n",
       "            (dense): Linear(in_features=768, out_features=768, bias=True)\n",
       "            (LayerNorm): LayerNorm((768,), eps=1e-12, elementwise_affine=True)\n",
       "            (dropout): Dropout(p=0.1, inplace=False)\n",
       "          )\n",
       "        )\n",
       "        (intermediate): BertIntermediate(\n",
       "          (dense): Linear(in_features=768, out_features=3072, bias=True)\n",
       "          (intermediate_act_fn): GELUActivation()\n",
       "        )\n",
       "        (output): BertOutput(\n",
       "          (dense): Linear(in_features=3072, out_features=768, bias=True)\n",
       "          (LayerNorm): LayerNorm((768,), eps=1e-12, elementwise_affine=True)\n",
       "          (dropout): Dropout(p=0.1, inplace=False)\n",
       "        )\n",
       "      )\n",
       "    )\n",
       "  )\n",
       "  (pooler): BertPooler(\n",
       "    (dense): Linear(in_features=768, out_features=768, bias=True)\n",
       "    (activation): Tanh()\n",
       "  )\n",
       ")"
      ]
     },
     "execution_count": 27,
     "metadata": {},
     "output_type": "execute_result"
    }
   ],
   "source": [
    "# load model:\n",
    "model = AutoModel.from_pretrained('bert-base-uncased')\n",
    "model.to(device)\n",
    "model.eval()\n",
    "\n",
    "model"
   ]
  },
  {
   "cell_type": "markdown",
   "id": "a_NuE9dp-NI3",
   "metadata": {
    "id": "a_NuE9dp-NI3"
   },
   "source": [
    "The `config` property contains information about the model instance:"
   ]
  },
  {
   "cell_type": "code",
   "execution_count": 28,
   "id": "01NW7Tmx-bYq",
   "metadata": {
    "colab": {
     "base_uri": "https://localhost:8080/"
    },
    "id": "01NW7Tmx-bYq",
    "outputId": "713a2b64-1e2b-4d64-8881-03013e5ea50c"
   },
   "outputs": [
    {
     "data": {
      "text/plain": [
       "BertConfig {\n",
       "  \"_attn_implementation_autoset\": true,\n",
       "  \"architectures\": [\n",
       "    \"BertForMaskedLM\"\n",
       "  ],\n",
       "  \"attention_probs_dropout_prob\": 0.1,\n",
       "  \"classifier_dropout\": null,\n",
       "  \"gradient_checkpointing\": false,\n",
       "  \"hidden_act\": \"gelu\",\n",
       "  \"hidden_dropout_prob\": 0.1,\n",
       "  \"hidden_size\": 768,\n",
       "  \"initializer_range\": 0.02,\n",
       "  \"intermediate_size\": 3072,\n",
       "  \"layer_norm_eps\": 1e-12,\n",
       "  \"max_position_embeddings\": 512,\n",
       "  \"model_type\": \"bert\",\n",
       "  \"num_attention_heads\": 12,\n",
       "  \"num_hidden_layers\": 12,\n",
       "  \"pad_token_id\": 0,\n",
       "  \"position_embedding_type\": \"absolute\",\n",
       "  \"torch_dtype\": \"float32\",\n",
       "  \"transformers_version\": \"4.51.3\",\n",
       "  \"type_vocab_size\": 2,\n",
       "  \"use_cache\": true,\n",
       "  \"vocab_size\": 30522\n",
       "}"
      ]
     },
     "execution_count": 28,
     "metadata": {},
     "output_type": "execute_result"
    }
   ],
   "source": [
    "model.config"
   ]
  },
  {
   "cell_type": "markdown",
   "id": "9-4b7z4j81vu",
   "metadata": {
    "id": "9-4b7z4j81vu"
   },
   "source": [
    "We can use this model rightaway, since it is already pretrained:"
   ]
  },
  {
   "cell_type": "code",
   "execution_count": 29,
   "id": "1IXr28Jh80gu",
   "metadata": {
    "colab": {
     "base_uri": "https://localhost:8080/"
    },
    "id": "1IXr28Jh80gu",
    "outputId": "6ad9d8ba-7b0f-4c48-9712-a09cedf02230"
   },
   "outputs": [
    {
     "name": "stderr",
     "output_type": "stream",
     "text": [
      "BertSdpaSelfAttention is used but `torch.nn.functional.scaled_dot_product_attention` does not support non-absolute `position_embedding_type` or `output_attentions=True` or `head_mask`. Falling back to the manual attention implementation, but specifying the manual implementation will be required from Transformers version v5.0.0 onwards. This warning can be removed using the argument `attn_implementation=\"eager\"` when loading the model.\n"
     ]
    },
    {
     "data": {
      "text/plain": [
       "odict_keys(['last_hidden_state', 'pooler_output', 'hidden_states', 'attentions'])"
      ]
     },
     "execution_count": 29,
     "metadata": {},
     "output_type": "execute_result"
    }
   ],
   "source": [
    "with torch.no_grad():\n",
    "  outputs = model(\n",
    "      input_ids=inputs['input_ids'].to(device),\n",
    "      attention_mask=inputs['attention_mask'].to(device),\n",
    "      output_hidden_states=True,                # return the hidden states after each transformer layer (default: False)\n",
    "      output_attentions=True                    # return the self-attention weights (default: False)\n",
    "  )\n",
    "outputs.keys()"
   ]
  },
  {
   "cell_type": "markdown",
   "id": "E8ZbT5vr9yzZ",
   "metadata": {
    "id": "E8ZbT5vr9yzZ"
   },
   "source": [
    "`outputs` is again a dictionary-like object:"
   ]
  },
  {
   "cell_type": "markdown",
   "id": "9UuZZUF-98lI",
   "metadata": {
    "id": "9UuZZUF-98lI"
   },
   "source": [
    "#### **Member `'last_hidden_state'`**: the output of the last self-attention layer (i.e. before pooling)!"
   ]
  },
  {
   "cell_type": "code",
   "execution_count": 30,
   "id": "vTXFyxwj9x5K",
   "metadata": {
    "colab": {
     "base_uri": "https://localhost:8080/"
    },
    "id": "vTXFyxwj9x5K",
    "outputId": "38babb27-9ed5-4820-c30a-5e9dc39ce922"
   },
   "outputs": [
    {
     "data": {
      "text/plain": [
       "tensor([[[-0.3608,  0.2271, -0.3030,  ..., -0.4224,  0.6949,  0.6213],\n",
       "         [-0.3276, -0.3762, -0.5044,  ..., -0.3660,  1.1588, -0.2188],\n",
       "         [-0.4000, -0.4212,  0.4903,  ..., -0.4081,  0.8508, -0.0882],\n",
       "         ...,\n",
       "         [-0.2206,  0.1241,  0.2319,  ...,  0.0019,  0.2012, -0.1047],\n",
       "         [-0.2509,  0.0706,  0.1983,  ...,  0.0189,  0.2686,  0.0699],\n",
       "         [-0.1370,  0.0821,  0.3005,  ...,  0.0560,  0.3378, -0.0236]],\n",
       "\n",
       "        [[ 0.1309,  0.0272, -0.3383,  ...,  0.0292,  0.2871,  0.7647],\n",
       "         [-0.5729, -0.3173, -0.1150,  ..., -0.1885,  0.3097,  1.1665],\n",
       "         [ 0.2459, -0.5501,  0.1225,  ..., -0.2175, -0.0649,  0.1978],\n",
       "         ...,\n",
       "         [ 0.2523, -0.1311,  0.4284,  ...,  0.1841,  0.1646,  0.1138],\n",
       "         [-0.3716, -0.3322,  0.1152,  ...,  0.4753,  0.2748, -0.0563],\n",
       "         [ 0.1750, -0.1853,  0.4109,  ...,  0.2868,  0.0830,  0.0486]]],\n",
       "       device='cuda:0')"
      ]
     },
     "execution_count": 30,
     "metadata": {},
     "output_type": "execute_result"
    }
   ],
   "source": [
    "outputs['last_hidden_state']"
   ]
  },
  {
   "cell_type": "code",
   "execution_count": 31,
   "id": "3sfozAR3Dhjh",
   "metadata": {
    "colab": {
     "base_uri": "https://localhost:8080/"
    },
    "id": "3sfozAR3Dhjh",
    "outputId": "dd303c90-f608-49f4-98c5-a037dd86c2bc"
   },
   "outputs": [
    {
     "data": {
      "text/plain": [
       "torch.Size([2, 512, 768])"
      ]
     },
     "execution_count": 31,
     "metadata": {},
     "output_type": "execute_result"
    }
   ],
   "source": [
    "outputs['last_hidden_state'].shape"
   ]
  },
  {
   "cell_type": "markdown",
   "id": "yckF1OuXDvK0",
   "metadata": {
    "id": "yckF1OuXDvK0"
   },
   "source": [
    "#### **Member `'pooler_output'`**: the output of the pooling layer!\n",
    "\n",
    "The pooler is a single linear layer with a tanh activation:\n",
    "\n",
    "```Python\n",
    "class BertPooler(nn.Module):\n",
    "    def __init__(self, config):\n",
    "        super().__init__()\n",
    "        self.dense = nn.Linear(config.hidden_size, config.hidden_size)\n",
    "        self.activation = nn.Tanh()\n",
    "    \n",
    "    def forward(self, hidden_states):\n",
    "        # We \"pool\" the model by simply taking the hidden state corresponding\n",
    "        # to the first token.\n",
    "        first_token_tensor = hidden_states[:, 0]\n",
    "        pooled_output = self.dense(first_token_tensor)\n",
    "        pooled_output = self.activation(pooled_output)\n",
    "        return pooled_output\n",
    "```\n",
    "\n",
    "This layer recieves the last hidden state corresponding to the `[CLS]` token as the input. Remember that the next sentence prediction task is trained on this output for BERT.\n",
    "\n",
    "(see [BERT source code](https://huggingface.co/transformers/v3.0.2/_modules/transformers/modeling_bert.html))"
   ]
  },
  {
   "cell_type": "code",
   "execution_count": 32,
   "id": "_qGpeZNoDvK2",
   "metadata": {
    "colab": {
     "base_uri": "https://localhost:8080/"
    },
    "id": "_qGpeZNoDvK2",
    "outputId": "e1b210f0-bfd8-4485-e550-7f4e9040cbdc"
   },
   "outputs": [
    {
     "data": {
      "text/plain": [
       "tensor([[-0.8232, -0.4768, -0.8892,  ..., -0.6265, -0.6798,  0.9165],\n",
       "        [-0.8745, -0.4169, -0.7252,  ..., -0.4989, -0.6803,  0.9086]],\n",
       "       device='cuda:0')"
      ]
     },
     "execution_count": 32,
     "metadata": {},
     "output_type": "execute_result"
    }
   ],
   "source": [
    "outputs['pooler_output']"
   ]
  },
  {
   "cell_type": "code",
   "execution_count": 33,
   "id": "au83mfbzDvK3",
   "metadata": {
    "colab": {
     "base_uri": "https://localhost:8080/"
    },
    "id": "au83mfbzDvK3",
    "outputId": "1b4025c8-31dd-4be5-c8c2-4f9fd199b77f"
   },
   "outputs": [
    {
     "data": {
      "text/plain": [
       "torch.Size([2, 768])"
      ]
     },
     "execution_count": 33,
     "metadata": {},
     "output_type": "execute_result"
    }
   ],
   "source": [
    "outputs['pooler_output'].shape"
   ]
  },
  {
   "cell_type": "markdown",
   "id": "2yZzvY5VNaON",
   "metadata": {
    "id": "2yZzvY5VNaON"
   },
   "source": [
    "#### **Member `'hidden_states'`**: all the hidden states after each transformer layer!\n",
    "\n",
    "*This is only returned because we specified* `output_hidden_states=True`*!*"
   ]
  },
  {
   "cell_type": "code",
   "execution_count": 34,
   "id": "Kd0SSrS8Ms0k",
   "metadata": {
    "colab": {
     "base_uri": "https://localhost:8080/"
    },
    "id": "Kd0SSrS8Ms0k",
    "outputId": "8a58ce36-b887-474d-8c96-4084025bd740"
   },
   "outputs": [
    {
     "data": {
      "text/plain": [
       "(tuple, 13)"
      ]
     },
     "execution_count": 34,
     "metadata": {},
     "output_type": "execute_result"
    }
   ],
   "source": [
    "type(outputs['hidden_states']), len(outputs['hidden_states'])"
   ]
  },
  {
   "cell_type": "code",
   "execution_count": 35,
   "id": "ANlvrs3ZN2T1",
   "metadata": {
    "colab": {
     "base_uri": "https://localhost:8080/"
    },
    "id": "ANlvrs3ZN2T1",
    "outputId": "209ad22b-753e-409e-e9e6-5120efb72c51"
   },
   "outputs": [
    {
     "data": {
      "text/plain": [
       "[torch.Size([2, 512, 768]),\n",
       " torch.Size([2, 512, 768]),\n",
       " torch.Size([2, 512, 768]),\n",
       " torch.Size([2, 512, 768]),\n",
       " torch.Size([2, 512, 768]),\n",
       " torch.Size([2, 512, 768]),\n",
       " torch.Size([2, 512, 768]),\n",
       " torch.Size([2, 512, 768]),\n",
       " torch.Size([2, 512, 768]),\n",
       " torch.Size([2, 512, 768]),\n",
       " torch.Size([2, 512, 768]),\n",
       " torch.Size([2, 512, 768]),\n",
       " torch.Size([2, 512, 768])]"
      ]
     },
     "execution_count": 35,
     "metadata": {},
     "output_type": "execute_result"
    }
   ],
   "source": [
    "[t.shape for t in outputs['hidden_states']]"
   ]
  },
  {
   "cell_type": "markdown",
   "id": "Ac_fok_POFZ2",
   "metadata": {
    "id": "Ac_fok_POFZ2"
   },
   "source": [
    "#### **Member `'attentions'`**: all the attention weights of each head in each transformer layer!\n",
    "\n",
    "*This is only returned because we specified* `output_attentions=True`*!*"
   ]
  },
  {
   "cell_type": "code",
   "execution_count": 36,
   "id": "DypKiztMOEij",
   "metadata": {
    "colab": {
     "base_uri": "https://localhost:8080/"
    },
    "id": "DypKiztMOEij",
    "outputId": "57745daa-f3d6-4e24-f893-8f03c8c29ed4"
   },
   "outputs": [
    {
     "data": {
      "text/plain": [
       "(tuple, 12)"
      ]
     },
     "execution_count": 36,
     "metadata": {},
     "output_type": "execute_result"
    }
   ],
   "source": [
    "type(outputs['attentions']), len(outputs['attentions'])"
   ]
  },
  {
   "cell_type": "code",
   "execution_count": 37,
   "id": "iiZBQM2tOjXn",
   "metadata": {
    "colab": {
     "base_uri": "https://localhost:8080/"
    },
    "id": "iiZBQM2tOjXn",
    "outputId": "489b05f8-2529-41a0-937f-fab7c570a883"
   },
   "outputs": [
    {
     "data": {
      "text/plain": [
       "[torch.Size([2, 12, 512, 512]),\n",
       " torch.Size([2, 12, 512, 512]),\n",
       " torch.Size([2, 12, 512, 512]),\n",
       " torch.Size([2, 12, 512, 512]),\n",
       " torch.Size([2, 12, 512, 512]),\n",
       " torch.Size([2, 12, 512, 512]),\n",
       " torch.Size([2, 12, 512, 512]),\n",
       " torch.Size([2, 12, 512, 512]),\n",
       " torch.Size([2, 12, 512, 512]),\n",
       " torch.Size([2, 12, 512, 512]),\n",
       " torch.Size([2, 12, 512, 512]),\n",
       " torch.Size([2, 12, 512, 512])]"
      ]
     },
     "execution_count": 37,
     "metadata": {},
     "output_type": "execute_result"
    }
   ],
   "source": [
    "[t.shape for t in outputs['attentions']]"
   ]
  },
  {
   "cell_type": "markdown",
   "id": "HTHdXQISOtRr",
   "metadata": {
    "id": "HTHdXQISOtRr"
   },
   "source": [
    "Let's have a look at the average attention in the last layer:"
   ]
  },
  {
   "cell_type": "code",
   "execution_count": 38,
   "id": "zro0w0AyO4qV",
   "metadata": {
    "colab": {
     "base_uri": "https://localhost:8080/",
     "height": 441
    },
    "id": "zro0w0AyO4qV",
    "outputId": "d1fb6028-9141-4f4c-c6e3-435ff3167ec8"
   },
   "outputs": [
    {
     "data": {
      "image/png": "[encoded data removed]",
      "text/plain": [
       "<Figure size 2000x500 with 12 Axes>"
      ]
     },
     "metadata": {},
     "output_type": "display_data"
    },
    {
     "data": {
      "image/png": "[encoded data removed]",
      "text/plain": [
       "<Figure size 2000x500 with 12 Axes>"
      ]
     },
     "metadata": {},
     "output_type": "display_data"
    }
   ],
   "source": [
    "import matplotlib.pyplot as plt\n",
    "\n",
    "for i in range(2):\n",
    "  fig, axs = plt.subplots(ncols=12, figsize=(20, 5))\n",
    "  for layer, ax in enumerate(axs):\n",
    "    # get attention weights of last transformer layer:\n",
    "    aw = outputs['attentions'][layer][i].cpu()\n",
    "\n",
    "    # average over heads:\n",
    "    aw = aw.mean(dim=0)\n",
    "\n",
    "    # remove padding tokens:\n",
    "    mask = inputs['attention_mask'][i]\n",
    "    aw = aw[mask == 1, :][:, mask == 1]\n",
    "\n",
    "    # create labels:\n",
    "    labels = tokenizer.convert_ids_to_tokens(inputs['input_ids'][i][mask == 1])\n",
    "    x = np.arange(len(labels))\n",
    "\n",
    "    ax.imshow(aw.detach().numpy())\n",
    "    ax.set_xticks(ticks=x, labels=labels, rotation=90)\n",
    "    ax.set_yticks(ticks=x, labels=['']*len(x))\n",
    "    ax.set_title(f'Layer {layer+1}')\n",
    "\n",
    "  axs[0].set_yticks(ticks=x, labels=labels)\n",
    "  plt.tight_layout()\n",
    "  plt.show()"
   ]
  },
  {
   "cell_type": "markdown",
   "id": "f37b8ed0-1ca8-4898-b72e-9fffc5170d45",
   "metadata": {},
   "source": [
    "### BERT 模型一般会返回什么内容呢？\n",
    "\n",
    "outputs.last_hidden_state       ✅ 每个 token 的向量（最常用）\n",
    "\n",
    "\n",
    "outputs.pooler_output           ✅ 整句的向量（做分类时用）\n"
   ]
  },
  {
   "cell_type": "markdown",
   "id": "F082przzrRjv",
   "metadata": {
    "id": "F082przzrRjv"
   },
   "source": [
    "Note how every attention layer focuses on different token combinations."
   ]
  },
  {
   "cell_type": "markdown",
   "id": "R8i0pD_1Pnzx",
   "metadata": {
    "id": "R8i0pD_1Pnzx"
   },
   "source": [
    "### Example: using pretrained models as embeddings without furter fine-tuning"
   ]
  },
  {
   "cell_type": "markdown",
   "id": "iaIt6XKpbkYu",
   "metadata": {
    "id": "iaIt6XKpbkYu"
   },
   "source": [
    "Let's load a dataset:\n",
    "\n",
    "From (https://paperswithcode.com/dataset/ag-news)[https://paperswithcode.com/dataset/ag-news]:\n",
    "> *AG News (AG’s News Corpus) is a subdataset of AG's corpus of news articles constructed by assembling titles and description fields of articles from the 4 largest classes (“World”, “Sports”, “Business”, “Sci/Tech”) of AG’s Corpus. The AG News contains 30,000 training and 1,900 test samples per class.*"
   ]
  },
  {
   "cell_type": "code",
   "execution_count": 39,
   "id": "IPCU7rU2ifZJ",
   "metadata": {
    "colab": {
     "base_uri": "https://localhost:8080/"
    },
    "id": "IPCU7rU2ifZJ",
    "outputId": "6e3fc2f9-8d93-48cb-ce20-c3c312e153b7"
   },
   "outputs": [
    {
     "data": {
      "text/plain": [
       "Dataset({\n",
       "    features: ['text', 'label'],\n",
       "    num_rows: 2000\n",
       "})"
      ]
     },
     "execution_count": 39,
     "metadata": {},
     "output_type": "execute_result"
    }
   ],
   "source": [
    "from datasets import load_dataset\n",
    "\n",
    "labels = [\"World\", \"Sports\", \"Business\", \"Sci/Tech\"]\n",
    "data = load_dataset(\"ag_news\", split='train[:2000]')\n",
    "data"
   ]
  },
  {
   "cell_type": "code",
   "execution_count": 40,
   "id": "zA8qr3hBi4NH",
   "metadata": {
    "colab": {
     "base_uri": "https://localhost:8080/"
    },
    "id": "zA8qr3hBi4NH",
    "outputId": "68cec745-af76-45d9-de0c-f60cebd6d91b"
   },
   "outputs": [
    {
     "data": {
      "text/plain": [
       "{'text': \"Wall St. Bears Claw Back Into the Black (Reuters) Reuters - Short-sellers, Wall Street's dwindling\\\\band of ultra-cynics, are seeing green again.\",\n",
       " 'label': 2}"
      ]
     },
     "execution_count": 40,
     "metadata": {},
     "output_type": "execute_result"
    }
   ],
   "source": [
    "data[0]"
   ]
  },
  {
   "cell_type": "markdown",
   "id": "tyZIOPozi-rP",
   "metadata": {
    "id": "tyZIOPozi-rP"
   },
   "source": [
    "Add a tokenization step to the pipeline:"
   ]
  },
  {
   "cell_type": "code",
   "execution_count": 41,
   "id": "tgEOJjejiuS1",
   "metadata": {
    "colab": {
     "base_uri": "https://localhost:8080/"
    },
    "id": "tgEOJjejiuS1",
    "outputId": "a0de8b7a-b075-4db8-a857-0da879f2db82"
   },
   "outputs": [
    {
     "data": {
      "text/plain": [
       "Dataset({\n",
       "    features: ['text', 'label', 'input_ids', 'token_type_ids', 'attention_mask'],\n",
       "    num_rows: 2000\n",
       "})"
      ]
     },
     "execution_count": 41,
     "metadata": {},
     "output_type": "execute_result"
    }
   ],
   "source": [
    "def tokenize_function(example):\n",
    "    #这里的tokenizer会自动给我的结果加上'input_ids', 'token_type_ids', 'attention_mask'\n",
    "    #其中'input_ids'是我的上下文向量\n",
    "    #'token_type_ids'是可选的，token数据类型\n",
    "    #'attention_mask'注意力标记，哪些向量应该被注意\n",
    "    return tokenizer(example['text'], truncation=True, padding='max_length')\n",
    "\n",
    "data = data.map(tokenize_function, batched=True)\n",
    "data"
   ]
  },
  {
   "cell_type": "markdown",
   "id": "LmaUD5y6jhUD",
   "metadata": {
    "id": "LmaUD5y6jhUD"
   },
   "source": [
    "Hide irrelevant features:"
   ]
  },
  {
   "cell_type": "code",
   "execution_count": 42,
   "id": "olQgyJKGjqOI",
   "metadata": {
    "colab": {
     "base_uri": "https://localhost:8080/"
    },
    "id": "olQgyJKGjqOI",
    "outputId": "6be9ab6e-8eb3-4a67-c99b-51c62cf9f7a9"
   },
   "outputs": [
    {
     "data": {
      "text/plain": [
       "{'label': tensor(2),\n",
       " 'input_ids': tensor([  101,  2813,  2358,  1012,  6468, 15020,  2067,  2046,  1996,  2304,\n",
       "          1006, 26665,  1007, 26665,  1011,  2460,  1011, 19041,  1010,  2813,\n",
       "          2395,  1005,  1055,  1040, 11101,  2989,  1032,  2316,  1997, 11087,\n",
       "          1011, 22330,  8713,  2015,  1010,  2024,  3773,  2665,  2153,  1012,\n",
       "           102,     0,     0,     0,     0,     0,     0,     0,     0,     0,\n",
       "             0,     0,     0,     0,     0,     0,     0,     0,     0,     0,\n",
       "             0,     0,     0,     0,     0,     0,     0,     0,     0,     0,\n",
       "             0,     0,     0,     0,     0,     0,     0,     0,     0,     0,\n",
       "             0,     0,     0,     0,     0,     0,     0,     0,     0,     0,\n",
       "             0,     0,     0,     0,     0,     0,     0,     0,     0,     0,\n",
       "             0,     0,     0,     0,     0,     0,     0,     0,     0,     0,\n",
       "             0,     0,     0,     0,     0,     0,     0,     0,     0,     0,\n",
       "             0,     0,     0,     0,     0,     0,     0,     0,     0,     0,\n",
       "             0,     0,     0,     0,     0,     0,     0,     0,     0,     0,\n",
       "             0,     0,     0,     0,     0,     0,     0,     0,     0,     0,\n",
       "             0,     0,     0,     0,     0,     0,     0,     0,     0,     0,\n",
       "             0,     0,     0,     0,     0,     0,     0,     0,     0,     0,\n",
       "             0,     0,     0,     0,     0,     0,     0,     0,     0,     0,\n",
       "             0,     0,     0,     0,     0,     0,     0,     0,     0,     0,\n",
       "             0,     0,     0,     0,     0,     0,     0,     0,     0,     0,\n",
       "             0,     0,     0,     0,     0,     0,     0,     0,     0,     0,\n",
       "             0,     0,     0,     0,     0,     0,     0,     0,     0,     0,\n",
       "             0,     0,     0,     0,     0,     0,     0,     0,     0,     0,\n",
       "             0,     0,     0,     0,     0,     0,     0,     0,     0,     0,\n",
       "             0,     0,     0,     0,     0,     0,     0,     0,     0,     0,\n",
       "             0,     0,     0,     0,     0,     0,     0,     0,     0,     0,\n",
       "             0,     0,     0,     0,     0,     0,     0,     0,     0,     0,\n",
       "             0,     0,     0,     0,     0,     0,     0,     0,     0,     0,\n",
       "             0,     0,     0,     0,     0,     0,     0,     0,     0,     0,\n",
       "             0,     0,     0,     0,     0,     0,     0,     0,     0,     0,\n",
       "             0,     0,     0,     0,     0,     0,     0,     0,     0,     0,\n",
       "             0,     0,     0,     0,     0,     0,     0,     0,     0,     0,\n",
       "             0,     0,     0,     0,     0,     0,     0,     0,     0,     0,\n",
       "             0,     0,     0,     0,     0,     0,     0,     0,     0,     0,\n",
       "             0,     0,     0,     0,     0,     0,     0,     0,     0,     0,\n",
       "             0,     0,     0,     0,     0,     0,     0,     0,     0,     0,\n",
       "             0,     0,     0,     0,     0,     0,     0,     0,     0,     0,\n",
       "             0,     0,     0,     0,     0,     0,     0,     0,     0,     0,\n",
       "             0,     0,     0,     0,     0,     0,     0,     0,     0,     0,\n",
       "             0,     0,     0,     0,     0,     0,     0,     0,     0,     0,\n",
       "             0,     0,     0,     0,     0,     0,     0,     0,     0,     0,\n",
       "             0,     0,     0,     0,     0,     0,     0,     0,     0,     0,\n",
       "             0,     0,     0,     0,     0,     0,     0,     0,     0,     0,\n",
       "             0,     0,     0,     0,     0,     0,     0,     0,     0,     0,\n",
       "             0,     0,     0,     0,     0,     0,     0,     0,     0,     0,\n",
       "             0,     0,     0,     0,     0,     0,     0,     0,     0,     0,\n",
       "             0,     0,     0,     0,     0,     0,     0,     0,     0,     0,\n",
       "             0,     0,     0,     0,     0,     0,     0,     0,     0,     0,\n",
       "             0,     0,     0,     0,     0,     0,     0,     0,     0,     0,\n",
       "             0,     0,     0,     0,     0,     0,     0,     0,     0,     0,\n",
       "             0,     0,     0,     0,     0,     0,     0,     0,     0,     0,\n",
       "             0,     0]),\n",
       " 'attention_mask': tensor([1, 1, 1, 1, 1, 1, 1, 1, 1, 1, 1, 1, 1, 1, 1, 1, 1, 1, 1, 1, 1, 1, 1, 1,\n",
       "         1, 1, 1, 1, 1, 1, 1, 1, 1, 1, 1, 1, 1, 1, 1, 1, 1, 0, 0, 0, 0, 0, 0, 0,\n",
       "         0, 0, 0, 0, 0, 0, 0, 0, 0, 0, 0, 0, 0, 0, 0, 0, 0, 0, 0, 0, 0, 0, 0, 0,\n",
       "         0, 0, 0, 0, 0, 0, 0, 0, 0, 0, 0, 0, 0, 0, 0, 0, 0, 0, 0, 0, 0, 0, 0, 0,\n",
       "         0, 0, 0, 0, 0, 0, 0, 0, 0, 0, 0, 0, 0, 0, 0, 0, 0, 0, 0, 0, 0, 0, 0, 0,\n",
       "         0, 0, 0, 0, 0, 0, 0, 0, 0, 0, 0, 0, 0, 0, 0, 0, 0, 0, 0, 0, 0, 0, 0, 0,\n",
       "         0, 0, 0, 0, 0, 0, 0, 0, 0, 0, 0, 0, 0, 0, 0, 0, 0, 0, 0, 0, 0, 0, 0, 0,\n",
       "         0, 0, 0, 0, 0, 0, 0, 0, 0, 0, 0, 0, 0, 0, 0, 0, 0, 0, 0, 0, 0, 0, 0, 0,\n",
       "         0, 0, 0, 0, 0, 0, 0, 0, 0, 0, 0, 0, 0, 0, 0, 0, 0, 0, 0, 0, 0, 0, 0, 0,\n",
       "         0, 0, 0, 0, 0, 0, 0, 0, 0, 0, 0, 0, 0, 0, 0, 0, 0, 0, 0, 0, 0, 0, 0, 0,\n",
       "         0, 0, 0, 0, 0, 0, 0, 0, 0, 0, 0, 0, 0, 0, 0, 0, 0, 0, 0, 0, 0, 0, 0, 0,\n",
       "         0, 0, 0, 0, 0, 0, 0, 0, 0, 0, 0, 0, 0, 0, 0, 0, 0, 0, 0, 0, 0, 0, 0, 0,\n",
       "         0, 0, 0, 0, 0, 0, 0, 0, 0, 0, 0, 0, 0, 0, 0, 0, 0, 0, 0, 0, 0, 0, 0, 0,\n",
       "         0, 0, 0, 0, 0, 0, 0, 0, 0, 0, 0, 0, 0, 0, 0, 0, 0, 0, 0, 0, 0, 0, 0, 0,\n",
       "         0, 0, 0, 0, 0, 0, 0, 0, 0, 0, 0, 0, 0, 0, 0, 0, 0, 0, 0, 0, 0, 0, 0, 0,\n",
       "         0, 0, 0, 0, 0, 0, 0, 0, 0, 0, 0, 0, 0, 0, 0, 0, 0, 0, 0, 0, 0, 0, 0, 0,\n",
       "         0, 0, 0, 0, 0, 0, 0, 0, 0, 0, 0, 0, 0, 0, 0, 0, 0, 0, 0, 0, 0, 0, 0, 0,\n",
       "         0, 0, 0, 0, 0, 0, 0, 0, 0, 0, 0, 0, 0, 0, 0, 0, 0, 0, 0, 0, 0, 0, 0, 0,\n",
       "         0, 0, 0, 0, 0, 0, 0, 0, 0, 0, 0, 0, 0, 0, 0, 0, 0, 0, 0, 0, 0, 0, 0, 0,\n",
       "         0, 0, 0, 0, 0, 0, 0, 0, 0, 0, 0, 0, 0, 0, 0, 0, 0, 0, 0, 0, 0, 0, 0, 0,\n",
       "         0, 0, 0, 0, 0, 0, 0, 0, 0, 0, 0, 0, 0, 0, 0, 0, 0, 0, 0, 0, 0, 0, 0, 0,\n",
       "         0, 0, 0, 0, 0, 0, 0, 0])}"
      ]
     },
     "execution_count": 42,
     "metadata": {},
     "output_type": "execute_result"
    }
   ],
   "source": [
    "#bert需要'input_ids','attention_mask', 'label'\n",
    "data.set_format('torch', columns=['input_ids', 'attention_mask', 'label'])\n",
    "data[0]"
   ]
  },
  {
   "cell_type": "markdown",
   "id": "AnTyGM91o4Qj",
   "metadata": {
    "id": "AnTyGM91o4Qj"
   },
   "source": [
    "Calculate BERT embeddings:"
   ]
  },
  {
   "cell_type": "code",
   "execution_count": 43,
   "id": "AgFyX4fMkJqN",
   "metadata": {
    "colab": {
     "base_uri": "https://localhost:8080/"
    },
    "id": "AgFyX4fMkJqN",
    "outputId": "24d563c1-1b49-42b2-9153-9b1e1d73ac7a"
   },
   "outputs": [
    {
     "name": "stderr",
     "output_type": "stream",
     "text": [
      "100%|██████████████████████████████████████████████████████████████████████████████████████████████████████████████████████████████████████████████| 63/63 [00:35<00:00,  1.75it/s]\n"
     ]
    },
    {
     "data": {
      "text/plain": [
       "((2000, 768), (2000,))"
      ]
     },
     "execution_count": 43,
     "metadata": {},
     "output_type": "execute_result"
    }
   ],
   "source": [
    "x, y = [], []\n",
    "\n",
    "# Hugging Face的所有数据集都实现了Dataloader\n",
    "\n",
    "# predict:\n",
    "for batch in tqdm(DataLoader(data, batch_size=32)):\n",
    "  with torch.no_grad():\n",
    "    y.extend(batch.pop('label').cpu().numpy())\n",
    "    #items()返回一个可迭代对象包含每一对键和值\n",
    "    batch = {k: v.to(device) for k, v in batch.items()}\n",
    "    #model(**batch) ==  model(batch['input_ids'],batch[\"attention_mask\"])\n",
    "    x.extend(model(**batch).pooler_output.cpu().numpy())\n",
    "\n",
    "# convert lists to numpy:\n",
    "x = np.array(x)\n",
    "y = np.array(y)\n",
    "\n",
    "x.shape, y.shape"
   ]
  },
  {
   "cell_type": "code",
   "execution_count": 44,
   "id": "7y3OZqJfrHdi",
   "metadata": {
    "colab": {
     "base_uri": "https://localhost:8080/",
     "height": 468
    },
    "id": "7y3OZqJfrHdi",
    "outputId": "7fe18f21-a9ae-4da4-fd2a-dd68c6c39def"
   },
   "outputs": [
    {
     "name": "stderr",
     "output_type": "stream",
     "text": [
      "100%|██████████████████████████████████████████████████████████████████████████████████████████████████████████████████████████████████████████████| 20/20 [00:17<00:00,  1.11it/s]\n"
     ]
    },
    {
     "data": {
      "image/png": "[encoded data removed]",
      "text/plain": [
       "<Figure size 640x480 with 1 Axes>"
      ]
     },
     "metadata": {},
     "output_type": "display_data"
    }
   ],
   "source": [
    "from sklearn.model_selection import ShuffleSplit\n",
    "from sklearn.neighbors import KNeighborsClassifier\n",
    "from sklearn.metrics import f1_score\n",
    "\n",
    "f1_knn, f1_rnd = [], []\n",
    "ks = np.arange(1, 21)\n",
    "for k in tqdm(ks):\n",
    "  f1_knn.append([])\n",
    "  f1_rnd.append([])\n",
    "\n",
    "  # Monte-Carlo cross-validation with 50 splits:\n",
    "  mc = ShuffleSplit(n_splits=50, test_size=0.25, train_size=None)\n",
    "  for idx_train, idx_test in mc.split(x):\n",
    "\n",
    "    # knn classifier:\n",
    "    knn = KNeighborsClassifier(n_neighbors=k).fit(x[idx_train], y[idx_train])\n",
    "    y_pred = knn.predict(x[idx_test])\n",
    "    f1_knn[-1].append(f1_score(y[idx_test], y_pred, average='macro'))\n",
    "\n",
    "    # random baseline:\n",
    "    y_rnd = np.random.randint(0, len(labels), size=len(y[idx_test]))\n",
    "    f1_rnd[-1].append(f1_score(y[idx_test], y_rnd, average='macro'))\n",
    "\n",
    "# convert to numpy:\n",
    "f1_knn = np.array(f1_knn)\n",
    "f1_rnd = np.array(f1_rnd)\n",
    "\n",
    "# plot:\n",
    "plt.plot(np.mean(f1_knn, axis=1), label='KNN')\n",
    "plt.plot(np.mean(f1_rnd, axis=1), label='Random')\n",
    "plt.legend()\n",
    "plt.xticks(ticks=ks-1, labels=ks)\n",
    "plt.xlabel('$k$')\n",
    "plt.ylabel('F$_1$-score')\n",
    "plt.show()"
   ]
  },
  {
   "cell_type": "code",
   "execution_count": 45,
   "id": "xrHQXP6toJAQ",
   "metadata": {
    "id": "xrHQXP6toJAQ"
   },
   "outputs": [],
   "source": [
    "from typing import Iterable\n",
    "from transformers import BertModel, BertTokenizer\n",
    "from numpy.typing import NDArray\n",
    "from sklearn.metrics.pairwise import cosine_similarity"
   ]
  },
  {
   "cell_type": "markdown",
   "id": "oC8eB7JT0SPM",
   "metadata": {
    "id": "oC8eB7JT0SPM"
   },
   "source": [
    "---\n",
    "\n",
    "<span style=\"color:red\"><b>TASK 1</b> - Text similarity:</span>\n",
    "\n",
    "---\n",
    "\n",
    "Write a function to compute text similarity using cosine similarity between BERT embeddings of different texts. The function should take a list of $n$ strings as its input and return a similarity matrix $\\in \\mathbb{R}^{n \\times n}$.\n",
    "\n",
    "Afterward, use this function to compute the similarity for the sentences in `data.zip/task1/sentences.csv` and upload your solution to NextIlearn.\n",
    "\n",
    "**Hint:** See [here](https://scikit-learn.org/stable/modules/generated/sklearn.metrics.pairwise.cosine_similarity.html) for documentation of the `sklearn.metrics.pairwise.cosine_similarity` function."
   ]
  },
  {
   "cell_type": "code",
   "execution_count": 46,
   "id": "f6Ysh3-Q0RUc",
   "metadata": {
    "id": "f6Ysh3-Q0RUc"
   },
   "outputs": [],
   "source": [
    "def text_similarity(texts:Iterable[str], model:BertModel, tokenizer:BertTokenizer, device:torch.device) -> NDArray[np.float32]:\n",
    "  # do stuff here\n",
    "    model.eval()\n",
    "    inputs = tokenizer(texts, padding= True, truncation= True, return_tensors= \"pt\")\n",
    "    inputs = {k : v.to(device) for k, v in inputs.items()}\n",
    "\n",
    "    with torch.no_grad():\n",
    "        outputs = model(**inputs)\n",
    "        embeddings = outputs.pooler_output\n",
    "\n",
    "    embeddings = embeddings.cpu().numpy()\n",
    "    similarity = cosine_similarity(embeddings).astype(np.float32)\n",
    "    return similarity"
   ]
  },
  {
   "cell_type": "code",
   "execution_count": 47,
   "id": "317ea159-3fa4-41da-9799-2487bc0279cc",
   "metadata": {},
   "outputs": [],
   "source": [
    "# calculate similarity for sample sentences:\n",
    "sentences  = pd.read_csv('data/task1/sentences.csv', index_col=0)\n",
    "similarity = text_similarity(sentences['sentences'].values.tolist(), model, tokenizer, device)\n",
    "pd.DataFrame(similarity).to_csv('similarity.csv')"
   ]
  },
  {
   "cell_type": "markdown",
   "id": "7dnFuEGI1Ab9",
   "metadata": {
    "id": "7dnFuEGI1Ab9"
   },
   "source": [
    "---\n",
    "\n",
    "*End of Task 1. Upload your final predictions (the file* `similarity.csv` *) to* **Homework 2 - Code** *on* **NextIlearn**"
   ]
  },
  {
   "cell_type": "markdown",
   "id": "iwdShoDHpu5U",
   "metadata": {
    "id": "iwdShoDHpu5U"
   },
   "source": [
    "When you are done with Task 1, feel free to play around with the function a little:"
   ]
  },
  {
   "cell_type": "code",
   "execution_count": 48,
   "id": "bG2H95mppr_v",
   "metadata": {
    "colab": {
     "base_uri": "https://localhost:8080/",
     "height": 269
    },
    "id": "bG2H95mppr_v",
    "outputId": "d01cd0ef-4a2a-4678-9fda-f43347d51862"
   },
   "outputs": [
    {
     "data": {
      "text/plain": [
       "<matplotlib.image.AxesImage at 0x20e615978c0>"
      ]
     },
     "execution_count": 48,
     "metadata": {},
     "output_type": "execute_result"
    },
    {
     "data": {
      "image/png": "[encoded data removed]",
      "text/plain": [
       "<Figure size 640x480 with 1 Axes>"
      ]
     },
     "metadata": {},
     "output_type": "display_data"
    }
   ],
   "source": [
    "plt.imshow(text_similarity(['Paul is cooking dinner for his friend.', 'Maria is cooking dinner for her friend.', 'Stockholm is a beautiful city!'], model, tokenizer, device))"
   ]
  },
  {
   "cell_type": "markdown",
   "id": "6c734ec5",
   "metadata": {
    "id": "6c734ec5"
   },
   "source": [
    "## 2. Fine-tuning BERT for Text Classification\n",
    "\n",
    "While the KNN classifier based on BERT embeddings is already performing well, we can improve on them by fine-tuning the model for our task. We will reuse the data preprocessing pipeline we used before!"
   ]
  },
  {
   "cell_type": "code",
   "execution_count": 49,
   "id": "gWBA13zK0K0f",
   "metadata": {
    "colab": {
     "base_uri": "https://localhost:8080/"
    },
    "id": "gWBA13zK0K0f",
    "outputId": "b94cfc9e-5d24-4383-c20d-59e5ed7320b3"
   },
   "outputs": [
    {
     "data": {
      "text/plain": [
       "DatasetDict({\n",
       "    train: Dataset({\n",
       "        features: ['text', 'label', 'input_ids', 'token_type_ids', 'attention_mask'],\n",
       "        num_rows: 1500\n",
       "    })\n",
       "    test: Dataset({\n",
       "        features: ['text', 'label', 'input_ids', 'token_type_ids', 'attention_mask'],\n",
       "        num_rows: 500\n",
       "    })\n",
       "})"
      ]
     },
     "execution_count": 49,
     "metadata": {},
     "output_type": "execute_result"
    }
   ],
   "source": [
    "# split data in training and test set:\n",
    "split_data = data.train_test_split(test_size=0.25)\n",
    "split_data"
   ]
  },
  {
   "cell_type": "code",
   "execution_count": 50,
   "id": "qS9Jo5L70SWz",
   "metadata": {
    "id": "qS9Jo5L70SWz"
   },
   "outputs": [],
   "source": [
    "# create dataloaders:\n",
    "train_dataloader = DataLoader(split_data['train'], batch_size=16)\n",
    "test_dataloader = DataLoader(split_data['test'], batch_size=16)"
   ]
  },
  {
   "cell_type": "markdown",
   "id": "Y8WXmm-b72iD",
   "metadata": {
    "id": "Y8WXmm-b72iD"
   },
   "source": [
    "For classification, we need a different \"head\" on our model. Huggingface provides different setups for each model (see [huggingface documentation](https://huggingface.co/transformers/v3.0.2/model_doc/auto.html)):\n",
    "\n",
    "*   `transformers.AutoModel`\n",
    "*   `transformers.AutoModelForPreTraining`\n",
    "*   `transformers.AutoModelWithLMHead`\n",
    "*   `transformers.AutoModelForSequenceClassification`\n",
    "*   `transformers.AutoModelForQuestionAnswering`\n",
    "*   `transformers.AutoModelForTokenClassification`\n",
    "\n",
    "For text classification we use `transformers.AutoModelForSequenceClassification`:"
   ]
  },
  {
   "cell_type": "code",
   "execution_count": 51,
   "id": "kjFc6rW07yu1",
   "metadata": {
    "colab": {
     "base_uri": "https://localhost:8080/"
    },
    "id": "kjFc6rW07yu1",
    "outputId": "ab2479bf-4643-4639-e01b-44eb32d7252f"
   },
   "outputs": [
    {
     "name": "stderr",
     "output_type": "stream",
     "text": [
      "Some weights of BertForSequenceClassification were not initialized from the model checkpoint at bert-base-uncased and are newly initialized: ['classifier.bias', 'classifier.weight']\n",
      "You should probably TRAIN this model on a down-stream task to be able to use it for predictions and inference.\n"
     ]
    },
    {
     "data": {
      "text/plain": [
       "BertForSequenceClassification(\n",
       "  (bert): BertModel(\n",
       "    (embeddings): BertEmbeddings(\n",
       "      (word_embeddings): Embedding(30522, 768, padding_idx=0)\n",
       "      (position_embeddings): Embedding(512, 768)\n",
       "      (token_type_embeddings): Embedding(2, 768)\n",
       "      (LayerNorm): LayerNorm((768,), eps=1e-12, elementwise_affine=True)\n",
       "      (dropout): Dropout(p=0.1, inplace=False)\n",
       "    )\n",
       "    (encoder): BertEncoder(\n",
       "      (layer): ModuleList(\n",
       "        (0-11): 12 x BertLayer(\n",
       "          (attention): BertAttention(\n",
       "            (self): BertSdpaSelfAttention(\n",
       "              (query): Linear(in_features=768, out_features=768, bias=True)\n",
       "              (key): Linear(in_features=768, out_features=768, bias=True)\n",
       "              (value): Linear(in_features=768, out_features=768, bias=True)\n",
       "              (dropout): Dropout(p=0.1, inplace=False)\n",
       "            )\n",
       "            (output): BertSelfOutput(\n",
       "              (dense): Linear(in_features=768, out_features=768, bias=True)\n",
       "              (LayerNorm): LayerNorm((768,), eps=1e-12, elementwise_affine=True)\n",
       "              (dropout): Dropout(p=0.1, inplace=False)\n",
       "            )\n",
       "          )\n",
       "          (intermediate): BertIntermediate(\n",
       "            (dense): Linear(in_features=768, out_features=3072, bias=True)\n",
       "            (intermediate_act_fn): GELUActivation()\n",
       "          )\n",
       "          (output): BertOutput(\n",
       "            (dense): Linear(in_features=3072, out_features=768, bias=True)\n",
       "            (LayerNorm): LayerNorm((768,), eps=1e-12, elementwise_affine=True)\n",
       "            (dropout): Dropout(p=0.1, inplace=False)\n",
       "          )\n",
       "        )\n",
       "      )\n",
       "    )\n",
       "    (pooler): BertPooler(\n",
       "      (dense): Linear(in_features=768, out_features=768, bias=True)\n",
       "      (activation): Tanh()\n",
       "    )\n",
       "  )\n",
       "  (dropout): Dropout(p=0.1, inplace=False)\n",
       "  (classifier): Linear(in_features=768, out_features=4, bias=True)\n",
       ")"
      ]
     },
     "execution_count": 51,
     "metadata": {},
     "output_type": "execute_result"
    }
   ],
   "source": [
    "from transformers import AutoModelForSequenceClassification\n",
    "\n",
    "model = AutoModelForSequenceClassification.from_pretrained(\"bert-base-uncased\", num_labels=len(labels))\n",
    "model = model.to(device)\n",
    "model"
   ]
  },
  {
   "cell_type": "markdown",
   "id": "6mABS9aP-3e6",
   "metadata": {
    "id": "6mABS9aP-3e6"
   },
   "source": [
    "As you can see, this model has an **additional linear layer** after the pooler layer. It also comes with built-in loss calculation for convenience:\n",
    "\n",
    "```Python\n",
    "loss = None\n",
    "if labels is not None:\n",
    "    if self.config.problem_type is None:\n",
    "        if self.num_labels == 1:\n",
    "            self.config.problem_type = \"regression\"\n",
    "        elif self.num_labels > 1 and (labels.dtype == torch.long or labels.dtype == torch.int):\n",
    "            self.config.problem_type = \"single_label_classification\"\n",
    "        else:\n",
    "            self.config.problem_type = \"multi_label_classification\"\n",
    "\n",
    "    if self.config.problem_type == \"regression\":\n",
    "        loss_fct = MSELoss()\n",
    "        if self.num_labels == 1:\n",
    "            loss = loss_fct(logits.squeeze(), labels.squeeze())\n",
    "        else:\n",
    "            loss = loss_fct(logits, labels)\n",
    "    elif self.config.problem_type == \"single_label_classification\":\n",
    "        loss_fct = CrossEntropyLoss()\n",
    "        loss = loss_fct(logits.view(-1, self.num_labels), labels.view(-1))\n",
    "    elif self.config.problem_type == \"multi_label_classification\":\n",
    "        loss_fct = BCEWithLogitsLoss()\n",
    "        loss = loss_fct(logits, labels)\n",
    "```\n",
    "(*from* [https://github.com/huggingface/transformers/blob/v4.51.3/src/transformers/models/bert/modeling_bert.py](https://github.com/huggingface/transformers/blob/v4.51.3/src/transformers/models/bert/modeling_bert.py#L1692))\n",
    "\n",
    "\n",
    "Let's try this out:"
   ]
  },
  {
   "cell_type": "code",
   "execution_count": 52,
   "id": "26T9ZO7sHQcW",
   "metadata": {
    "colab": {
     "base_uri": "https://localhost:8080/"
    },
    "id": "26T9ZO7sHQcW",
    "outputId": "df86c84c-a6b3-486c-9387-a40fe8d9075c"
   },
   "outputs": [
    {
     "data": {
      "text/plain": [
       "SequenceClassifierOutput(loss=tensor(1.9234, device='cuda:0', grad_fn=<NllLossBackward0>), logits=tensor([[ 0.1240,  0.0600, -0.4653,  0.3896]], device='cuda:0',\n",
       "       grad_fn=<AddmmBackward0>), hidden_states=None, attentions=None)"
      ]
     },
     "execution_count": 52,
     "metadata": {},
     "output_type": "execute_result"
    }
   ],
   "source": [
    "model(\n",
    "  input_ids      = data[:1]['input_ids'].to(device),\n",
    "  attention_mask = data[:1]['attention_mask'].to(device),\n",
    "  labels         = data[:1]['label'].to(device)\n",
    ")"
   ]
  },
  {
   "cell_type": "markdown",
   "id": "FdV9KVu6EyEp",
   "metadata": {
    "id": "FdV9KVu6EyEp"
   },
   "source": [
    "Now let's train this model. Remember, that **in fine-tuning we want to update the pretrained weights, not re-train the model**. Therefore, we train the model for a low number of epochs with a low learning rate. The original BERT paper proposes the following configuration ([Devlin et al, 2019](https://doi.org/10.48550/arXiv.1810.04805)):\n",
    "\n",
    "* **Learning rate with Adam:** *5e-5, 3e-5, 2e-5*\n",
    "* **Number of epochs:** *2, 3, 4*\n",
    "\n",
    "Further reading: *Huggingface also provides a* `transformers.Trainer`*-class that you may want to try out for convenience: [https://huggingface.co/docs/transformers/main_classes/trainer](https://huggingface.co/docs/transformers/main_classes/trainer)*"
   ]
  },
  {
   "cell_type": "code",
   "execution_count": 53,
   "id": "5bb544b6",
   "metadata": {
    "colab": {
     "base_uri": "https://localhost:8080/"
    },
    "id": "5bb544b6",
    "outputId": "38815cfe-5dca-44b1-a8b0-0c29857a838f"
   },
   "outputs": [
    {
     "name": "stderr",
     "output_type": "stream",
     "text": [
      " epoch 1: 100%|████████████████████████████████████████████████████████████████████████████████████████████████████████████████████████████████████| 94/94 [01:18<00:00,  1.20it/s]\n"
     ]
    },
    {
     "name": "stdout",
     "output_type": "stream",
     "text": [
      "Epoch 1: loss = 0.586\n"
     ]
    },
    {
     "name": "stderr",
     "output_type": "stream",
     "text": [
      " epoch 2: 100%|████████████████████████████████████████████████████████████████████████████████████████████████████████████████████████████████████| 94/94 [01:19<00:00,  1.18it/s]"
     ]
    },
    {
     "name": "stdout",
     "output_type": "stream",
     "text": [
      "Epoch 2: loss = 0.275\n"
     ]
    },
    {
     "name": "stderr",
     "output_type": "stream",
     "text": [
      "\n"
     ]
    }
   ],
   "source": [
    "from torch.optim import AdamW\n",
    "import tqdm\n",
    "\n",
    "# Optimizer:\n",
    "optimizer = AdamW(model.parameters(), lr=5e-5)\n",
    "\n",
    "# Training loop:\n",
    "loss_train = []\n",
    "for epoch in range(2):\n",
    "\n",
    "  model.train()\n",
    "  loss_train.append([])\n",
    "  for batch in tqdm.tqdm(train_dataloader, desc= f\" epoch {epoch + 1}\"):\n",
    "    optimizer.zero_grad()\n",
    "\n",
    "    outputs = model(\n",
    "      input_ids      = batch['input_ids'].to(device),\n",
    "      attention_mask = batch['attention_mask'].to(device),\n",
    "      labels         = batch['label'].to(device)\n",
    "    )\n",
    "\n",
    "    loss = outputs.loss\n",
    "    loss.backward()\n",
    "    loss_train[-1].append(loss.item())\n",
    "\n",
    "    optimizer.step()\n",
    "  loss_train[-1] = np.mean(loss_train[-1])\n",
    "\n",
    "  print(f\"Epoch {epoch+1}: loss = {loss_train[-1]:.3f}\")"
   ]
  },
  {
   "cell_type": "code",
   "execution_count": 54,
   "id": "XnC9iFksPg2e",
   "metadata": {
    "colab": {
     "base_uri": "https://localhost:8080/"
    },
    "id": "XnC9iFksPg2e",
    "outputId": "319bbbe6-6e32-4af6-a695-01e82536a3ae"
   },
   "outputs": [
    {
     "data": {
      "text/plain": [
       "0.8395743426291318"
      ]
     },
     "execution_count": 54,
     "metadata": {},
     "output_type": "execute_result"
    }
   ],
   "source": [
    "# Evaluation:\n",
    "model.eval()\n",
    "y_true, y_pred = [], []\n",
    "for batch in test_dataloader:\n",
    "  with torch.no_grad():\n",
    "    outputs = model(\n",
    "      input_ids      = batch['input_ids'].to(device),\n",
    "      attention_mask = batch['attention_mask'].to(device)\n",
    "    )\n",
    "\n",
    "  y_pred.extend(outputs.logits.argmax(dim=1).cpu().numpy())\n",
    "  y_true.extend(batch['label'].cpu().numpy())\n",
    "\n",
    "f1_score(y_true, y_pred, average='macro')"
   ]
  },
  {
   "cell_type": "markdown",
   "id": "5M_UbjWVRbVR",
   "metadata": {
    "id": "5M_UbjWVRbVR"
   },
   "source": [
    "---\n",
    "\n",
    "<span style=\"color:red\"><b>TASK 2</b> - Fine-Tuning RoBERTa:</span>\n",
    "\n",
    "---\n",
    "\n",
    "Fine-tune [RoBERTa](https://huggingface.co/docs/transformers/model_doc/roberta) a pretrained transformer model to classify the data you received along with this notebook (in `data.zip/task2/...`). **You are enouraged to use scheduling and early stopping, but remember to keep the learning rate low.**\n",
    "\n",
    "**Upload the resulting predictions to NextIlearn. Your model should achieve an F$_1$ > .77 to pass.**"
   ]
  },
  {
   "cell_type": "code",
   "execution_count": 55,
   "id": "ada173b4-93ac-4ddd-8475-b1e442100ecf",
   "metadata": {},
   "outputs": [
    {
     "name": "stdout",
     "output_type": "stream",
     "text": [
      "# of positive samples: 3640\n",
      "# of negative samples: 8460\n"
     ]
    },
    {
     "data": {
      "text/html": [
       "<div>\n",
       "<style scoped>\n",
       "    .dataframe tbody tr th:only-of-type {\n",
       "        vertical-align: middle;\n",
       "    }\n",
       "\n",
       "    .dataframe tbody tr th {\n",
       "        vertical-align: top;\n",
       "    }\n",
       "\n",
       "    .dataframe thead th {\n",
       "        text-align: right;\n",
       "    }\n",
       "</style>\n",
       "<table border=\"1\" class=\"dataframe\">\n",
       "  <thead>\n",
       "    <tr style=\"text-align: right;\">\n",
       "      <th></th>\n",
       "      <th>file</th>\n",
       "      <th>label</th>\n",
       "    </tr>\n",
       "  </thead>\n",
       "  <tbody>\n",
       "    <tr>\n",
       "      <th>0</th>\n",
       "      <td>data/task2/train/0000.txt</td>\n",
       "      <td>0</td>\n",
       "    </tr>\n",
       "    <tr>\n",
       "      <th>1</th>\n",
       "      <td>data/task2/train/0001.txt</td>\n",
       "      <td>0</td>\n",
       "    </tr>\n",
       "    <tr>\n",
       "      <th>2</th>\n",
       "      <td>data/task2/train/0002.txt</td>\n",
       "      <td>1</td>\n",
       "    </tr>\n",
       "    <tr>\n",
       "      <th>3</th>\n",
       "      <td>data/task2/train/0003.txt</td>\n",
       "      <td>0</td>\n",
       "    </tr>\n",
       "    <tr>\n",
       "      <th>4</th>\n",
       "      <td>data/task2/train/0004.txt</td>\n",
       "      <td>1</td>\n",
       "    </tr>\n",
       "  </tbody>\n",
       "</table>\n",
       "</div>"
      ],
      "text/plain": [
       "                        file  label\n",
       "0  data/task2/train/0000.txt      0\n",
       "1  data/task2/train/0001.txt      0\n",
       "2  data/task2/train/0002.txt      1\n",
       "3  data/task2/train/0003.txt      0\n",
       "4  data/task2/train/0004.txt      1"
      ]
     },
     "execution_count": 55,
     "metadata": {},
     "output_type": "execute_result"
    }
   ],
   "source": [
    "# Load labeled list of training files:\n",
    "train_files = pd.read_csv('data/task2/train/labels.csv', index_col=0)\n",
    "train_files['file'] = ['data/task2/train/' + s for s in train_files['file']]\n",
    "print(f'# of positive samples: {(train_files.label == 1).sum():d}')\n",
    "print(f'# of negative samples: {(train_files.label == 0).sum():d}')\n",
    "train_files.head()"
   ]
  },
  {
   "cell_type": "code",
   "execution_count": 56,
   "id": "1ef1d55d-8c9d-477a-a716-2156d1ca7601",
   "metadata": {},
   "outputs": [
    {
     "name": "stdout",
     "output_type": "stream",
     "text": [
      "#ANTIFA are bedfellows with The Democratic Socialists of America (DSA) who #JamesOKeefe has exposed as being inserted throughout government, attempting to bring down #America  #Trump #MAGA馃嚭馃嚫 #DeepState  \n"
     ]
    }
   ],
   "source": [
    "# Load training data sample:\n",
    "with open(train_files.file.sample(1).iloc[0], 'r') as file:\n",
    "    print(file.read())"
   ]
  },
  {
   "cell_type": "code",
   "execution_count": 57,
   "id": "aa8b2f4c-e358-49c1-b60a-de14811b17f1",
   "metadata": {},
   "outputs": [
    {
     "data": {
      "text/html": [
       "<div>\n",
       "<style scoped>\n",
       "    .dataframe tbody tr th:only-of-type {\n",
       "        vertical-align: middle;\n",
       "    }\n",
       "\n",
       "    .dataframe tbody tr th {\n",
       "        vertical-align: top;\n",
       "    }\n",
       "\n",
       "    .dataframe thead th {\n",
       "        text-align: right;\n",
       "    }\n",
       "</style>\n",
       "<table border=\"1\" class=\"dataframe\">\n",
       "  <thead>\n",
       "    <tr style=\"text-align: right;\">\n",
       "      <th></th>\n",
       "      <th>file</th>\n",
       "    </tr>\n",
       "  </thead>\n",
       "  <tbody>\n",
       "    <tr>\n",
       "      <th>0</th>\n",
       "      <td>data/task2/test/0000.txt</td>\n",
       "    </tr>\n",
       "    <tr>\n",
       "      <th>1</th>\n",
       "      <td>data/task2/test/0001.txt</td>\n",
       "    </tr>\n",
       "    <tr>\n",
       "      <th>2</th>\n",
       "      <td>data/task2/test/0002.txt</td>\n",
       "    </tr>\n",
       "    <tr>\n",
       "      <th>3</th>\n",
       "      <td>data/task2/test/0003.txt</td>\n",
       "    </tr>\n",
       "    <tr>\n",
       "      <th>4</th>\n",
       "      <td>data/task2/test/0004.txt</td>\n",
       "    </tr>\n",
       "  </tbody>\n",
       "</table>\n",
       "</div>"
      ],
      "text/plain": [
       "                       file\n",
       "0  data/task2/test/0000.txt\n",
       "1  data/task2/test/0001.txt\n",
       "2  data/task2/test/0002.txt\n",
       "3  data/task2/test/0003.txt\n",
       "4  data/task2/test/0004.txt"
      ]
     },
     "execution_count": 57,
     "metadata": {},
     "output_type": "execute_result"
    }
   ],
   "source": [
    "# Load list of test files:\n",
    "import os\n",
    "test_files = ['data/task2/test/' + s for s in os.listdir('data/task2/test/')]\n",
    "test_files.sort()\n",
    "test_files = pd.DataFrame({'file': test_files})\n",
    "test_files.head()"
   ]
  },
  {
   "cell_type": "code",
   "execution_count": 9,
   "id": "q-KOtrclVF7N",
   "metadata": {
    "id": "q-KOtrclVF7N"
   },
   "outputs": [
    {
     "name": "stderr",
     "output_type": "stream",
     "text": [
      "Some weights of RobertaForSequenceClassification were not initialized from the model checkpoint at roberta-base and are newly initialized: ['classifier.dense.bias', 'classifier.dense.weight', 'classifier.out_proj.bias', 'classifier.out_proj.weight']\n",
      "You should probably TRAIN this model on a down-stream task to be able to use it for predictions and inference.\n",
      "Epoch 1: 100%|███████████████████████████████████████████████████████████████████████████████████████████████████████████████████████████████████| 605/605 [04:06<00:00,  2.45it/s]\n"
     ]
    },
    {
     "name": "stdout",
     "output_type": "stream",
     "text": [
      "\n",
      " Epoch 1 finished. Mean Loss: 0.4699\n",
      " Validation F1-score: 0.7784\n",
      "\n",
      "Saved new best model!\n"
     ]
    },
    {
     "name": "stderr",
     "output_type": "stream",
     "text": [
      "Epoch 2: 100%|███████████████████████████████████████████████████████████████████████████████████████████████████████████████████████████████████| 605/605 [04:05<00:00,  2.46it/s]\n"
     ]
    },
    {
     "name": "stdout",
     "output_type": "stream",
     "text": [
      "\n",
      " Epoch 2 finished. Mean Loss: 0.3787\n",
      " Validation F1-score: 0.7809\n",
      "\n",
      "Saved new best model!\n"
     ]
    },
    {
     "name": "stderr",
     "output_type": "stream",
     "text": [
      "Epoch 3: 100%|███████████████████████████████████████████████████████████████████████████████████████████████████████████████████████████████████| 605/605 [04:06<00:00,  2.46it/s]\n"
     ]
    },
    {
     "name": "stdout",
     "output_type": "stream",
     "text": [
      "\n",
      " Epoch 3 finished. Mean Loss: 0.3032\n",
      " Validation F1-score: 0.7660\n",
      "\n"
     ]
    },
    {
     "name": "stderr",
     "output_type": "stream",
     "text": [
      "Epoch 4: 100%|███████████████████████████████████████████████████████████████████████████████████████████████████████████████████████████████████| 605/605 [04:08<00:00,  2.44it/s]\n"
     ]
    },
    {
     "name": "stdout",
     "output_type": "stream",
     "text": [
      "\n",
      " Epoch 4 finished. Mean Loss: 0.2148\n",
      " Validation F1-score: 0.7566\n",
      "\n"
     ]
    },
    {
     "name": "stderr",
     "output_type": "stream",
     "text": [
      "Epoch 5: 100%|███████████████████████████████████████████████████████████████████████████████████████████████████████████████████████████████████| 605/605 [04:14<00:00,  2.38it/s]\n"
     ]
    },
    {
     "name": "stdout",
     "output_type": "stream",
     "text": [
      "\n",
      " Epoch 5 finished. Mean Loss: 0.1481\n",
      " Validation F1-score: 0.7530\n",
      "\n"
     ]
    },
    {
     "name": "stderr",
     "output_type": "stream",
     "text": [
      "Epoch 6:   2%|██▊                                                                                                                                 | 13/605 [00:05<04:20,  2.28it/s]\n"
     ]
    },
    {
     "ename": "KeyboardInterrupt",
     "evalue": "",
     "output_type": "error",
     "traceback": [
      "\u001b[31m---------------------------------------------------------------------------\u001b[39m",
      "\u001b[31mKeyboardInterrupt\u001b[39m                         Traceback (most recent call last)",
      "\u001b[36mCell\u001b[39m\u001b[36m \u001b[39m\u001b[32mIn[9]\u001b[39m\u001b[32m, line 102\u001b[39m\n\u001b[32m     99\u001b[39m     optimizer.step()\n\u001b[32m    100\u001b[39m     optimizer.zero_grad()\n\u001b[32m--> \u001b[39m\u001b[32m102\u001b[39m     total_loss += \u001b[43mloss\u001b[49m\u001b[43m.\u001b[49m\u001b[43mitem\u001b[49m\u001b[43m(\u001b[49m\u001b[43m)\u001b[49m\n\u001b[32m    103\u001b[39m     num_batches += \u001b[32m1\u001b[39m\n\u001b[32m    105\u001b[39m mean_loss = total_loss / num_batches\n",
      "\u001b[31mKeyboardInterrupt\u001b[39m: "
     ]
    }
   ],
   "source": [
    "import os\n",
    "import pandas as pd\n",
    "import torch\n",
    "from torch.utils.data import Dataset, DataLoader\n",
    "from torch.optim import AdamW\n",
    "from transformers import AutoTokenizer, AutoModelForSequenceClassification\n",
    "from sklearn.metrics import f1_score\n",
    "from sklearn.model_selection import train_test_split\n",
    "from functools import partial\n",
    "import tqdm\n",
    "\n",
    "\n",
    "class Task2Dataset(Dataset):\n",
    "    def __init__(self, label_file, data_file, tokenizer, max_length=128):\n",
    "        self.labels = pd.read_csv(label_file)\n",
    "        self.data_file = data_file\n",
    "        self.tokenizer = tokenizer\n",
    "        self.max_length = max_length\n",
    "\n",
    "    def __len__(self):\n",
    "        return len(self.labels)\n",
    "\n",
    "    def __getitem__(self, idx):\n",
    "        row = self.labels.iloc[idx]\n",
    "        file_name = row[\"file\"]\n",
    "        file_label = row[\"label\"]\n",
    "        file_text_path = os.path.join(self.data_file, file_name)\n",
    "        with open(file_text_path, \"r\", encoding=\"utf-8\") as f:\n",
    "            file_text = f.read().strip()\n",
    "        return file_text, file_label\n",
    "\n",
    "\n",
    "def collate_fn(batch, tokenizer, max_length=256):\n",
    "    texts, labels = zip(*batch)\n",
    "    encoded = tokenizer(\n",
    "        list(texts),\n",
    "        padding=\"max_length\",\n",
    "        truncation=True,\n",
    "        max_length=max_length,\n",
    "        return_tensors=\"pt\"\n",
    "    )\n",
    "    encoded[\"labels\"] = torch.tensor(labels, dtype=torch.long)\n",
    "    return encoded\n",
    "\n",
    "\n",
    "def evaluate(model, dataloader, device):\n",
    "    model.eval()\n",
    "    y_true, y_pred = [], []\n",
    "    with torch.no_grad():\n",
    "        for batch in dataloader:\n",
    "            batch = {k: v.to(device) for k, v in batch.items()}\n",
    "            logits = model(**batch).logits\n",
    "            preds = torch.argmax(logits, dim=1)\n",
    "            y_pred.extend(preds.cpu().tolist())\n",
    "            y_true.extend(batch[\"labels\"].cpu().tolist())\n",
    "    return f1_score(y_true, y_pred, average=\"macro\")\n",
    "\n",
    "\n",
    "label_file = r\"D:\\pythonProject\\Lab5_empty\\data\\task2\\train\\labels.csv\"\n",
    "data_file = r\"D:\\pythonProject\\Lab5_empty\\data\\task2\\train\"\n",
    "tokenizer = AutoTokenizer.from_pretrained(\"roberta-base\")\n",
    "\n",
    "# Split into train/val CSVs\n",
    "df = pd.read_csv(label_file)\n",
    "df_train, df_val = train_test_split(df, test_size=0.2, stratify=df[\"label\"], random_state=42)\n",
    "df_train.to_csv(\"train_split.csv\", index=False)\n",
    "df_val.to_csv(\"val_split.csv\", index=False)\n",
    "\n",
    "\n",
    "train_dataset = Task2Dataset(\"train_split.csv\", data_file, tokenizer)\n",
    "val_dataset = Task2Dataset(\"val_split.csv\", data_file, tokenizer)\n",
    "\n",
    "train_loader = DataLoader(train_dataset, batch_size=16, shuffle=True,\n",
    "                          collate_fn=partial(collate_fn, tokenizer=tokenizer),\n",
    "                          )\n",
    "val_loader = DataLoader(val_dataset, batch_size=16, shuffle=False,\n",
    "                        collate_fn=partial(collate_fn, tokenizer=tokenizer),\n",
    "                        )\n",
    "\n",
    "\n",
    "device = torch.device(\"cuda\" if torch.cuda.is_available() else \"cpu\")\n",
    "model = AutoModelForSequenceClassification.from_pretrained(\"roberta-base\", num_labels=2)\n",
    "model.to(device)\n",
    "\n",
    "optimizer = AdamW(model.parameters(), lr=2e-5, weight_decay=0.01)\n",
    "num_epochs = 8\n",
    "best_f1 = 0.0\n",
    "\n",
    "\n",
    "for epoch in range(num_epochs):\n",
    "    model.train()\n",
    "    total_loss, num_batches = 0, 0\n",
    "\n",
    "    for batch in tqdm.tqdm(train_loader, desc=f\"Epoch {epoch+1}\"):\n",
    "        batch = {k: v.to(device) for k, v in batch.items()}\n",
    "        outputs = model(**batch)\n",
    "        loss = outputs.loss\n",
    "        loss.backward()\n",
    "        optimizer.step()\n",
    "        optimizer.zero_grad()\n",
    "\n",
    "        total_loss += loss.item()\n",
    "        num_batches += 1\n",
    "\n",
    "    mean_loss = total_loss / num_batches\n",
    "    print(f\"\\n Epoch {epoch+1} finished. Mean Loss: {mean_loss:.4f}\")\n",
    "\n",
    "    val_f1 = evaluate(model, val_loader, device)\n",
    "    print(f\" Validation F1-score: {val_f1:.4f}\\n\")\n",
    "\n",
    "    if val_f1 > best_f1:\n",
    "        best_f1 = val_f1\n",
    "        model.save_pretrained(\"best_model\")\n",
    "        tokenizer.save_pretrained(\"best_model\")\n",
    "        print(\"Saved new best model!\")\n"
   ]
  },
  {
   "cell_type": "code",
   "execution_count": 10,
   "id": "6f6d32b5-6796-4879-a8e0-fb22b84c087b",
   "metadata": {},
   "outputs": [
    {
     "name": "stderr",
     "output_type": "stream",
     "text": [
      "Predicting: 100%|████████████████████████████████████████████████████████████████████████████████████████████████████████████████████████████████| 125/125 [00:17<00:00,  7.15it/s]\n"
     ]
    }
   ],
   "source": [
    "\n",
    "\n",
    "\n",
    "device = torch.device(\"cuda\" if torch.cuda.is_available() else \"cpu\")\n",
    "model_task2 = AutoModelForSequenceClassification.from_pretrained(\"best_model\").to(device)\n",
    "tokenizer = AutoTokenizer.from_pretrained(\"best_model\")\n",
    "\n",
    "class Task2TestDataset(Dataset):\n",
    "    def __init__(self, file_dir):\n",
    "        self.file_names = sorted(os.listdir(file_dir))\n",
    "        self.file_paths = [os.path.join(file_dir, fname) for fname in self.file_names]\n",
    "        self.file_ids = [os.path.splitext(fname)[0] for fname in self.file_names]\n",
    "\n",
    "    def __len__(self):\n",
    "        return len(self.file_paths)\n",
    "\n",
    "    def __getitem__(self, idx):\n",
    "        with open(self.file_paths[idx], \"r\", encoding=\"utf-8\") as f:\n",
    "            text = f.read().strip()\n",
    "        return self.file_ids[idx], text  \n",
    "\n",
    "def test_collate_fn(batch, tokenizer, max_length=256):\n",
    "    file_ids, texts = zip(*batch)\n",
    "    encoded = tokenizer(\n",
    "        list(texts),\n",
    "        padding=\"max_length\",\n",
    "        truncation=True,\n",
    "        max_length=max_length,\n",
    "        return_tensors=\"pt\"\n",
    "    )\n",
    "    return {\n",
    "        \"file_ids\": list(file_ids),\n",
    "        \"input_ids\": encoded[\"input_ids\"],\n",
    "        \"attention_mask\": encoded[\"attention_mask\"]\n",
    "    }\n",
    "\n",
    "\n",
    "test_dataset = Task2TestDataset(r\"D:\\pythonProject\\Lab5_empty\\data\\task2\\test\")\n",
    "test_loader = DataLoader(\n",
    "    test_dataset,\n",
    "    batch_size=16,\n",
    "    shuffle=False,\n",
    "    collate_fn=partial(test_collate_fn, tokenizer=tokenizer),\n",
    "    #Every time the num_workers not null will stuck, do not know why\n",
    "    num_workers=0,  \n",
    "    pin_memory=False\n",
    ")\n",
    "\n",
    "\n",
    "model_task2.eval()\n",
    "results = []\n",
    "\n",
    "with torch.no_grad():\n",
    "    for batch in tqdm.tqdm(test_loader, desc=\"Predicting\"):\n",
    "        input_ids = batch[\"input_ids\"].to(device)\n",
    "        attention_mask = batch[\"attention_mask\"].to(device)\n",
    "        file_ids = batch[\"file_ids\"]\n",
    "\n",
    "        logits = model_task2(input_ids=input_ids, attention_mask=attention_mask).logits\n",
    "        preds = torch.argmax(logits, dim=1).cpu().tolist()\n",
    "\n",
    "        for fid, pred in zip(file_ids, preds):\n",
    "            results.append({\"file\": fid, \"predictions\": pred})\n",
    "\n",
    "\n",
    "df = pd.DataFrame(results)\n",
    "df = df.sort_values(\"file\")  \n",
    "df = df[[\"predictions\"]]     \n",
    "df.to_csv(\"submission.csv\", index=True)\n"
   ]
  },
  {
   "cell_type": "markdown",
   "id": "xfTjJoIZT8Ya",
   "metadata": {
    "id": "xfTjJoIZT8Ya"
   },
   "source": [
    "---\n",
    "\n",
    "*End of Task 2. Upload your final predictions (the file* `submission.csv` *) to* **Homework 2 - Code** *on* **NextIlearn**"
   ]
  },
  {
   "cell_type": "markdown",
   "id": "cdf6d753",
   "metadata": {
    "id": "cdf6d753"
   },
   "source": [
    "## 3. Simple Autoregressive Extension of BERT\n",
    "\n",
    "BERT is not autoregressive by design. Here, we try to simulate next-token prediction using BERT with causal masking.\n",
    "\n",
    "Remember, that in the MLM pretraining task, BERT is trained to predict the most probable token corresponding to the input token `'[MASK]'`.\n",
    "\n",
    "E.g.: `'[CLS] The weather is [MASK]. [SEP]'` → **BERT** → `'[CLS] The weather is great. [SEP]'`\n",
    "\n",
    "We will use this to simulate autoregression, i.e. the generation of a text token by token."
   ]
  },
  {
   "cell_type": "code",
   "execution_count": 1,
   "id": "m9os_p3_aMH1",
   "metadata": {
    "colab": {
     "base_uri": "https://localhost:8080/"
    },
    "id": "m9os_p3_aMH1",
    "outputId": "ef75cfbc-8646-4ef2-ca66-cc7820238780"
   },
   "outputs": [
    {
     "name": "stderr",
     "output_type": "stream",
     "text": [
      "Some weights of the model checkpoint at bert-base-uncased were not used when initializing BertForMaskedLM: ['bert.pooler.dense.bias', 'bert.pooler.dense.weight', 'cls.seq_relationship.bias', 'cls.seq_relationship.weight']\n",
      "- This IS expected if you are initializing BertForMaskedLM from the checkpoint of a model trained on another task or with another architecture (e.g. initializing a BertForSequenceClassification model from a BertForPreTraining model).\n",
      "- This IS NOT expected if you are initializing BertForMaskedLM from the checkpoint of a model that you expect to be exactly identical (initializing a BertForSequenceClassification model from a BertForSequenceClassification model).\n"
     ]
    },
    {
     "ename": "NameError",
     "evalue": "name 'device' is not defined",
     "output_type": "error",
     "traceback": [
      "\u001b[31m---------------------------------------------------------------------------\u001b[39m",
      "\u001b[31mNameError\u001b[39m                                 Traceback (most recent call last)",
      "\u001b[36mCell\u001b[39m\u001b[36m \u001b[39m\u001b[32mIn[1]\u001b[39m\u001b[32m, line 3\u001b[39m\n\u001b[32m      1\u001b[39m \u001b[38;5;28;01mfrom\u001b[39;00m\u001b[38;5;250m \u001b[39m\u001b[34;01mtransformers\u001b[39;00m\u001b[38;5;250m \u001b[39m\u001b[38;5;28;01mimport\u001b[39;00m AutoModelForMaskedLM\n\u001b[32m      2\u001b[39m model = AutoModelForMaskedLM.from_pretrained(\u001b[33m'\u001b[39m\u001b[33mbert-base-uncased\u001b[39m\u001b[33m'\u001b[39m)\n\u001b[32m----> \u001b[39m\u001b[32m3\u001b[39m model = model.to(\u001b[43mdevice\u001b[49m)\n\u001b[32m      4\u001b[39m model.eval()\n\u001b[32m      5\u001b[39m model\n",
      "\u001b[31mNameError\u001b[39m: name 'device' is not defined"
     ]
    }
   ],
   "source": [
    "from transformers import AutoModelForMaskedLM\n",
    "model = AutoModelForMaskedLM.from_pretrained('bert-base-uncased')\n",
    "model = model.to(device)\n",
    "model.eval()\n",
    "model"
   ]
  },
  {
   "cell_type": "markdown",
   "id": "nFG3FSGJa1xq",
   "metadata": {
    "id": "nFG3FSGJa1xq"
   },
   "source": [
    "An example:"
   ]
  },
  {
   "cell_type": "code",
   "execution_count": null,
   "id": "sXVjcP3Na1Hf",
   "metadata": {
    "colab": {
     "base_uri": "https://localhost:8080/"
    },
    "id": "sXVjcP3Na1Hf",
    "outputId": "4cf0004d-ab0a-40e2-892d-950b031c9189"
   },
   "outputs": [],
   "source": [
    "sentence = \"The capital of France is [MASK].\"\n",
    "\n",
    "# tokenize:\n",
    "inputs = tokenizer(sentence, return_tensors=\"pt\").to(device)\n",
    "\n",
    "# generate:\n",
    "with torch.no_grad():\n",
    "    logits = model(**inputs).logits\n",
    "\n",
    "logits.shape"
   ]
  },
  {
   "cell_type": "markdown",
   "id": "4nnCenQDbE4D",
   "metadata": {
    "id": "4nnCenQDbE4D"
   },
   "source": [
    "The shape of `logits` is:\n",
    "\n",
    "  *number of texts* $~\\times~$ *number of tokens*  $~\\times~$  *vocabulary size*\n",
    "\n",
    "→ This is a collection of token probabilities!"
   ]
  },
  {
   "cell_type": "code",
   "execution_count": null,
   "id": "1f62ae06",
   "metadata": {
    "colab": {
     "base_uri": "https://localhost:8080/"
    },
    "id": "1f62ae06",
    "outputId": "b2baad96-db92-4ccf-a8b0-2287d62d091f"
   },
   "outputs": [],
   "source": [
    "# get top prediction for masked token:\n",
    "predicted_token_id = logits[0, -3].argmax(axis=-1)\n",
    "\n",
    "print(\"Predicted token:\", tokenizer.decode(predicted_token_id))\n"
   ]
  },
  {
   "cell_type": "markdown",
   "id": "bBsnBb3wcLw0",
   "metadata": {
    "id": "bBsnBb3wcLw0"
   },
   "source": [
    "Now let's make this a function:"
   ]
  },
  {
   "cell_type": "code",
   "execution_count": null,
   "id": "EzCVG2okcPwM",
   "metadata": {
    "id": "EzCVG2okcPwM"
   },
   "outputs": [],
   "source": [
    "from typing import Optional\n",
    "def complete_text(prompt:str, max_tokens:Optional[int]=None, model=model, tokenizer=tokenizer, device=device):\n",
    "  # use the whole context window if max_tokens not specified:\n",
    "  if max_tokens is None: max_tokens = tokenizer.model_max_length - len(tokenizer(prompt).input_ids)\n",
    "\n",
    "  # pad prompt with '[MASK]' tokens to tell BERT the number of tokens:\n",
    "  prompt += ' '.join(['[MASK]']*max_tokens)\n",
    "\n",
    "  # tokenize:\n",
    "  inputs = tokenizer(prompt, return_tensors=\"pt\").to(device)\n",
    "\n",
    "  # generate token probabilities:\n",
    "  with torch.no_grad():\n",
    "    logits = model(**inputs).logits\n",
    "\n",
    "  # get top prediction for first masked token:\n",
    "  predicted_token_id = logits[0, -max_tokens-1].argmax(axis=-1).cpu().tolist()\n",
    "\n",
    "  text = tokenizer.decode(inputs.input_ids[0, 1:-max_tokens-1].cpu().tolist() + [predicted_token_id])\n",
    "\n",
    "  # end autoregression if max_tokens == 1:\n",
    "  if max_tokens == 1: return text\n",
    "\n",
    "  # end autoregression on '.' token:\n",
    "  if predicted_token_id == tokenizer.vocab['.']: return text\n",
    "\n",
    "  # end autoregression on [SEP] token:\n",
    "  if predicted_token_id == tokenizer.sep_token_id: return text\n",
    "\n",
    "  return complete_text(text, max_tokens=max_tokens-1, model=model, tokenizer=tokenizer, device=device)"
   ]
  },
  {
   "cell_type": "markdown",
   "id": "2OZzHqHBpcB7",
   "metadata": {
    "id": "2OZzHqHBpcB7"
   },
   "source": [
    "Let's see if it works:"
   ]
  },
  {
   "cell_type": "code",
   "execution_count": null,
   "id": "LaJC3Qczczuf",
   "metadata": {
    "colab": {
     "base_uri": "https://localhost:8080/",
     "height": 35
    },
    "id": "LaJC3Qczczuf",
    "outputId": "9c8a369a-5710-45d3-b38c-e434a8bc1835"
   },
   "outputs": [],
   "source": [
    "complete_text(\"The capital of France is \", max_tokens=2)"
   ]
  },
  {
   "cell_type": "code",
   "execution_count": null,
   "id": "m_TzT4m0pPr4",
   "metadata": {
    "colab": {
     "base_uri": "https://localhost:8080/",
     "height": 53
    },
    "id": "m_TzT4m0pPr4",
    "outputId": "c3a94a17-88df-4a97-d37c-968e8335f2b8"
   },
   "outputs": [],
   "source": [
    "complete_text(\"The capital of France is \", max_tokens=100)"
   ]
  },
  {
   "cell_type": "markdown",
   "id": "ZyUe3phWpfGs",
   "metadata": {
    "id": "ZyUe3phWpfGs"
   },
   "source": [
    "Another example:"
   ]
  },
  {
   "cell_type": "code",
   "execution_count": null,
   "id": "wY6fM7aJlL3J",
   "metadata": {
    "colab": {
     "base_uri": "https://localhost:8080/",
     "height": 35
    },
    "id": "wY6fM7aJlL3J",
    "outputId": "9521eba2-8dc0-409b-bdc9-64a9ae2db765"
   },
   "outputs": [],
   "source": [
    "complete_text(\"one plus one is equal to \", max_tokens=2)"
   ]
  },
  {
   "cell_type": "code",
   "execution_count": null,
   "id": "XayEsbYEphwl",
   "metadata": {
    "colab": {
     "base_uri": "https://localhost:8080/",
     "height": 35
    },
    "id": "XayEsbYEphwl",
    "outputId": "34af181c-d6fe-4cd8-c65c-db3f46d7c3d8"
   },
   "outputs": [],
   "source": [
    "complete_text(\"one plus one is equal to \")"
   ]
  }
 ],
 "metadata": {
  "accelerator": "GPU",
  "colab": {
   "gpuType": "T4",
   "provenance": []
  },
  "kernelspec": {
   "display_name": "Python 3 (ipykernel)",
   "language": "python",
   "name": "python3"
  },
  "language_info": {
   "codemirror_mode": {
    "name": "ipython",
    "version": 3
   },
   "file_extension": ".py",
   "mimetype": "text/x-python",
   "name": "python",
   "nbconvert_exporter": "python",
   "pygments_lexer": "ipython3",
   "version": "3.12.3"
  },
  "widgets": {
   "application/vnd.jupyter.widget-state+json": {
    "0db7b904f45b417f8a525dff19acfbd3": {
     "model_module": "@jupyter-widgets/base",
     "model_module_version": "1.2.0",
     "model_name": "LayoutModel",
     "state": {
      "_model_module": "@jupyter-widgets/base",
      "_model_module_version": "1.2.0",
      "_model_name": "LayoutModel",
      "_view_count": null,
      "_view_module": "@jupyter-widgets/base",
      "_view_module_version": "1.2.0",
      "_view_name": "LayoutView",
      "align_content": null,
      "align_items": null,
      "align_self": null,
      "border": null,
      "bottom": null,
      "display": null,
      "flex": null,
      "flex_flow": null,
      "grid_area": null,
      "grid_auto_columns": null,
      "grid_auto_flow": null,
      "grid_auto_rows": null,
      "grid_column": null,
      "grid_gap": null,
      "grid_row": null,
      "grid_template_areas": null,
      "grid_template_columns": null,
      "grid_template_rows": null,
      "height": null,
      "justify_content": null,
      "justify_items": null,
      "left": null,
      "margin": null,
      "max_height": null,
      "max_width": null,
      "min_height": null,
      "min_width": null,
      "object_fit": null,
      "object_position": null,
      "order": null,
      "overflow": null,
      "overflow_x": null,
      "overflow_y": null,
      "padding": null,
      "right": null,
      "top": null,
      "visibility": null,
      "width": null
     }
    },
    "154a9a0430ab405f8adec5d32265b814": {
     "model_module": "@jupyter-widgets/controls",
     "model_module_version": "1.5.0",
     "model_name": "FloatProgressModel",
     "state": {
      "_dom_classes": [],
      "_model_module": "@jupyter-widgets/controls",
      "_model_module_version": "1.5.0",
      "_model_name": "FloatProgressModel",
      "_view_count": null,
      "_view_module": "@jupyter-widgets/controls",
      "_view_module_version": "1.5.0",
      "_view_name": "ProgressView",
      "bar_style": "success",
      "description": "",
      "description_tooltip": null,
      "layout": "IPY_MODEL_382ac1341bb048939662a8ce06ff6276",
      "max": 481,
      "min": 0,
      "orientation": "horizontal",
      "style": "IPY_MODEL_77e4324165a941e4ad2eaf7cb9aecd87",
      "value": 481
     }
    },
    "32e67249649d4c7ba282c62581c33a28": {
     "model_module": "@jupyter-widgets/controls",
     "model_module_version": "1.5.0",
     "model_name": "DescriptionStyleModel",
     "state": {
      "_model_module": "@jupyter-widgets/controls",
      "_model_module_version": "1.5.0",
      "_model_name": "DescriptionStyleModel",
      "_view_count": null,
      "_view_module": "@jupyter-widgets/base",
      "_view_module_version": "1.2.0",
      "_view_name": "StyleView",
      "description_width": ""
     }
    },
    "382ac1341bb048939662a8ce06ff6276": {
     "model_module": "@jupyter-widgets/base",
     "model_module_version": "1.2.0",
     "model_name": "LayoutModel",
     "state": {
      "_model_module": "@jupyter-widgets/base",
      "_model_module_version": "1.2.0",
      "_model_name": "LayoutModel",
      "_view_count": null,
      "_view_module": "@jupyter-widgets/base",
      "_view_module_version": "1.2.0",
      "_view_name": "LayoutView",
      "align_content": null,
      "align_items": null,
      "align_self": null,
      "border": null,
      "bottom": null,
      "display": null,
      "flex": null,
      "flex_flow": null,
      "grid_area": null,
      "grid_auto_columns": null,
      "grid_auto_flow": null,
      "grid_auto_rows": null,
      "grid_column": null,
      "grid_gap": null,
      "grid_row": null,
      "grid_template_areas": null,
      "grid_template_columns": null,
      "grid_template_rows": null,
      "height": null,
      "justify_content": null,
      "justify_items": null,
      "left": null,
      "margin": null,
      "max_height": null,
      "max_width": null,
      "min_height": null,
      "min_width": null,
      "object_fit": null,
      "object_position": null,
      "order": null,
      "overflow": null,
      "overflow_x": null,
      "overflow_y": null,
      "padding": null,
      "right": null,
      "top": null,
      "visibility": null,
      "width": null
     }
    },
    "4034dd48fbcb4e4796116b58b9a032ae": {
     "model_module": "@jupyter-widgets/base",
     "model_module_version": "1.2.0",
     "model_name": "LayoutModel",
     "state": {
      "_model_module": "@jupyter-widgets/base",
      "_model_module_version": "1.2.0",
      "_model_name": "LayoutModel",
      "_view_count": null,
      "_view_module": "@jupyter-widgets/base",
      "_view_module_version": "1.2.0",
      "_view_name": "LayoutView",
      "align_content": null,
      "align_items": null,
      "align_self": null,
      "border": null,
      "bottom": null,
      "display": null,
      "flex": null,
      "flex_flow": null,
      "grid_area": null,
      "grid_auto_columns": null,
      "grid_auto_flow": null,
      "grid_auto_rows": null,
      "grid_column": null,
      "grid_gap": null,
      "grid_row": null,
      "grid_template_areas": null,
      "grid_template_columns": null,
      "grid_template_rows": null,
      "height": null,
      "justify_content": null,
      "justify_items": null,
      "left": null,
      "margin": null,
      "max_height": null,
      "max_width": null,
      "min_height": null,
      "min_width": null,
      "object_fit": null,
      "object_position": null,
      "order": null,
      "overflow": null,
      "overflow_x": null,
      "overflow_y": null,
      "padding": null,
      "right": null,
      "top": null,
      "visibility": null,
      "width": null
     }
    },
    "52bb96c3f83c41a39ad05fef04229563": {
     "model_module": "@jupyter-widgets/base",
     "model_module_version": "1.2.0",
     "model_name": "LayoutModel",
     "state": {
      "_model_module": "@jupyter-widgets/base",
      "_model_module_version": "1.2.0",
      "_model_name": "LayoutModel",
      "_view_count": null,
      "_view_module": "@jupyter-widgets/base",
      "_view_module_version": "1.2.0",
      "_view_name": "LayoutView",
      "align_content": null,
      "align_items": null,
      "align_self": null,
      "border": null,
      "bottom": null,
      "display": null,
      "flex": null,
      "flex_flow": null,
      "grid_area": null,
      "grid_auto_columns": null,
      "grid_auto_flow": null,
      "grid_auto_rows": null,
      "grid_column": null,
      "grid_gap": null,
      "grid_row": null,
      "grid_template_areas": null,
      "grid_template_columns": null,
      "grid_template_rows": null,
      "height": null,
      "justify_content": null,
      "justify_items": null,
      "left": null,
      "margin": null,
      "max_height": null,
      "max_width": null,
      "min_height": null,
      "min_width": null,
      "object_fit": null,
      "object_position": null,
      "order": null,
      "overflow": null,
      "overflow_x": null,
      "overflow_y": null,
      "padding": null,
      "right": null,
      "top": null,
      "visibility": null,
      "width": null
     }
    },
    "5c45621fa0a94b2182ee736c8c314571": {
     "model_module": "@jupyter-widgets/controls",
     "model_module_version": "1.5.0",
     "model_name": "DescriptionStyleModel",
     "state": {
      "_model_module": "@jupyter-widgets/controls",
      "_model_module_version": "1.5.0",
      "_model_name": "DescriptionStyleModel",
      "_view_count": null,
      "_view_module": "@jupyter-widgets/base",
      "_view_module_version": "1.2.0",
      "_view_name": "StyleView",
      "description_width": ""
     }
    },
    "5c88ac894a134ddbb12a76fb76585b01": {
     "model_module": "@jupyter-widgets/controls",
     "model_module_version": "1.5.0",
     "model_name": "DescriptionStyleModel",
     "state": {
      "_model_module": "@jupyter-widgets/controls",
      "_model_module_version": "1.5.0",
      "_model_name": "DescriptionStyleModel",
      "_view_count": null,
      "_view_module": "@jupyter-widgets/base",
      "_view_module_version": "1.2.0",
      "_view_name": "StyleView",
      "description_width": ""
     }
    },
    "77e4324165a941e4ad2eaf7cb9aecd87": {
     "model_module": "@jupyter-widgets/controls",
     "model_module_version": "1.5.0",
     "model_name": "ProgressStyleModel",
     "state": {
      "_model_module": "@jupyter-widgets/controls",
      "_model_module_version": "1.5.0",
      "_model_name": "ProgressStyleModel",
      "_view_count": null,
      "_view_module": "@jupyter-widgets/base",
      "_view_module_version": "1.2.0",
      "_view_name": "StyleView",
      "bar_color": null,
      "description_width": ""
     }
    },
    "8a0198f41876445cb6b1b9d292636f43": {
     "model_module": "@jupyter-widgets/base",
     "model_module_version": "1.2.0",
     "model_name": "LayoutModel",
     "state": {
      "_model_module": "@jupyter-widgets/base",
      "_model_module_version": "1.2.0",
      "_model_name": "LayoutModel",
      "_view_count": null,
      "_view_module": "@jupyter-widgets/base",
      "_view_module_version": "1.2.0",
      "_view_name": "LayoutView",
      "align_content": null,
      "align_items": null,
      "align_self": null,
      "border": null,
      "bottom": null,
      "display": null,
      "flex": null,
      "flex_flow": null,
      "grid_area": null,
      "grid_auto_columns": null,
      "grid_auto_flow": null,
      "grid_auto_rows": null,
      "grid_column": null,
      "grid_gap": null,
      "grid_row": null,
      "grid_template_areas": null,
      "grid_template_columns": null,
      "grid_template_rows": null,
      "height": null,
      "justify_content": null,
      "justify_items": null,
      "left": null,
      "margin": null,
      "max_height": null,
      "max_width": null,
      "min_height": null,
      "min_width": null,
      "object_fit": null,
      "object_position": null,
      "order": null,
      "overflow": null,
      "overflow_x": null,
      "overflow_y": null,
      "padding": null,
      "right": null,
      "top": null,
      "visibility": null,
      "width": null
     }
    },
    "8e339f4f55d84286a47c6a2ad49ae0e9": {
     "model_module": "@jupyter-widgets/controls",
     "model_module_version": "1.5.0",
     "model_name": "HTMLModel",
     "state": {
      "_dom_classes": [],
      "_model_module": "@jupyter-widgets/controls",
      "_model_module_version": "1.5.0",
      "_model_name": "HTMLModel",
      "_view_count": null,
      "_view_module": "@jupyter-widgets/controls",
      "_view_module_version": "1.5.0",
      "_view_name": "HTMLView",
      "description": "",
      "description_tooltip": null,
      "layout": "IPY_MODEL_0db7b904f45b417f8a525dff19acfbd3",
      "placeholder": "​",
      "style": "IPY_MODEL_c4dd92ac9802407aa36ec64fe7f77983",
      "value": " 481/481 [00:00&lt;00:00, 42.7kB/s]"
     }
    },
    "9af75a58cc8843df9d2ce44995d5e1a4": {
     "model_module": "@jupyter-widgets/controls",
     "model_module_version": "1.5.0",
     "model_name": "FloatProgressModel",
     "state": {
      "_dom_classes": [],
      "_model_module": "@jupyter-widgets/controls",
      "_model_module_version": "1.5.0",
      "_model_name": "FloatProgressModel",
      "_view_count": null,
      "_view_module": "@jupyter-widgets/controls",
      "_view_module_version": "1.5.0",
      "_view_name": "ProgressView",
      "bar_style": "success",
      "description": "",
      "description_tooltip": null,
      "layout": "IPY_MODEL_fec7a3cb67e74d61b54454a2472d8272",
      "max": 498818054,
      "min": 0,
      "orientation": "horizontal",
      "style": "IPY_MODEL_d9b76c47c3f54286a6212a21327ffb1d",
      "value": 498818054
     }
    },
    "bcb26965c0d848f09bb1a81c7ab0d9c4": {
     "model_module": "@jupyter-widgets/controls",
     "model_module_version": "1.5.0",
     "model_name": "HTMLModel",
     "state": {
      "_dom_classes": [],
      "_model_module": "@jupyter-widgets/controls",
      "_model_module_version": "1.5.0",
      "_model_name": "HTMLModel",
      "_view_count": null,
      "_view_module": "@jupyter-widgets/controls",
      "_view_module_version": "1.5.0",
      "_view_name": "HTMLView",
      "description": "",
      "description_tooltip": null,
      "layout": "IPY_MODEL_dec10c94a578430ba2fe57c5f488b719",
      "placeholder": "​",
      "style": "IPY_MODEL_5c88ac894a134ddbb12a76fb76585b01",
      "value": "config.json: 100%"
     }
    },
    "c4dd92ac9802407aa36ec64fe7f77983": {
     "model_module": "@jupyter-widgets/controls",
     "model_module_version": "1.5.0",
     "model_name": "DescriptionStyleModel",
     "state": {
      "_model_module": "@jupyter-widgets/controls",
      "_model_module_version": "1.5.0",
      "_model_name": "DescriptionStyleModel",
      "_view_count": null,
      "_view_module": "@jupyter-widgets/base",
      "_view_module_version": "1.2.0",
      "_view_name": "StyleView",
      "description_width": ""
     }
    },
    "d9b76c47c3f54286a6212a21327ffb1d": {
     "model_module": "@jupyter-widgets/controls",
     "model_module_version": "1.5.0",
     "model_name": "ProgressStyleModel",
     "state": {
      "_model_module": "@jupyter-widgets/controls",
      "_model_module_version": "1.5.0",
      "_model_name": "ProgressStyleModel",
      "_view_count": null,
      "_view_module": "@jupyter-widgets/base",
      "_view_module_version": "1.2.0",
      "_view_name": "StyleView",
      "bar_color": null,
      "description_width": ""
     }
    },
    "de1e4103ccde489c894fae6b27617aa6": {
     "model_module": "@jupyter-widgets/controls",
     "model_module_version": "1.5.0",
     "model_name": "HTMLModel",
     "state": {
      "_dom_classes": [],
      "_model_module": "@jupyter-widgets/controls",
      "_model_module_version": "1.5.0",
      "_model_name": "HTMLModel",
      "_view_count": null,
      "_view_module": "@jupyter-widgets/controls",
      "_view_module_version": "1.5.0",
      "_view_name": "HTMLView",
      "description": "",
      "description_tooltip": null,
      "layout": "IPY_MODEL_e3dc2b3c7b7c4705b0f83534f9748e85",
      "placeholder": "​",
      "style": "IPY_MODEL_5c45621fa0a94b2182ee736c8c314571",
      "value": "model.safetensors: 100%"
     }
    },
    "dec10c94a578430ba2fe57c5f488b719": {
     "model_module": "@jupyter-widgets/base",
     "model_module_version": "1.2.0",
     "model_name": "LayoutModel",
     "state": {
      "_model_module": "@jupyter-widgets/base",
      "_model_module_version": "1.2.0",
      "_model_name": "LayoutModel",
      "_view_count": null,
      "_view_module": "@jupyter-widgets/base",
      "_view_module_version": "1.2.0",
      "_view_name": "LayoutView",
      "align_content": null,
      "align_items": null,
      "align_self": null,
      "border": null,
      "bottom": null,
      "display": null,
      "flex": null,
      "flex_flow": null,
      "grid_area": null,
      "grid_auto_columns": null,
      "grid_auto_flow": null,
      "grid_auto_rows": null,
      "grid_column": null,
      "grid_gap": null,
      "grid_row": null,
      "grid_template_areas": null,
      "grid_template_columns": null,
      "grid_template_rows": null,
      "height": null,
      "justify_content": null,
      "justify_items": null,
      "left": null,
      "margin": null,
      "max_height": null,
      "max_width": null,
      "min_height": null,
      "min_width": null,
      "object_fit": null,
      "object_position": null,
      "order": null,
      "overflow": null,
      "overflow_x": null,
      "overflow_y": null,
      "padding": null,
      "right": null,
      "top": null,
      "visibility": null,
      "width": null
     }
    },
    "e3dc2b3c7b7c4705b0f83534f9748e85": {
     "model_module": "@jupyter-widgets/base",
     "model_module_version": "1.2.0",
     "model_name": "LayoutModel",
     "state": {
      "_model_module": "@jupyter-widgets/base",
      "_model_module_version": "1.2.0",
      "_model_name": "LayoutModel",
      "_view_count": null,
      "_view_module": "@jupyter-widgets/base",
      "_view_module_version": "1.2.0",
      "_view_name": "LayoutView",
      "align_content": null,
      "align_items": null,
      "align_self": null,
      "border": null,
      "bottom": null,
      "display": null,
      "flex": null,
      "flex_flow": null,
      "grid_area": null,
      "grid_auto_columns": null,
      "grid_auto_flow": null,
      "grid_auto_rows": null,
      "grid_column": null,
      "grid_gap": null,
      "grid_row": null,
      "grid_template_areas": null,
      "grid_template_columns": null,
      "grid_template_rows": null,
      "height": null,
      "justify_content": null,
      "justify_items": null,
      "left": null,
      "margin": null,
      "max_height": null,
      "max_width": null,
      "min_height": null,
      "min_width": null,
      "object_fit": null,
      "object_position": null,
      "order": null,
      "overflow": null,
      "overflow_x": null,
      "overflow_y": null,
      "padding": null,
      "right": null,
      "top": null,
      "visibility": null,
      "width": null
     }
    },
    "f245631dcf5e47a492eb1cd6fcac5e4d": {
     "model_module": "@jupyter-widgets/controls",
     "model_module_version": "1.5.0",
     "model_name": "HTMLModel",
     "state": {
      "_dom_classes": [],
      "_model_module": "@jupyter-widgets/controls",
      "_model_module_version": "1.5.0",
      "_model_name": "HTMLModel",
      "_view_count": null,
      "_view_module": "@jupyter-widgets/controls",
      "_view_module_version": "1.5.0",
      "_view_name": "HTMLView",
      "description": "",
      "description_tooltip": null,
      "layout": "IPY_MODEL_52bb96c3f83c41a39ad05fef04229563",
      "placeholder": "​",
      "style": "IPY_MODEL_32e67249649d4c7ba282c62581c33a28",
      "value": " 499M/499M [00:03&lt;00:00, 121MB/s]"
     }
    },
    "f7ecf2f806d24b05b6b4b75c053f17fa": {
     "model_module": "@jupyter-widgets/controls",
     "model_module_version": "1.5.0",
     "model_name": "HBoxModel",
     "state": {
      "_dom_classes": [],
      "_model_module": "@jupyter-widgets/controls",
      "_model_module_version": "1.5.0",
      "_model_name": "HBoxModel",
      "_view_count": null,
      "_view_module": "@jupyter-widgets/controls",
      "_view_module_version": "1.5.0",
      "_view_name": "HBoxView",
      "box_style": "",
      "children": [
       "IPY_MODEL_de1e4103ccde489c894fae6b27617aa6",
       "IPY_MODEL_9af75a58cc8843df9d2ce44995d5e1a4",
       "IPY_MODEL_f245631dcf5e47a492eb1cd6fcac5e4d"
      ],
      "layout": "IPY_MODEL_4034dd48fbcb4e4796116b58b9a032ae"
     }
    },
    "fc1af3ed59454a368f581f0500e5e44e": {
     "model_module": "@jupyter-widgets/controls",
     "model_module_version": "1.5.0",
     "model_name": "HBoxModel",
     "state": {
      "_dom_classes": [],
      "_model_module": "@jupyter-widgets/controls",
      "_model_module_version": "1.5.0",
      "_model_name": "HBoxModel",
      "_view_count": null,
      "_view_module": "@jupyter-widgets/controls",
      "_view_module_version": "1.5.0",
      "_view_name": "HBoxView",
      "box_style": "",
      "children": [
       "IPY_MODEL_bcb26965c0d848f09bb1a81c7ab0d9c4",
       "IPY_MODEL_154a9a0430ab405f8adec5d32265b814",
       "IPY_MODEL_8e339f4f55d84286a47c6a2ad49ae0e9"
      ],
      "layout": "IPY_MODEL_8a0198f41876445cb6b1b9d292636f43"
     }
    },
    "fec7a3cb67e74d61b54454a2472d8272": {
     "model_module": "@jupyter-widgets/base",
     "model_module_version": "1.2.0",
     "model_name": "LayoutModel",
     "state": {
      "_model_module": "@jupyter-widgets/base",
      "_model_module_version": "1.2.0",
      "_model_name": "LayoutModel",
      "_view_count": null,
      "_view_module": "@jupyter-widgets/base",
      "_view_module_version": "1.2.0",
      "_view_name": "LayoutView",
      "align_content": null,
      "align_items": null,
      "align_self": null,
      "border": null,
      "bottom": null,
      "display": null,
      "flex": null,
      "flex_flow": null,
      "grid_area": null,
      "grid_auto_columns": null,
      "grid_auto_flow": null,
      "grid_auto_rows": null,
      "grid_column": null,
      "grid_gap": null,
      "grid_row": null,
      "grid_template_areas": null,
      "grid_template_columns": null,
      "grid_template_rows": null,
      "height": null,
      "justify_content": null,
      "justify_items": null,
      "left": null,
      "margin": null,
      "max_height": null,
      "max_width": null,
      "min_height": null,
      "min_width": null,
      "object_fit": null,
      "object_position": null,
      "order": null,
      "overflow": null,
      "overflow_x": null,
      "overflow_y": null,
      "padding": null,
      "right": null,
      "top": null,
      "visibility": null,
      "width": null
     }
    }
   }
  }
 },
 "nbformat": 4,
 "nbformat_minor": 5
}
