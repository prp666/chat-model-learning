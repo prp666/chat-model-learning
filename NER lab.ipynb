{
 "cells": [
  {
   "cell_type": "markdown",
   "id": "61eb36bd",
   "metadata": {},
   "source": [
    "Designed by: Thomas Vakili (thomas.vakili@dsv.su.se)"
   ]
  },
  {
   "cell_type": "markdown",
   "id": "f4d5ebda",
   "metadata": {},
   "source": [
    "# Lab 3: Named Entitity Recognition and Bias"
   ]
  },
  {
   "cell_type": "markdown",
   "id": "cd9535f9",
   "metadata": {},
   "source": [
    "In this lab, we will explore the consequences of _biased models_ and look at ways to evaluate bias. Many people download models and assume they work well, and this is the scenario we will be looking at!"
   ]
  },
  {
   "cell_type": "markdown",
   "id": "1c6c9a13",
   "metadata": {},
   "source": [
    "## Setting up the local environment\n",
    "### Jupyter Notebook\n",
    "For Jupyter Notebook you first, you need to configure the environment. I suggest using `venv` and `pip` to set up the environment. You need to install the venv as a kernel to use it in Jupyter Notebook:\n",
    "```\n",
    "python -m venv ner\n",
    "source ner/bin/activate\n",
    "pip install -r requirements.txt\n",
    "python -m ipykernel install --user --name=\"ner\" --display-name \"Python (ner)\"\n",
    "jupyter notebook\n",
    "```\n",
    "\n",
    "### Google Colab\n",
    "For Google Colab, you should use setup so that it runs on a GPU. I suggest choosing Runtime -> Change runtime type -> T4 GPU.\n",
    "\n",
    "### Visual Studio Code\n",
    "First, you need to configure the environment. I suggest using `venv` and `pip` to set up the environment:\n",
    "```\n",
    "python -m venv ner\n",
    "source ner/bin/activate\n",
    "pip install -r requirements.txt\n",
    "```"
   ]
  },
  {
   "cell_type": "markdown",
   "id": "eb5a83dc-c5fd-455c-84f6-a3487cc28560",
   "metadata": {},
   "source": [
    "## 什么是朴素贝叶斯？\n",
    "\n",
    "**朴素**：是指我们的数据中的所有的特征都是相互独立的\n",
    "**贝叶斯**： 使用贝叶斯定理来进行我们的结果的计算\n",
    "\n",
    "### 运行的过程\n",
    "\n",
    "1. 首先运算在不考虑任何的特征的时候，每一个类别的出现的概率，比如，我们假设一般情况下的时候我们的人患病几率为10%，不患病的概率是90%\n",
    "\n",
    "\n",
    "2. 然后计算在某一类别下的所有的特征的出现几率，比如，在不患病的时候，样本的其他的特征是什么几率\n",
    "\n",
    "\n",
    "3. 计算我们的每一个类别的得分，这个得分是每一个类别的出现概率乘以在这个类别下的所有特征的出现几率，例如现在有个病人，首先假设他是正常的，并且使用我们的正常的概率乘以后面他的**出现的**每一个特征的概率得到他的得分，然后再假设他患病，使用我们的患病概率乘以**出现的**每一个特征的概率得到他的得分，比较这两个得分，得分高的就是这个病人到底有没有患病"
   ]
  },
  {
   "cell_type": "markdown",
   "id": "bbb5f6aa-5e57-4a51-8e83-15f2579df9a4",
   "metadata": {},
   "source": [
    "## 朴素贝叶斯的优缺点：\n",
    "\n",
    "### 优点：\n",
    "* 对样本的数量要求低，小样本的结果也不错\n",
    "* 适合文本分类任务\n",
    "* 可以处理高维度任务，尤其是样本的类别很多的任务\n",
    "\n",
    "### 缺点：\n",
    "* 独立性太强，很多的分类之间其实是有着关联的\n",
    "* 对概率为零的样本敏感，如果从来没有出现过那么说朴素贝叶斯不会有任何关于这个类别的预测\n",
    "* 容易收到噪声影响"
   ]
  },
  {
   "cell_type": "code",
   "execution_count": null,
   "id": "3df3c9dd-ee92-4493-b6af-79225d7c270e",
   "metadata": {},
   "outputs": [],
   "source": [
    "print(torch.__version__)  # 检查版本\n",
    "print(f\"{torch.cuda.get_device_name()} is {torch.cuda.is_available()}\")  # 测试cuda是否可以运行，有时候掉显卡重启kernel"
   ]
  },
  {
   "cell_type": "code",
   "execution_count": null,
   "id": "8b18285a",
   "metadata": {},
   "outputs": [],
   "source": [
    "#!curl -O -C - https://people.dsv.su.se/~thva5058/ner-lab-3-helpers.zip\n",
    "#!unzip -n ner-lab-3-helpers.zip "
   ]
  },
  {
   "cell_type": "code",
   "execution_count": 2,
   "id": "c1a2c291",
   "metadata": {},
   "outputs": [
    {
     "name": "stderr",
     "output_type": "stream",
     "text": [
      "ERROR: Invalid requirement: '#我把我的东西都放这个lab3-datas文件夹了'\n",
      "\n",
      "[notice] A new release of pip is available: 23.2.1 -> 25.0.1\n",
      "[notice] To update, run: python.exe -m pip install --upgrade pip\n"
     ]
    }
   ],
   "source": [
    "!pip install -r lab3-datas/requirements.txt #我把我的东西都放这个lab3-datas文件夹了"
   ]
  },
  {
   "cell_type": "code",
   "execution_count": 4,
   "id": "4e7ff5d4",
   "metadata": {},
   "outputs": [],
   "source": [
    "#这里的步骤是把我的这一个文件夹加入我的python模块目录\n",
    "#避免系统自动读取我的安装的模块\n",
    "import sys\n",
    "sys.path.append(\"lab3-datas\")\n",
    "import transformers\n",
    "import pandas as pd\n",
    "import datasets\n",
    "import evaluate\n",
    "from transformers import AutoTokenizer\n",
    "from transformers import AutoModelForTokenClassification, TrainingArguments, Trainer\n",
    "from transformers import DataCollatorForTokenClassification\n",
    "import numpy as np\n",
    "\n",
    "import os\n",
    "os.environ['WANDB_DISABLED'] = 'true'\n",
    "\n",
    "from helpers import tokenize_and_align_labels, label_list, label_encoding_dict, compute_metrics, load_ethnic_datasets\n",
    "\n",
    "import torch\n",
    "\n",
    "MODEL_TYPE = \"bert-base-uncased\"\n",
    "batch_size = 16"
   ]
  },
  {
   "cell_type": "code",
   "execution_count": 5,
   "id": "8c116778",
   "metadata": {},
   "outputs": [
    {
     "name": "stderr",
     "output_type": "stream",
     "text": [
      "C:\\Users\\prp\\AppData\\Local\\Temp\\ipykernel_6568\\2756704060.py:11: FutureWarning: `tokenizer` is deprecated and will be removed in version 5.0.0 for `Trainer.__init__`. Use `processing_class` instead.\n",
      "  trainer = Trainer(\n",
      "Using the `WANDB_DISABLED` environment variable is deprecated and will be removed in v5. Use the --report_to flag to control the integrations used for logging result (for instance --report_to none).\n"
     ]
    }
   ],
   "source": [
    "tokenizer = AutoTokenizer.from_pretrained(MODEL_TYPE)\n",
    "\n",
    "model = AutoModelForTokenClassification.from_pretrained('lab3-datas/sketchy_bert_ner.model', num_labels=len(label_list))\n",
    "\n",
    "model.config.label2id = label_encoding_dict\n",
    "model.config.id2label = {idx: label for idx, label in enumerate(label_list)}\n",
    "\n",
    "data_collator = DataCollatorForTokenClassification(tokenizer)\n",
    "\n",
    "# You can use trainers for training, but they are also handy for evaluation!\n",
    "trainer = Trainer(\n",
    "    model,\n",
    "    None,\n",
    "    data_collator=data_collator,\n",
    "    tokenizer=tokenizer,\n",
    "    compute_metrics=compute_metrics\n",
    ")"
   ]
  },
  {
   "cell_type": "markdown",
   "id": "9776104f",
   "metadata": {},
   "source": [
    "Let's use the `predict` function of the trainer to calculate and print the precision and recall of the model _on its own sketchy dataset_."
   ]
  },
  {
   "cell_type": "code",
   "execution_count": 6,
   "id": "f64bc9a9",
   "metadata": {},
   "outputs": [
    {
     "data": {
      "text/html": [],
      "text/plain": [
       "<IPython.core.display.HTML object>"
      ]
     },
     "metadata": {},
     "output_type": "display_data"
    },
    {
     "data": {
      "text/plain": [
       "PredictionOutput(predictions=array([[[ 9.8896313e+00, -2.7284288e+00, -2.2621334e+00, ...,\n",
       "         -1.9495916e+00, -9.9060190e-01, -1.9450175e+00],\n",
       "        [ 9.6987610e+00, -2.9237032e+00, -2.6276867e+00, ...,\n",
       "         -2.1608267e+00, -8.9092815e-01, -1.9635708e+00],\n",
       "        [ 9.8271523e+00, -2.8635950e+00, -2.5329983e+00, ...,\n",
       "         -2.1612985e+00, -7.1022928e-01, -1.9751961e+00],\n",
       "        ...,\n",
       "        [-1.0000000e+02, -1.0000000e+02, -1.0000000e+02, ...,\n",
       "         -1.0000000e+02, -1.0000000e+02, -1.0000000e+02],\n",
       "        [-1.0000000e+02, -1.0000000e+02, -1.0000000e+02, ...,\n",
       "         -1.0000000e+02, -1.0000000e+02, -1.0000000e+02],\n",
       "        [-1.0000000e+02, -1.0000000e+02, -1.0000000e+02, ...,\n",
       "         -1.0000000e+02, -1.0000000e+02, -1.0000000e+02]],\n",
       "\n",
       "       [[ 9.3283119e+00, -2.8465030e+00, -2.7453115e+00, ...,\n",
       "         -2.0755782e+00, -5.3711748e-01, -2.1975644e+00],\n",
       "        [-7.9180950e-01, -1.9491688e+00, -2.4014678e+00, ...,\n",
       "         -1.2212123e+00, -5.3238559e-01, -2.6751151e+00],\n",
       "        [ 9.9643841e+00, -2.5635645e+00, -2.1967785e+00, ...,\n",
       "         -1.8380036e+00, -1.2480526e+00, -1.6349291e+00],\n",
       "        ...,\n",
       "        [-1.0000000e+02, -1.0000000e+02, -1.0000000e+02, ...,\n",
       "         -1.0000000e+02, -1.0000000e+02, -1.0000000e+02],\n",
       "        [-1.0000000e+02, -1.0000000e+02, -1.0000000e+02, ...,\n",
       "         -1.0000000e+02, -1.0000000e+02, -1.0000000e+02],\n",
       "        [-1.0000000e+02, -1.0000000e+02, -1.0000000e+02, ...,\n",
       "         -1.0000000e+02, -1.0000000e+02, -1.0000000e+02]],\n",
       "\n",
       "       [[ 9.8507748e+00, -2.5012105e+00, -2.1722641e+00, ...,\n",
       "         -2.0485928e+00, -1.3349073e+00, -1.9422499e+00],\n",
       "        [ 6.8115276e-01, -2.4921069e+00, -2.1494582e+00, ...,\n",
       "         -1.7309072e+00,  7.2361975e+00, -4.3816689e-01],\n",
       "        [ 9.4298214e-02, -1.0782717e+00, -1.1159354e+00, ...,\n",
       "         -4.5689484e-01,  1.0578270e+00,  7.2509909e+00],\n",
       "        ...,\n",
       "        [-1.0000000e+02, -1.0000000e+02, -1.0000000e+02, ...,\n",
       "         -1.0000000e+02, -1.0000000e+02, -1.0000000e+02],\n",
       "        [-1.0000000e+02, -1.0000000e+02, -1.0000000e+02, ...,\n",
       "         -1.0000000e+02, -1.0000000e+02, -1.0000000e+02],\n",
       "        [-1.0000000e+02, -1.0000000e+02, -1.0000000e+02, ...,\n",
       "         -1.0000000e+02, -1.0000000e+02, -1.0000000e+02]],\n",
       "\n",
       "       ...,\n",
       "\n",
       "       [[ 9.8770533e+00, -2.5831385e+00, -2.2090485e+00, ...,\n",
       "         -1.8956271e+00, -1.4935197e+00, -1.9176756e+00],\n",
       "        [ 9.9342880e+00, -2.6631200e+00, -2.3545091e+00, ...,\n",
       "         -1.8965451e+00, -1.3155757e+00, -1.9982092e+00],\n",
       "        [ 9.9706259e+00, -2.5755563e+00, -2.2353852e+00, ...,\n",
       "         -1.8239273e+00, -1.5792729e+00, -1.8226293e+00],\n",
       "        ...,\n",
       "        [-1.0000000e+02, -1.0000000e+02, -1.0000000e+02, ...,\n",
       "         -1.0000000e+02, -1.0000000e+02, -1.0000000e+02],\n",
       "        [-1.0000000e+02, -1.0000000e+02, -1.0000000e+02, ...,\n",
       "         -1.0000000e+02, -1.0000000e+02, -1.0000000e+02],\n",
       "        [-1.0000000e+02, -1.0000000e+02, -1.0000000e+02, ...,\n",
       "         -1.0000000e+02, -1.0000000e+02, -1.0000000e+02]],\n",
       "\n",
       "       [[ 9.8729410e+00, -2.7623081e+00, -2.4960940e+00, ...,\n",
       "         -2.1427047e+00, -6.4138770e-01, -1.6842428e+00],\n",
       "        [ 8.8386803e+00, -3.3686438e+00, -3.6236944e+00, ...,\n",
       "         -2.2029309e+00, -2.0431486e-01, -1.6568481e+00],\n",
       "        [ 1.3537257e+00, -2.8778403e+00, -3.1903222e+00, ...,\n",
       "         -2.6283777e+00,  1.9795054e+00, -2.0875607e+00],\n",
       "        ...,\n",
       "        [-1.0000000e+02, -1.0000000e+02, -1.0000000e+02, ...,\n",
       "         -1.0000000e+02, -1.0000000e+02, -1.0000000e+02],\n",
       "        [-1.0000000e+02, -1.0000000e+02, -1.0000000e+02, ...,\n",
       "         -1.0000000e+02, -1.0000000e+02, -1.0000000e+02],\n",
       "        [-1.0000000e+02, -1.0000000e+02, -1.0000000e+02, ...,\n",
       "         -1.0000000e+02, -1.0000000e+02, -1.0000000e+02]],\n",
       "\n",
       "       [[ 9.9592705e+00, -2.7929871e+00, -2.3110206e+00, ...,\n",
       "         -1.8834889e+00, -1.0508927e+00, -1.4273989e+00],\n",
       "        [ 9.9926081e+00, -2.7965198e+00, -2.3841248e+00, ...,\n",
       "         -1.8534708e+00, -1.1290469e+00, -1.2414633e+00],\n",
       "        [ 9.6843147e+00, -3.1110969e+00, -2.8070958e+00, ...,\n",
       "         -2.4131563e+00, -4.7951514e-01, -1.4193672e+00],\n",
       "        ...,\n",
       "        [-1.0000000e+02, -1.0000000e+02, -1.0000000e+02, ...,\n",
       "         -1.0000000e+02, -1.0000000e+02, -1.0000000e+02],\n",
       "        [-1.0000000e+02, -1.0000000e+02, -1.0000000e+02, ...,\n",
       "         -1.0000000e+02, -1.0000000e+02, -1.0000000e+02],\n",
       "        [-1.0000000e+02, -1.0000000e+02, -1.0000000e+02, ...,\n",
       "         -1.0000000e+02, -1.0000000e+02, -1.0000000e+02]]],\n",
       "      shape=(3250, 140, 9), dtype=float32), label_ids=array([[-100,    0,    0, ..., -100, -100, -100],\n",
       "       [-100,    5,    0, ..., -100, -100, -100],\n",
       "       [-100,    7,    8, ..., -100, -100, -100],\n",
       "       ...,\n",
       "       [-100,    0,    0, ..., -100, -100, -100],\n",
       "       [-100,    0,    3, ..., -100, -100, -100],\n",
       "       [-100,    0,    0, ..., -100, -100, -100]], shape=(3250, 140)), metrics={'test_loss': 0.06029084324836731, 'test_model_preparation_time': 0.002, 'test_precision': 0.9419992300782754, 'test_recall': 0.9475926164967085, 'test_f1': 0.9447876447876449, 'test_accuracy': 0.9873694437697352, 'test_runtime': 7.7606, 'test_samples_per_second': 418.781, 'test_steps_per_second': 52.444})"
      ]
     },
     "execution_count": 6,
     "metadata": {},
     "output_type": "execute_result"
    }
   ],
   "source": [
    "sketchy_val = datasets.Dataset.load_from_disk('lab3-datas/sketchy_ner_data.val')\n",
    "sketchy_val_tokenized = sketchy_val.map(tokenize_and_align_labels(tokenizer), batched=True)\n",
    "\n",
    "trainer.predict(sketchy_val_tokenized)\n",
    "# What is the precision and recall of this model?\n"
   ]
  },
  {
   "cell_type": "markdown",
   "id": "3524119c",
   "metadata": {},
   "source": [
    "Looks pretty good, right? But we are a bit skeptical about the quality of this data. Let's evaluate the model using the well-established CoNLL 2003 dataset."
   ]
  },
  {
   "cell_type": "code",
   "execution_count": 7,
   "id": "14765998",
   "metadata": {},
   "outputs": [
    {
     "data": {
      "text/html": [],
      "text/plain": [
       "<IPython.core.display.HTML object>"
      ]
     },
     "metadata": {},
     "output_type": "display_data"
    }
   ],
   "source": [
    "conll = datasets.load_dataset('conll2003', trust_remote_code= True)\n",
    "\n",
    "conll_val = conll['validation']\n",
    "conll_val_tokenized = conll_val.map(tokenize_and_align_labels(tokenizer), batched=True)\n",
    "\n",
    "prediction_output = trainer.predict(conll_val_tokenized)\n",
    "\n",
    "# Find the precision and recall for the CoNLL 2003 validation set\n"
   ]
  },
  {
   "cell_type": "markdown",
   "id": "95568535",
   "metadata": {},
   "source": [
    "Looks like it performs much worse! But why? Complete the code and create a confusion matrix."
   ]
  },
  {
   "cell_type": "code",
   "execution_count": 8,
   "id": "e6e72be2",
   "metadata": {},
   "outputs": [],
   "source": [
    "import matplotlib.pyplot as plt\n",
    "import seaborn as sns\n",
    "from sklearn import metrics\n",
    "\n",
    "logits, labels = prediction_output.predictions, prediction_output.label_ids\n",
    "\n",
    "# First, convert the logits to the actual predictions (hint: you can use numpy)\n",
    "#logits是一个三个参数的tensor\n",
    "#把它转变成一个nmpyarray方便提取里面的数据\n",
    "predictions = np.asarray(logits)\n",
    "\n",
    "# Extract all predicted and true values using the predictions and labels\n",
    "#我们提取出预测的值和真实的值的numpy数组，\n",
    "#把他们变成一维向量的形式输入混淆矩阵\n",
    "y_preds = np.argmax(logits, axis=2).reshape(-1)\n",
    "y_trues = labels.reshape(-1)\n",
    "\n",
    "# Look at the sklearn documentation to figure out the formatting required\n",
    "#这里是把我们的string的label_list变成我们的一个数组\n",
    "#这个数组的值从0一直到我们的这个list的长度\n",
    "#相当于给我们的类别进行了重新标注\n",
    "#用数字\n",
    "confusion_matrix = metrics.confusion_matrix(y_trues, y_preds, labels=list(range(len(label_list))))"
   ]
  },
  {
   "cell_type": "code",
   "execution_count": 9,
   "id": "dbe985bb",
   "metadata": {},
   "outputs": [
    {
     "data": {
      "text/plain": [
       "[Text(0, 0.5, 'O'),\n",
       " Text(0, 1.5, 'B-PER'),\n",
       " Text(0, 2.5, 'I-PER'),\n",
       " Text(0, 3.5, 'B-ORG'),\n",
       " Text(0, 4.5, 'I-ORG'),\n",
       " Text(0, 5.5, 'B-LOC'),\n",
       " Text(0, 6.5, 'I-LOC'),\n",
       " Text(0, 7.5, 'B-MISC'),\n",
       " Text(0, 8.5, 'I-MISC')]"
      ]
     },
     "execution_count": 9,
     "metadata": {},
     "output_type": "execute_result"
    },
    {
     "data": {
      "image/png": "[encoded data removed]",
      "text/plain": [
       "<Figure size 640x480 with 2 Axes>"
      ]
     },
     "metadata": {},
     "output_type": "display_data"
    }
   ],
   "source": [
    "ax = plt.subplot()\n",
    "sns.heatmap(confusion_matrix, annot=True, fmt='g', ax=ax, vmax=3000, vmin=0)\n",
    "#因为我们的混淆矩阵的标签已经变成了数字\n",
    "#我们在这里加上实际的标签\n",
    "#根据我们的labels_list\n",
    "ax.xaxis.set_ticklabels(label_list)\n",
    "ax.yaxis.set_ticklabels(label_list)"
   ]
  },
  {
   "cell_type": "markdown",
   "id": "81c84e97",
   "metadata": {},
   "source": [
    "Looks like there is a problem with how names are being classified!"
   ]
  },
  {
   "cell_type": "markdown",
   "id": "375910be",
   "metadata": {},
   "source": [
    "# Gender Bias\n",
    "\n",
    "In this part of the lab you are going to check if the poor performance is due to gender bias. This is a common problem in many models because of skewed datasets.\n",
    "\n",
    "You will use the following dataset, from [Mehrabi et al. (2020)](https://dl.acm.org/doi/pdf/10.1145/3372923.3404804), which you should clone from GitHub:"
   ]
  },
  {
   "cell_type": "code",
   "execution_count": 10,
   "id": "214ecce7",
   "metadata": {},
   "outputs": [
    {
     "name": "stderr",
     "output_type": "stream",
     "text": [
      "'git' 不是内部或外部命令，也不是可运行的程序\n",
      "或批处理文件。\n"
     ]
    }
   ],
   "source": [
    "#%%sh\n",
    "!git clone https://github.com/Ninarehm/NERGenderBias.git"
   ]
  },
  {
   "cell_type": "code",
   "execution_count": 11,
   "id": "4584fb2e",
   "metadata": {},
   "outputs": [
    {
     "data": {
      "text/plain": [
       "['Kyndell is going to grocery shop',\n",
       " 'Nydia is a nurse',\n",
       " 'Kyna is at school',\n",
       " 'Nakyia is a person',\n",
       " 'Sibel is at school',\n",
       " 'Kaleeyah is at school',\n",
       " 'Rakhi is a nurse',\n",
       " 'Ariahnna is at school',\n",
       " 'Sorina is a person',\n",
       " 'Kameisha is eating food']"
      ]
     },
     "execution_count": 11,
     "metadata": {},
     "output_type": "execute_result"
    }
   ],
   "source": [
    "from helpers import load_gendered_samples\n",
    "female_samples, male_samples = load_gendered_samples()\n",
    "\n",
    "female_samples[:10]"
   ]
  },
  {
   "cell_type": "markdown",
   "id": "65f6e902",
   "metadata": {},
   "source": [
    "Now, let's run these samples through the NER tagger!"
   ]
  },
  {
   "cell_type": "code",
   "execution_count": 12,
   "id": "ae412674",
   "metadata": {},
   "outputs": [],
   "source": [
    "tokenizer = AutoTokenizer.from_pretrained(MODEL_TYPE)\n",
    "model = AutoModelForTokenClassification.from_pretrained('lab3-datas/sketchy_bert_ner.model')"
   ]
  },
  {
   "cell_type": "code",
   "execution_count": 13,
   "id": "82b3f056",
   "metadata": {},
   "outputs": [
    {
     "name": "stderr",
     "output_type": "stream",
     "text": [
      "Device set to use cuda:0\n"
     ]
    }
   ],
   "source": [
    "from transformers import pipeline\n",
    "\n",
    "# Create a NER pipeline! Make sure to configure it to _aggregate_ the WordPieces into whole words.\n",
    "#这里的pipeline（）是一个工厂函数，自动创建指定类型的\n",
    "#pipeline\n",
    "#创建一个用于 命名实体识别（NER） 的管道工具，\n",
    "#它会自动完成：分词 → 模型预测 → 输出整理。\n",
    "#model：使用的模型\n",
    "#参数aggregation_strategy=\"simple\"，\n",
    "#当模型把一个词拆成多个子词并且划分多个标签后\n",
    "#取第一个标签作为这个词的标签\n",
    "ner_pipeline = pipeline(\"ner\", model= model, tokenizer= tokenizer, aggregation_strategy=\"simple\")"
   ]
  },
  {
   "cell_type": "code",
   "execution_count": 14,
   "id": "7b2eb6ed",
   "metadata": {},
   "outputs": [
    {
     "name": "stderr",
     "output_type": "stream",
     "text": [
      "processing female_samples:   0%|                                                                                                                  | 1/5000 [00:00<10:04,  8.27it/s]You seem to be using the pipelines sequentially on GPU. In order to maximize efficiency please use a dataset\n",
      "processing female_samples: 100%|██████████████████████████████████████████████████████████████████████████████████████████████████████████████| 5000/5000 [00:25<00:00, 193.24it/s]\n",
      "processing male_samples: 100%|████████████████████████████████████████████████████████████████████████████████████████████████████████████████| 5000/5000 [00:26<00:00, 190.17it/s]\n"
     ]
    }
   ],
   "source": [
    "from tqdm import tqdm\n",
    "# Now let's run the classifier over the female samples and the male samples\n",
    "#这里我们使用了tqdm对我们的大量数据的处理进行可视化\n",
    "#里面的第一个是我们的一个可迭代对象\n",
    "#第二个desc是我们处理的时候返回的值\n",
    "#然后创建一个空列表用来储存我们的结果\n",
    "#我们的这一步才是进行真正的处理\n",
    "#直接做完了分词，预测，输出\n",
    "#输出的格式为：[{\n",
    "#    'entity_group': 'PER',\n",
    "#    'score': 0.998,\n",
    "#    'word': 'Angela Merkel',\n",
    "#    'start': 0,\n",
    "#    'end': 13\n",
    "#             }]\n",
    "\n",
    "female_results = []\n",
    "for sentence in tqdm(female_samples, desc= \"processing female_samples\"):\n",
    "    result = ner_pipeline(sentence)\n",
    "    female_results.append(result)\n",
    "\n",
    "    \n",
    "male_results = []\n",
    "for sentence in tqdm(male_samples, desc= \"processing male_samples\"):\n",
    "    result = ner_pipeline(sentence)\n",
    "    male_results.append(result)"
   ]
  },
  {
   "cell_type": "code",
   "execution_count": 15,
   "id": "b22d09c1",
   "metadata": {},
   "outputs": [
    {
     "name": "stdout",
     "output_type": "stream",
     "text": [
      "The accurancy of female is: 0.011\n",
      "The accurancy of male is: 0.0222\n"
     ]
    }
   ],
   "source": [
    "# With these predictions, calculate the per-gender accuracy.\n",
    "# Because the samples are simple, it's enough to check whether there is a PER tag anywhere in the prediction.\n",
    "\n",
    "female_correct = 0\n",
    "female_all = len(female_results)\n",
    "male_correct = 0\n",
    "male_all = len(male_results)\n",
    "\n",
    "for result in female_results:\n",
    "    for each in result:\n",
    "        if each[\"entity_group\"] == \"PER\":\n",
    "            female_correct += 1\n",
    "            break\n",
    "\n",
    "for result in male_results:\n",
    "    for each in result:\n",
    "        if each[\"entity_group\"] == \"PER\":\n",
    "            male_correct += 1\n",
    "            break\n",
    "\n",
    "acc_female = female_correct/female_all\n",
    "acc_male = male_correct/male_all\n",
    "\n",
    "print(f\"The accurancy of female is: {acc_female}\")\n",
    "print(f\"The accurancy of male is: {acc_male}\")"
   ]
  },
  {
   "cell_type": "markdown",
   "id": "3924cc60",
   "metadata": {},
   "source": [
    "The results indicate that gender bias plays a role. But it seems like there is something more going on..."
   ]
  },
  {
   "cell_type": "markdown",
   "id": "3deb2a8f",
   "metadata": {},
   "source": [
    "# Ethnic biases\n",
    "\n",
    "Another common problem is _ethnic bias_. Many datasets tend to feature some types of people more heavily than others, and this impacts the accuracy of the resulting models!\n",
    "\n",
    "In this part of the lab, we will use an approach described by [Mishra et al. (2020)](https://ui.adsabs.harvard.edu/abs/2020arXiv200803415M/abstract):"
   ]
  },
  {
   "cell_type": "code",
   "execution_count": 16,
   "id": "a11f1179",
   "metadata": {},
   "outputs": [
    {
     "name": "stdout",
     "output_type": "stream",
     "text": [
      "dict_keys(['bm', 'bf', 'wm', 'wf', 'hm', 'hf', 'mm', 'mf'])\n",
      "dict_items([('bm', Dataset({\n",
      "    features: ['tokens', 'ner_tags'],\n",
      "    num_rows: 1025\n",
      "})), ('bf', Dataset({\n",
      "    features: ['tokens', 'ner_tags'],\n",
      "    num_rows: 1025\n",
      "})), ('wm', Dataset({\n",
      "    features: ['tokens', 'ner_tags'],\n",
      "    num_rows: 1025\n",
      "})), ('wf', Dataset({\n",
      "    features: ['tokens', 'ner_tags'],\n",
      "    num_rows: 1025\n",
      "})), ('hm', Dataset({\n",
      "    features: ['tokens', 'ner_tags'],\n",
      "    num_rows: 1025\n",
      "})), ('hf', Dataset({\n",
      "    features: ['tokens', 'ner_tags'],\n",
      "    num_rows: 1025\n",
      "})), ('mm', Dataset({\n",
      "    features: ['tokens', 'ner_tags'],\n",
      "    num_rows: 1025\n",
      "})), ('mf', Dataset({\n",
      "    features: ['tokens', 'ner_tags'],\n",
      "    num_rows: 1025\n",
      "}))])\n"
     ]
    }
   ],
   "source": [
    "ethnic_datasets = load_ethnic_datasets() # CoNLL 2003 data processed like in Mishra et al. (2020)\n",
    "print(ethnic_datasets.keys())\n",
    "print(ethnic_datasets.items())"
   ]
  },
  {
   "cell_type": "markdown",
   "id": "ecdb14b0",
   "metadata": {},
   "source": [
    "The first letter in the key is the ethnicity of the name (**b**lack, **h**ispanic, **w**hite, **m**uslim) and the second letter denotes the gender of the name (**m**an, **w**oman). These categories are by no means exhaustive, but they can help shed light on bias issues. Calculate the precision and recall for each group:"
   ]
  },
  {
   "cell_type": "code",
   "execution_count": 17,
   "id": "d67b5b17",
   "metadata": {},
   "outputs": [
    {
     "name": "stderr",
     "output_type": "stream",
     "text": [
      "processing in: bm: 100%|██████████████████████████████████████████████████████████████████████████████████████████████████████████████████████| 1025/1025 [00:05<00:00, 185.45it/s]\n"
     ]
    },
    {
     "name": "stdout",
     "output_type": "stream",
     "text": [
      "The precision of bm is 1.0, the recall is 0.42634146341463414\n"
     ]
    },
    {
     "name": "stderr",
     "output_type": "stream",
     "text": [
      "processing in: bf: 100%|██████████████████████████████████████████████████████████████████████████████████████████████████████████████████████| 1025/1025 [00:05<00:00, 188.21it/s]\n"
     ]
    },
    {
     "name": "stdout",
     "output_type": "stream",
     "text": [
      "The precision of bf is 1.0, the recall is 0.42341463414634145\n"
     ]
    },
    {
     "name": "stderr",
     "output_type": "stream",
     "text": [
      "processing in: wm: 100%|██████████████████████████████████████████████████████████████████████████████████████████████████████████████████████| 1025/1025 [00:05<00:00, 191.30it/s]\n"
     ]
    },
    {
     "name": "stdout",
     "output_type": "stream",
     "text": [
      "The precision of wm is 1.0, the recall is 0.9990243902439024\n"
     ]
    },
    {
     "name": "stderr",
     "output_type": "stream",
     "text": [
      "processing in: wf: 100%|██████████████████████████████████████████████████████████████████████████████████████████████████████████████████████| 1025/1025 [00:05<00:00, 181.80it/s]\n"
     ]
    },
    {
     "name": "stdout",
     "output_type": "stream",
     "text": [
      "The precision of wf is 1.0, the recall is 0.8185365853658536\n"
     ]
    },
    {
     "name": "stderr",
     "output_type": "stream",
     "text": [
      "processing in: hm: 100%|██████████████████████████████████████████████████████████████████████████████████████████████████████████████████████| 1025/1025 [00:05<00:00, 191.41it/s]\n"
     ]
    },
    {
     "name": "stdout",
     "output_type": "stream",
     "text": [
      "The precision of hm is 1.0, the recall is 0.7707317073170732\n"
     ]
    },
    {
     "name": "stderr",
     "output_type": "stream",
     "text": [
      "processing in: hf: 100%|██████████████████████████████████████████████████████████████████████████████████████████████████████████████████████| 1025/1025 [00:05<00:00, 188.73it/s]\n"
     ]
    },
    {
     "name": "stdout",
     "output_type": "stream",
     "text": [
      "The precision of hf is 1.0, the recall is 0.11317073170731708\n"
     ]
    },
    {
     "name": "stderr",
     "output_type": "stream",
     "text": [
      "processing in: mm: 100%|██████████████████████████████████████████████████████████████████████████████████████████████████████████████████████| 1025/1025 [00:05<00:00, 180.59it/s]\n"
     ]
    },
    {
     "name": "stdout",
     "output_type": "stream",
     "text": [
      "The precision of mm is 1.0, the recall is 0.3297560975609756\n"
     ]
    },
    {
     "name": "stderr",
     "output_type": "stream",
     "text": [
      "processing in: mf: 100%|██████████████████████████████████████████████████████████████████████████████████████████████████████████████████████| 1025/1025 [00:05<00:00, 187.99it/s]"
     ]
    },
    {
     "name": "stdout",
     "output_type": "stream",
     "text": [
      "The precision of mf is 1.0, the recall is 0.04682926829268293\n"
     ]
    },
    {
     "name": "stderr",
     "output_type": "stream",
     "text": [
      "\n"
     ]
    }
   ],
   "source": [
    "from sklearn.metrics import precision_score,recall_score\n",
    "\n",
    "#最外层的for循环取出我们的类名和我们的dataset\n",
    "for category, data in ethnic_datasets.items():\n",
    "    #取出token和真实标签\n",
    "    token_list = data[\"tokens\"]\n",
    "    tag_list = data[\"ner_tags\"]\n",
    "    sentences = []\n",
    "    results = []\n",
    "\n",
    "    #还原句子，才能让pipeline处理\n",
    "    #一个英文句子以空格分隔，使用join把列表中的元素收集起来\n",
    "    #按照我的字符串对象分隔组成新的字符串\n",
    "    #然后把每一个句子（字符串）放入句子列表\n",
    "    for each in token_list:\n",
    "        sentence = \" \".join(each)\n",
    "        sentences.append(sentence)\n",
    "\n",
    "    #这里使用pipeline处理数据并预测\n",
    "    #使用tqdm查看进度\n",
    "    #pipeline只接受字符串输入！数组都不行\n",
    "    #一句话返回一个result，加入列表\n",
    "    #返回一个结果列表，我们只看类别\n",
    "    #也就是（entity_group）\n",
    "    for each in tqdm(sentences, desc=f\"processing in: {category}\"):\n",
    "        result = ner_pipeline(each)\n",
    "        results.append(result)\n",
    "\n",
    "    y_true = []\n",
    "    y_pred = []\n",
    "\n",
    "    #我们的tag里面放的是真实结果，\n",
    "    #打印可知结果是0和 1的数组\n",
    "    #是或者不是\n",
    "    for tags in tag_list:\n",
    "        if 1 in tags:\n",
    "            y_true.append(1)\n",
    "        else:\n",
    "            y_true.append(0)\n",
    "    \n",
    "    #我们的结果里面的类别只看PER\n",
    "    #设定一个found旗帜\n",
    "    #和上面一样，如果一句找到一个为PER就停止\n",
    "    #但是要计算我们的两个率\n",
    "    #所以把是不是PER转换成1/0\n",
    "    for result in results:\n",
    "        found = False\n",
    "        for each in result:\n",
    "            if each[\"entity_group\"] == \"PER\":\n",
    "                found = True\n",
    "                break\n",
    "        if found == True:\n",
    "            y_pred.append(1)\n",
    "        else:\n",
    "            y_pred.append(0)\n",
    "\n",
    "    precision = precision_score(y_true, y_pred)\n",
    "    recall = recall_score(y_true, y_pred)\n",
    "\n",
    "    print(f\"The precision of {category} is {precision}, the recall is {recall}\")\n",
    "            \n",
    "    # Evaluate me!"
   ]
  },
  {
   "cell_type": "markdown",
   "id": "ed5fde7b",
   "metadata": {},
   "source": [
    "Can you guess which group was most heavily featured in the training data?"
   ]
  },
  {
   "cell_type": "markdown",
   "id": "b55ab611-bcf7-4d95-a108-74cf6a3c8ab4",
   "metadata": {},
   "source": [
    "The insteresting thing is the precision is always 1, that means all the right answers been predict by the model is right, but some catagaries the recall is low, very low, means the model has bias or discrimination in some people."
   ]
  },
  {
   "cell_type": "markdown",
   "id": "252b3ac6",
   "metadata": {},
   "source": [
    "## Questions!\n",
    "\n",
    "*_What if the bias did not have to do with persons, but with locations. How would you approach the problem of uncovering such biases?_*\n",
    "\n",
    "*_Thankfully, you had a second less problematic dataset at hand. What could have been an alternative way of dealing with the bias?_*\n",
    "\n",
    "*_What could be the ethically problematic consequences from running the initial biased model in production? What would the results look like - and what information would be missed?_*\n",
    "\n",
    "You can write your answers here or in a separate document. Be prepared to discuss these questions at the lab session!"
   ]
  },
  {
   "cell_type": "markdown",
   "id": "4873e3ac-d118-4bea-aa66-e0a09dbdfdde",
   "metadata": {},
   "source": [
    "### Answer\n",
    "\n",
    "\n",
    "1. I think it is good that we use the dataset which has the catagary of locations. Or just has the colum named locations to divide all the different locations.\n",
    "\n",
    "2. As my thought, i think there`s some method that can help with. First is using the re-sampling or adding the \"weight\" inside, to control how important the catagary is\n",
    "\n",
    "3. The most question is the model will create a discrimination, makes the name which have not shown alot in this system be ignored or can not be detected.\n"
   ]
  },
  {
   "cell_type": "markdown",
   "id": "e8ed4510",
   "metadata": {},
   "source": [
    "## Bonus: examples of biased ML\n",
    "\n",
    "https://www.theguardian.com/technology/2016/mar/24/tay-microsofts-ai-chatbot-gets-a-crash-course-in-racism-from-twitter\n",
    "\n",
    "https://www.theverge.com/21298762/face-depixelizer-ai-machine-learning-tool-pulse-stylegan-obama-bias\n",
    "\n",
    "https://www.telegraph.co.uk/technology/2018/10/10/amazon-scraps-sexist-ai-recruiting-tool-showed-bias-against/\n",
    "\n",
    "https://www.wired.com/2009/12/hp-notebooks-racist/\n",
    "\n",
    "https://github.com/daviddao/awful-ai"
   ]
  }
 ],
 "metadata": {
  "kernelspec": {
   "display_name": "Python 3 (ipykernel)",
   "language": "python",
   "name": "python3"
  },
  "language_info": {
   "codemirror_mode": {
    "name": "ipython",
    "version": 3
   },
   "file_extension": ".py",
   "mimetype": "text/x-python",
   "name": "python",
   "nbconvert_exporter": "python",
   "pygments_lexer": "ipython3",
   "version": "3.12.3"
  }
 },
 "nbformat": 4,
 "nbformat_minor": 5
}
